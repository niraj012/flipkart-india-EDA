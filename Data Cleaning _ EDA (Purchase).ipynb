{
 "cells": [
  {
   "cell_type": "markdown",
   "metadata": {
    "id": "0xQnOe1hGDqe"
   },
   "source": [
    "# Data Cleaning & Exploratory Data Analysis (EDA) - Purchase\n",
    "\n",
    "This notebook aims to perform Data Cleaning and EDA on the Flipkart purchase data."
   ]
  },
  {
   "cell_type": "code",
   "execution_count": 3,
   "metadata": {
    "id": "uEQVZXwNGJLF"
   },
   "outputs": [],
   "source": [
    "# import os\n",
    "import datetime\n",
    "import numpy as np\n",
    "import pandas as pd\n",
    "import matplotlib.pyplot as plt\n",
    "%matplotlib inline"
   ]
  },
  {
   "cell_type": "code",
   "execution_count": 19,
   "metadata": {
    "id": "Cv06gy43GcmG"
   },
   "outputs": [],
   "source": [
    "# Load dataset\n",
    "purchase_data = pd.read_csv('data/purchase_data.csv', index_col=0)"
   ]
  },
  {
   "cell_type": "code",
   "execution_count": 20,
   "metadata": {
    "scrolled": false
   },
   "outputs": [
    {
     "data": {
      "text/html": [
       "<div>\n",
       "<style scoped>\n",
       "    .dataframe tbody tr th:only-of-type {\n",
       "        vertical-align: middle;\n",
       "    }\n",
       "\n",
       "    .dataframe tbody tr th {\n",
       "        vertical-align: top;\n",
       "    }\n",
       "\n",
       "    .dataframe thead th {\n",
       "        text-align: right;\n",
       "    }\n",
       "</style>\n",
       "<table border=\"1\" class=\"dataframe\">\n",
       "  <thead>\n",
       "    <tr style=\"text-align: right;\">\n",
       "      <th></th>\n",
       "      <th>Unnamed: 0.1</th>\n",
       "      <th>Invoice ID</th>\n",
       "      <th>Name</th>\n",
       "      <th>Order Date</th>\n",
       "      <th>State</th>\n",
       "      <th>City</th>\n",
       "      <th>Categories</th>\n",
       "      <th>Subcategories</th>\n",
       "      <th>Ratings</th>\n",
       "      <th>Quantity</th>\n",
       "      <th>MRP</th>\n",
       "      <th>Final Price</th>\n",
       "      <th>GST%%</th>\n",
       "      <th>City_Tier</th>\n",
       "      <th>Discount%</th>\n",
       "      <th>Delivery Fee%</th>\n",
       "      <th>Brand</th>\n",
       "      <th>Sale</th>\n",
       "      <th>Covid</th>\n",
       "    </tr>\n",
       "  </thead>\n",
       "  <tbody>\n",
       "    <tr>\n",
       "      <th>0</th>\n",
       "      <td>0</td>\n",
       "      <td>OD103719706054443200</td>\n",
       "      <td>G3M1R1</td>\n",
       "      <td>23-08-2015 00:00</td>\n",
       "      <td>Delhi</td>\n",
       "      <td>New Delhi</td>\n",
       "      <td>Home &amp; Kitchen</td>\n",
       "      <td>Kitchen Appliances</td>\n",
       "      <td>4.1</td>\n",
       "      <td>1</td>\n",
       "      <td>1370.33</td>\n",
       "      <td>1545.0</td>\n",
       "      <td>18%</td>\n",
       "      <td>Tier_1</td>\n",
       "      <td>0</td>\n",
       "      <td>13</td>\n",
       "      <td>Nova</td>\n",
       "      <td>No</td>\n",
       "      <td>No</td>\n",
       "    </tr>\n",
       "    <tr>\n",
       "      <th>1</th>\n",
       "      <td>1</td>\n",
       "      <td>OD106420064045076000</td>\n",
       "      <td>G3M1R1</td>\n",
       "      <td>07-01-2016 00:00</td>\n",
       "      <td>Delhi</td>\n",
       "      <td>New Delhi</td>\n",
       "      <td>Health &amp; Personal Care Appliances</td>\n",
       "      <td>Health Care</td>\n",
       "      <td>4.3</td>\n",
       "      <td>1</td>\n",
       "      <td>1164.76</td>\n",
       "      <td>1260.0</td>\n",
       "      <td>5%</td>\n",
       "      <td>Tier_1</td>\n",
       "      <td>0</td>\n",
       "      <td>9</td>\n",
       "      <td>Omron</td>\n",
       "      <td>No</td>\n",
       "      <td>No</td>\n",
       "    </tr>\n",
       "    <tr>\n",
       "      <th>2</th>\n",
       "      <td>2</td>\n",
       "      <td>OD106420064045076001</td>\n",
       "      <td>G3M1R1</td>\n",
       "      <td>07-01-2016 00:00</td>\n",
       "      <td>Delhi</td>\n",
       "      <td>New Delhi</td>\n",
       "      <td>Clothing and Accessories</td>\n",
       "      <td>Books</td>\n",
       "      <td>4.5</td>\n",
       "      <td>1</td>\n",
       "      <td>596.67</td>\n",
       "      <td>730.0</td>\n",
       "      <td>5%</td>\n",
       "      <td>Tier_1</td>\n",
       "      <td>0</td>\n",
       "      <td>23</td>\n",
       "      <td>Johnson</td>\n",
       "      <td>No</td>\n",
       "      <td>No</td>\n",
       "    </tr>\n",
       "    <tr>\n",
       "      <th>3</th>\n",
       "      <td>3</td>\n",
       "      <td>OD109711988579254000</td>\n",
       "      <td>G3M1R2</td>\n",
       "      <td>17-07-2017 00:00</td>\n",
       "      <td>Delhi</td>\n",
       "      <td>New Delhi</td>\n",
       "      <td>Exercise &amp; Fitness</td>\n",
       "      <td>Fitness Accessories</td>\n",
       "      <td>4.3</td>\n",
       "      <td>1</td>\n",
       "      <td>199.00</td>\n",
       "      <td>199.0</td>\n",
       "      <td>18%</td>\n",
       "      <td>Tier_1</td>\n",
       "      <td>0</td>\n",
       "      <td>0</td>\n",
       "      <td>HAANS</td>\n",
       "      <td>No</td>\n",
       "      <td>No</td>\n",
       "    </tr>\n",
       "    <tr>\n",
       "      <th>4</th>\n",
       "      <td>4</td>\n",
       "      <td>OD109711988579254000</td>\n",
       "      <td>G3M1R2</td>\n",
       "      <td>18-07-2017 00:00</td>\n",
       "      <td>Delhi</td>\n",
       "      <td>New Delhi</td>\n",
       "      <td>Health Care</td>\n",
       "      <td>Health Supplements</td>\n",
       "      <td>4.1</td>\n",
       "      <td>1</td>\n",
       "      <td>4162.00</td>\n",
       "      <td>4162.0</td>\n",
       "      <td>28%</td>\n",
       "      <td>Tier_1</td>\n",
       "      <td>0</td>\n",
       "      <td>0</td>\n",
       "      <td>Muscletech</td>\n",
       "      <td>No</td>\n",
       "      <td>No</td>\n",
       "    </tr>\n",
       "  </tbody>\n",
       "</table>\n",
       "</div>"
      ],
      "text/plain": [
       "   Unnamed: 0.1            Invoice ID    Name        Order Date  State  \\\n",
       "0             0  OD103719706054443200  G3M1R1  23-08-2015 00:00  Delhi   \n",
       "1             1  OD106420064045076000  G3M1R1  07-01-2016 00:00  Delhi   \n",
       "2             2  OD106420064045076001  G3M1R1  07-01-2016 00:00  Delhi   \n",
       "3             3  OD109711988579254000  G3M1R2  17-07-2017 00:00  Delhi   \n",
       "4             4  OD109711988579254000  G3M1R2  18-07-2017 00:00  Delhi   \n",
       "\n",
       "        City                         Categories        Subcategories  Ratings  \\\n",
       "0  New Delhi                     Home & Kitchen   Kitchen Appliances      4.1   \n",
       "1  New Delhi  Health & Personal Care Appliances          Health Care      4.3   \n",
       "2  New Delhi           Clothing and Accessories                Books      4.5   \n",
       "3  New Delhi                 Exercise & Fitness  Fitness Accessories      4.3   \n",
       "4  New Delhi                        Health Care   Health Supplements      4.1   \n",
       "\n",
       "   Quantity      MRP  Final Price GST%% City_Tier  Discount%  Delivery Fee%  \\\n",
       "0         1  1370.33       1545.0   18%    Tier_1          0             13   \n",
       "1         1  1164.76       1260.0    5%    Tier_1          0              9   \n",
       "2         1   596.67        730.0    5%    Tier_1          0             23   \n",
       "3         1   199.00        199.0   18%    Tier_1          0              0   \n",
       "4         1  4162.00       4162.0   28%    Tier_1          0              0   \n",
       "\n",
       "        Brand Sale Covid  \n",
       "0        Nova   No    No  \n",
       "1       Omron   No    No  \n",
       "2     Johnson   No    No  \n",
       "3       HAANS   No    No  \n",
       "4  Muscletech   No    No  "
      ]
     },
     "execution_count": 20,
     "metadata": {},
     "output_type": "execute_result"
    }
   ],
   "source": [
    "purchase_data.head()"
   ]
  },
  {
   "cell_type": "code",
   "execution_count": 21,
   "metadata": {},
   "outputs": [],
   "source": [
    "#Converting rder date column to datetime format\n",
    "purchase_data = purchase_data.drop(purchase_data.columns[0:1], axis=1)\n",
    "purchase_data['Order Date'] = pd.to_datetime(purchase_data['Order Date'])"
   ]
  },
  {
   "cell_type": "code",
   "execution_count": 22,
   "metadata": {
    "colab": {
     "base_uri": "https://localhost:8080/"
    },
    "executionInfo": {
     "elapsed": 340,
     "status": "ok",
     "timestamp": 1649823034286,
     "user": {
      "displayName": "Goh Jia Yi",
      "userId": "03217675921799541747"
     },
     "user_tz": -480
    },
    "id": "oHnaOb58Iow8",
    "outputId": "6199dd41-119f-45ec-df26-fb44def2991f"
   },
   "outputs": [
    {
     "data": {
      "text/plain": [
       "(3179, 18)"
      ]
     },
     "execution_count": 22,
     "metadata": {},
     "output_type": "execute_result"
    }
   ],
   "source": [
    "purchase_data.shape"
   ]
  },
  {
   "cell_type": "code",
   "execution_count": 23,
   "metadata": {
    "colab": {
     "base_uri": "https://localhost:8080/",
     "height": 354
    },
    "executionInfo": {
     "elapsed": 8,
     "status": "ok",
     "timestamp": 1649823035589,
     "user": {
      "displayName": "Goh Jia Yi",
      "userId": "03217675921799541747"
     },
     "user_tz": -480
    },
    "id": "f3Y5H1e3Ie_M",
    "outputId": "c318d6c4-1af3-416c-bbeb-c94fdb8ae698"
   },
   "outputs": [
    {
     "data": {
      "text/html": [
       "<div>\n",
       "<style scoped>\n",
       "    .dataframe tbody tr th:only-of-type {\n",
       "        vertical-align: middle;\n",
       "    }\n",
       "\n",
       "    .dataframe tbody tr th {\n",
       "        vertical-align: top;\n",
       "    }\n",
       "\n",
       "    .dataframe thead th {\n",
       "        text-align: right;\n",
       "    }\n",
       "</style>\n",
       "<table border=\"1\" class=\"dataframe\">\n",
       "  <thead>\n",
       "    <tr style=\"text-align: right;\">\n",
       "      <th></th>\n",
       "      <th>Invoice ID</th>\n",
       "      <th>Name</th>\n",
       "      <th>Order Date</th>\n",
       "      <th>State</th>\n",
       "      <th>City</th>\n",
       "      <th>Categories</th>\n",
       "      <th>Subcategories</th>\n",
       "      <th>Ratings</th>\n",
       "      <th>Quantity</th>\n",
       "      <th>MRP</th>\n",
       "      <th>Final Price</th>\n",
       "      <th>GST%%</th>\n",
       "      <th>City_Tier</th>\n",
       "      <th>Discount%</th>\n",
       "      <th>Delivery Fee%</th>\n",
       "      <th>Brand</th>\n",
       "      <th>Sale</th>\n",
       "      <th>Covid</th>\n",
       "    </tr>\n",
       "  </thead>\n",
       "  <tbody>\n",
       "    <tr>\n",
       "      <th>0</th>\n",
       "      <td>OD103719706054443200</td>\n",
       "      <td>G3M1R1</td>\n",
       "      <td>2015-08-23</td>\n",
       "      <td>Delhi</td>\n",
       "      <td>New Delhi</td>\n",
       "      <td>Home &amp; Kitchen</td>\n",
       "      <td>Kitchen Appliances</td>\n",
       "      <td>4.1</td>\n",
       "      <td>1</td>\n",
       "      <td>1370.33</td>\n",
       "      <td>1545.0</td>\n",
       "      <td>18%</td>\n",
       "      <td>Tier_1</td>\n",
       "      <td>0</td>\n",
       "      <td>13</td>\n",
       "      <td>Nova</td>\n",
       "      <td>No</td>\n",
       "      <td>No</td>\n",
       "    </tr>\n",
       "    <tr>\n",
       "      <th>1</th>\n",
       "      <td>OD106420064045076000</td>\n",
       "      <td>G3M1R1</td>\n",
       "      <td>2016-07-01</td>\n",
       "      <td>Delhi</td>\n",
       "      <td>New Delhi</td>\n",
       "      <td>Health &amp; Personal Care Appliances</td>\n",
       "      <td>Health Care</td>\n",
       "      <td>4.3</td>\n",
       "      <td>1</td>\n",
       "      <td>1164.76</td>\n",
       "      <td>1260.0</td>\n",
       "      <td>5%</td>\n",
       "      <td>Tier_1</td>\n",
       "      <td>0</td>\n",
       "      <td>9</td>\n",
       "      <td>Omron</td>\n",
       "      <td>No</td>\n",
       "      <td>No</td>\n",
       "    </tr>\n",
       "    <tr>\n",
       "      <th>2</th>\n",
       "      <td>OD106420064045076001</td>\n",
       "      <td>G3M1R1</td>\n",
       "      <td>2016-07-01</td>\n",
       "      <td>Delhi</td>\n",
       "      <td>New Delhi</td>\n",
       "      <td>Clothing and Accessories</td>\n",
       "      <td>Books</td>\n",
       "      <td>4.5</td>\n",
       "      <td>1</td>\n",
       "      <td>596.67</td>\n",
       "      <td>730.0</td>\n",
       "      <td>5%</td>\n",
       "      <td>Tier_1</td>\n",
       "      <td>0</td>\n",
       "      <td>23</td>\n",
       "      <td>Johnson</td>\n",
       "      <td>No</td>\n",
       "      <td>No</td>\n",
       "    </tr>\n",
       "    <tr>\n",
       "      <th>3</th>\n",
       "      <td>OD109711988579254000</td>\n",
       "      <td>G3M1R2</td>\n",
       "      <td>2017-07-17</td>\n",
       "      <td>Delhi</td>\n",
       "      <td>New Delhi</td>\n",
       "      <td>Exercise &amp; Fitness</td>\n",
       "      <td>Fitness Accessories</td>\n",
       "      <td>4.3</td>\n",
       "      <td>1</td>\n",
       "      <td>199.00</td>\n",
       "      <td>199.0</td>\n",
       "      <td>18%</td>\n",
       "      <td>Tier_1</td>\n",
       "      <td>0</td>\n",
       "      <td>0</td>\n",
       "      <td>HAANS</td>\n",
       "      <td>No</td>\n",
       "      <td>No</td>\n",
       "    </tr>\n",
       "    <tr>\n",
       "      <th>4</th>\n",
       "      <td>OD109711988579254000</td>\n",
       "      <td>G3M1R2</td>\n",
       "      <td>2017-07-18</td>\n",
       "      <td>Delhi</td>\n",
       "      <td>New Delhi</td>\n",
       "      <td>Health Care</td>\n",
       "      <td>Health Supplements</td>\n",
       "      <td>4.1</td>\n",
       "      <td>1</td>\n",
       "      <td>4162.00</td>\n",
       "      <td>4162.0</td>\n",
       "      <td>28%</td>\n",
       "      <td>Tier_1</td>\n",
       "      <td>0</td>\n",
       "      <td>0</td>\n",
       "      <td>Muscletech</td>\n",
       "      <td>No</td>\n",
       "      <td>No</td>\n",
       "    </tr>\n",
       "  </tbody>\n",
       "</table>\n",
       "</div>"
      ],
      "text/plain": [
       "             Invoice ID    Name Order Date  State       City  \\\n",
       "0  OD103719706054443200  G3M1R1 2015-08-23  Delhi  New Delhi   \n",
       "1  OD106420064045076000  G3M1R1 2016-07-01  Delhi  New Delhi   \n",
       "2  OD106420064045076001  G3M1R1 2016-07-01  Delhi  New Delhi   \n",
       "3  OD109711988579254000  G3M1R2 2017-07-17  Delhi  New Delhi   \n",
       "4  OD109711988579254000  G3M1R2 2017-07-18  Delhi  New Delhi   \n",
       "\n",
       "                          Categories        Subcategories  Ratings  Quantity  \\\n",
       "0                     Home & Kitchen   Kitchen Appliances      4.1         1   \n",
       "1  Health & Personal Care Appliances          Health Care      4.3         1   \n",
       "2           Clothing and Accessories                Books      4.5         1   \n",
       "3                 Exercise & Fitness  Fitness Accessories      4.3         1   \n",
       "4                        Health Care   Health Supplements      4.1         1   \n",
       "\n",
       "       MRP  Final Price GST%% City_Tier  Discount%  Delivery Fee%       Brand  \\\n",
       "0  1370.33       1545.0   18%    Tier_1          0             13        Nova   \n",
       "1  1164.76       1260.0    5%    Tier_1          0              9       Omron   \n",
       "2   596.67        730.0    5%    Tier_1          0             23     Johnson   \n",
       "3   199.00        199.0   18%    Tier_1          0              0       HAANS   \n",
       "4  4162.00       4162.0   28%    Tier_1          0              0  Muscletech   \n",
       "\n",
       "  Sale Covid  \n",
       "0   No    No  \n",
       "1   No    No  \n",
       "2   No    No  \n",
       "3   No    No  \n",
       "4   No    No  "
      ]
     },
     "execution_count": 23,
     "metadata": {},
     "output_type": "execute_result"
    }
   ],
   "source": [
    "purchase_data.head()"
   ]
  },
  {
   "cell_type": "code",
   "execution_count": 24,
   "metadata": {
    "colab": {
     "base_uri": "https://localhost:8080/"
    },
    "executionInfo": {
     "elapsed": 320,
     "status": "ok",
     "timestamp": 1649823037909,
     "user": {
      "displayName": "Goh Jia Yi",
      "userId": "03217675921799541747"
     },
     "user_tz": -480
    },
    "id": "Exrx7I9T52-5",
    "outputId": "ee7c0571-5798-42a6-c383-79b81ba46d2f"
   },
   "outputs": [
    {
     "name": "stdout",
     "output_type": "stream",
     "text": [
      "<class 'pandas.core.frame.DataFrame'>\n",
      "Int64Index: 3179 entries, 0 to 3178\n",
      "Data columns (total 18 columns):\n",
      " #   Column         Non-Null Count  Dtype         \n",
      "---  ------         --------------  -----         \n",
      " 0   Invoice ID     3179 non-null   object        \n",
      " 1   Name           3179 non-null   object        \n",
      " 2   Order Date     3179 non-null   datetime64[ns]\n",
      " 3   State          3179 non-null   object        \n",
      " 4   City           3179 non-null   object        \n",
      " 5   Categories     3179 non-null   object        \n",
      " 6   Subcategories  3179 non-null   object        \n",
      " 7   Ratings        3179 non-null   float64       \n",
      " 8   Quantity       3179 non-null   int64         \n",
      " 9   MRP            3179 non-null   float64       \n",
      " 10  Final Price    3179 non-null   float64       \n",
      " 11  GST%%          3179 non-null   object        \n",
      " 12  City_Tier      3179 non-null   object        \n",
      " 13  Discount%      3179 non-null   int64         \n",
      " 14  Delivery Fee%  3179 non-null   int64         \n",
      " 15  Brand          3161 non-null   object        \n",
      " 16  Sale           3179 non-null   object        \n",
      " 17  Covid          3179 non-null   object        \n",
      "dtypes: datetime64[ns](1), float64(3), int64(3), object(11)\n",
      "memory usage: 471.9+ KB\n"
     ]
    }
   ],
   "source": [
    "purchase_data.info()"
   ]
  },
  {
   "cell_type": "markdown",
   "metadata": {
    "id": "ZYHP8TOgny83"
   },
   "source": [
    "# Data Cleaning"
   ]
  },
  {
   "cell_type": "markdown",
   "metadata": {
    "id": "InV0Z2-1ITku"
   },
   "source": [
    "### Drop duplicated rows"
   ]
  },
  {
   "cell_type": "code",
   "execution_count": 25,
   "metadata": {
    "colab": {
     "base_uri": "https://localhost:8080/"
    },
    "executionInfo": {
     "elapsed": 8,
     "status": "ok",
     "timestamp": 1649621810077,
     "user": {
      "displayName": "Goh Jia Yi",
      "userId": "03217675921799541747"
     },
     "user_tz": -480
    },
    "id": "DQuzwNEfIT6Q",
    "outputId": "14d99ecb-cd5b-4107-9b04-856b8e6fa11c"
   },
   "outputs": [
    {
     "data": {
      "text/plain": [
       "13"
      ]
     },
     "execution_count": 25,
     "metadata": {},
     "output_type": "execute_result"
    }
   ],
   "source": [
    "purchase_data.duplicated().sum()"
   ]
  },
  {
   "cell_type": "code",
   "execution_count": 26,
   "metadata": {
    "id": "55xOAg61IYCX"
   },
   "outputs": [],
   "source": [
    "#dropping duplicate values\n",
    "purchase_data.drop_duplicates(inplace=True)"
   ]
  },
  {
   "cell_type": "code",
   "execution_count": 27,
   "metadata": {
    "colab": {
     "base_uri": "https://localhost:8080/"
    },
    "executionInfo": {
     "elapsed": 5,
     "status": "ok",
     "timestamp": 1648656147852,
     "user": {
      "displayName": "Goh Jia Yi",
      "userId": "03217675921799541747"
     },
     "user_tz": -480
    },
    "id": "DoXU61m7IrJQ",
    "outputId": "d41c189e-e2df-4ff3-841f-df50101fadc0"
   },
   "outputs": [
    {
     "data": {
      "text/plain": [
       "(3166, 18)"
      ]
     },
     "execution_count": 27,
     "metadata": {},
     "output_type": "execute_result"
    }
   ],
   "source": [
    "purchase_data.shape"
   ]
  },
  {
   "cell_type": "markdown",
   "metadata": {
    "id": "weJ_kgfkmgg9"
   },
   "source": [
    "### Check for null values"
   ]
  },
  {
   "cell_type": "code",
   "execution_count": 31,
   "metadata": {
    "colab": {
     "base_uri": "https://localhost:8080/"
    },
    "executionInfo": {
     "elapsed": 4,
     "status": "ok",
     "timestamp": 1648656150246,
     "user": {
      "displayName": "Goh Jia Yi",
      "userId": "03217675921799541747"
     },
     "user_tz": -480
    },
    "id": "GvPo2L44mie4",
    "outputId": "3d1b189f-37b2-4ab6-ab13-b860b7ae4b4d"
   },
   "outputs": [
    {
     "data": {
      "text/plain": [
       "Invoice ID       0\n",
       "Name             0\n",
       "Order Date       0\n",
       "State            0\n",
       "City             0\n",
       "Categories       0\n",
       "Subcategories    0\n",
       "Ratings          0\n",
       "Quantity         0\n",
       "MRP              0\n",
       "Final Price      0\n",
       "GST%%            0\n",
       "City_Tier        0\n",
       "Discount%        0\n",
       "Delivery Fee%    0\n",
       "Brand            0\n",
       "Sale             0\n",
       "Covid            0\n",
       "dtype: int64"
      ]
     },
     "execution_count": 31,
     "metadata": {},
     "output_type": "execute_result"
    }
   ],
   "source": [
    "purchase_data.isnull().sum()"
   ]
  },
  {
   "cell_type": "code",
   "execution_count": 29,
   "metadata": {},
   "outputs": [],
   "source": [
    "purchase_data.dropna(subset=['Brand'], inplace=True)"
   ]
  },
  {
   "cell_type": "markdown",
   "metadata": {
    "id": "KD6J2PhmIUIc"
   },
   "source": [
    "## Tackling Mismatched Invoice ID and Other Variables"
   ]
  },
  {
   "cell_type": "code",
   "execution_count": 32,
   "metadata": {
    "colab": {
     "base_uri": "https://localhost:8080/"
    },
    "executionInfo": {
     "elapsed": 6,
     "status": "ok",
     "timestamp": 1648656153727,
     "user": {
      "displayName": "Goh Jia Yi",
      "userId": "03217675921799541747"
     },
     "user_tz": -480
    },
    "id": "jxFB61A9qbO3",
    "outputId": "075ba12a-21d9-485b-b24c-0f92860cacbf"
   },
   "outputs": [
    {
     "data": {
      "text/plain": [
       "2745"
      ]
     },
     "execution_count": 32,
     "metadata": {},
     "output_type": "execute_result"
    }
   ],
   "source": [
    "# Geting unique Invoice IDs\n",
    "unique_invoice_ids = list(purchase_data['Invoice ID'].unique())\n",
    "len(unique_invoice_ids)"
   ]
  },
  {
   "cell_type": "code",
   "execution_count": 33,
   "metadata": {
    "id": "S5CUgJpzJdSm"
   },
   "outputs": [],
   "source": [
    "def get_mismatched_invoice_ids(col_name):\n",
    "  mismatch_invoice_ids = []\n",
    "\n",
    "  global purchase_data, unique_invoice_ids\n",
    "\n",
    "  for invoice_id in unique_invoice_ids:\n",
    "    rows = purchase_data[purchase_data['Invoice ID']==invoice_id].drop_duplicates(subset=['Invoice ID', col_name])\n",
    "    if rows.shape[0] > 1:\n",
    "      mismatch_invoice_ids.append(invoice_id)\n",
    "\n",
    "  return mismatch_invoice_ids"
   ]
  },
  {
   "cell_type": "markdown",
   "metadata": {
    "id": "oDOpE24qiOUZ"
   },
   "source": [
    "### Option 1: Drop all mismatched rows (selected)"
   ]
  },
  {
   "cell_type": "code",
   "execution_count": 34,
   "metadata": {
    "id": "EOJppKTZmqL7"
   },
   "outputs": [],
   "source": [
    "mismatch_name_invoice_ids = get_mismatched_invoice_ids('Name')\n",
    "mismatch_date_invoice_ids = get_mismatched_invoice_ids('Order Date')\n",
    "mismatch_state_invoice_ids = get_mismatched_invoice_ids('State')\n",
    "mismatch_city_invoice_ids = get_mismatched_invoice_ids('City')"
   ]
  },
  {
   "cell_type": "code",
   "execution_count": 35,
   "metadata": {
    "id": "hclFHef_lxTS"
   },
   "outputs": [],
   "source": [
    "mismatch_invoice_id = list(set(mismatch_name_invoice_ids + mismatch_date_invoice_ids + mismatch_state_invoice_ids + mismatch_city_invoice_ids))"
   ]
  },
  {
   "cell_type": "code",
   "execution_count": 36,
   "metadata": {
    "colab": {
     "base_uri": "https://localhost:8080/"
    },
    "executionInfo": {
     "elapsed": 21,
     "status": "ok",
     "timestamp": 1648655910822,
     "user": {
      "displayName": "Goh Jia Yi",
      "userId": "03217675921799541747"
     },
     "user_tz": -480
    },
    "id": "2IWxEQXHl029",
    "outputId": "78b7f569-2914-4bc9-b711-deb0b97725cb"
   },
   "outputs": [
    {
     "data": {
      "text/plain": [
       "64"
      ]
     },
     "execution_count": 36,
     "metadata": {},
     "output_type": "execute_result"
    }
   ],
   "source": [
    "len(mismatch_invoice_id)"
   ]
  },
  {
   "cell_type": "code",
   "execution_count": 37,
   "metadata": {
    "colab": {
     "base_uri": "https://localhost:8080/"
    },
    "executionInfo": {
     "elapsed": 4,
     "status": "ok",
     "timestamp": 1648656157322,
     "user": {
      "displayName": "Goh Jia Yi",
      "userId": "03217675921799541747"
     },
     "user_tz": -480
    },
    "id": "T7kd26Ysl06y",
    "outputId": "a63d57c8-da92-487d-9558-4aa512d344a9"
   },
   "outputs": [
    {
     "data": {
      "text/plain": [
       "(171, 18)"
      ]
     },
     "execution_count": 37,
     "metadata": {},
     "output_type": "execute_result"
    }
   ],
   "source": [
    "mismatch_purchase_data = purchase_data[purchase_data['Invoice ID'].isin(mismatch_invoice_id)]\n",
    "mismatch_purchase_data.shape"
   ]
  },
  {
   "cell_type": "code",
   "execution_count": 38,
   "metadata": {
    "colab": {
     "base_uri": "https://localhost:8080/"
    },
    "executionInfo": {
     "elapsed": 3,
     "status": "ok",
     "timestamp": 1648656158869,
     "user": {
      "displayName": "Goh Jia Yi",
      "userId": "03217675921799541747"
     },
     "user_tz": -480
    },
    "id": "Z2ILkAQll3Um",
    "outputId": "5fa0cff4-9adf-4da0-99cc-ee804f2f3f80"
   },
   "outputs": [
    {
     "data": {
      "text/plain": [
       "(2977, 18)"
      ]
     },
     "execution_count": 38,
     "metadata": {},
     "output_type": "execute_result"
    }
   ],
   "source": [
    "purchase_data = purchase_data[~purchase_data['Invoice ID'].isin(mismatch_invoice_id)]\n",
    "purchase_data.shape"
   ]
  },
  {
   "cell_type": "markdown",
   "metadata": {
    "id": "rwYwCLMSUbRf"
   },
   "source": [
    "#### Update time-related columns"
   ]
  },
  {
   "cell_type": "code",
   "execution_count": 39,
   "metadata": {
    "id": "q343Ctv1VWQw"
   },
   "outputs": [],
   "source": [
    "# Drop time-related columns\n",
    "purchase_data.drop(columns=['Covid', 'Sale', 'City_Tier'], inplace=True)"
   ]
  },
  {
   "cell_type": "markdown",
   "metadata": {
    "id": "zeC9Nw4Qh7YJ"
   },
   "source": [
    "##### Covid"
   ]
  },
  {
   "cell_type": "code",
   "execution_count": 40,
   "metadata": {
    "id": "156REGowlzN2"
   },
   "outputs": [],
   "source": [
    "def covid_or_not(df,start_date,end_date,wave):\n",
    "    df.loc[(df['Order Date']>start_date)  & (df['Order Date']<=end_date),'Covid'] = wave\n",
    "    df['Order Date'] = pd.to_datetime(df['Order Date'])\n",
    "    return df\n",
    "\n",
    "purchase_data['Covid'] = 'No'\n",
    "purchase_data = covid_or_not(purchase_data,'2020-04-01','2020-10-30','1st Wave')\n",
    "purchase_data = covid_or_not(purchase_data,'2021-03-20','2021-06-03','2nd Wave')"
   ]
  },
  {
   "cell_type": "code",
   "execution_count": 41,
   "metadata": {
    "colab": {
     "base_uri": "https://localhost:8080/"
    },
    "executionInfo": {
     "elapsed": 9,
     "status": "ok",
     "timestamp": 1647513039197,
     "user": {
      "displayName": "Goh Jia Yi",
      "photoUrl": "https://lh3.googleusercontent.com/a-/AOh14GhFu0U58SdJXrGt1uy0jxtX61Nw2fV0y_9fhi_y4g=s64",
      "userId": "03217675921799541747"
     },
     "user_tz": -480
    },
    "id": "a5tTBYJcS13k",
    "outputId": "c1d91a78-493b-4cba-e876-b23d1e1663ff"
   },
   "outputs": [
    {
     "data": {
      "text/plain": [
       "No          1835\n",
       "1st Wave     809\n",
       "2nd Wave     333\n",
       "Name: Covid, dtype: int64"
      ]
     },
     "execution_count": 41,
     "metadata": {},
     "output_type": "execute_result"
    }
   ],
   "source": [
    "purchase_data['Covid'].value_counts()"
   ]
  },
  {
   "cell_type": "markdown",
   "metadata": {
    "id": "zD1RGk2zh-9T"
   },
   "source": [
    "##### City Tier"
   ]
  },
  {
   "cell_type": "code",
   "execution_count": 42,
   "metadata": {
    "id": "BvzKUezHTpkx"
   },
   "outputs": [],
   "source": [
    "tier_1 = ['Delhi','Pune','Ahmedabad','Bengaluru','Chennai','Hyderabad','Kolkata','Mumbai']\n",
    "tier_2 = ['Agra','Ajmer','Aligarh','Amravati','Amritsar','Asansol','Aurangabad','Bareilly','Belgaum','Bhavnagar','Bhiwandi','Bhopal','Bhubaneswar',\n",
    "'Bikaner','Bilaspur','Bokaro Steel City','Chandigarh','Coimbatore','Cuttack','Dehradun','Dhanbad','Bhilai','Durgapur','Erode','Faridabad',\n",
    "'Firozabad','Ghaziabad','Gorakhpur','Gulbarga','Guntur','Gwalior','Gurugram','Guwahati','Hamirpur','Hubli–Dharwad','Indore','Jabalpur',\n",
    "'Jaipur','Jalandhar','Jalgaon','Jammu','Jamnagar','Jamshedpur','Jhansi','Jodhpur','Navi Mumbai ','Kakinada','Kannur','Kanpur','Karnal',\n",
    "'Kochi','Kolhapur','Kollam','Kozhikode','Kurnool','Ludhiana','Lucknow','Madurai','Malappuram','Mathura','Mangalore','Meerut','Moradabad',\n",
    "'Mysore','Nagpur','Nanded','Nashik','Nellore','Navi Mumbai','Noida','Patna','Puducherry','Purulia','Prayagraj','Raipur','Rajkot','Rajamahendravaram',\n",
    "'Ranchi','Rourkela','Ratlam','Salem','Sangli','Shimla','Siliguri','Solapur','Srinagar','Surat','Thanjavur','Thiruvananthapuram','Thrissur',\n",
    "'Tiruchirappalli','Tirunelveli','Tiruvannamalai','Ujjain','Vijayapura','Vadodara','Varanasi','Vasai-Virar City','Vijayawada','Visakhapatnam','Vellore Andhra Pradesh']"
   ]
  },
  {
   "cell_type": "code",
   "execution_count": 43,
   "metadata": {
    "id": "zwLu1HXPT5Bw"
   },
   "outputs": [],
   "source": [
    "purchase_data['City Tier'] = 'Tier 3'\n",
    "\n",
    "for i in tier_1:\n",
    "    purchase_data.loc[purchase_data['State']==i,'City Tier'] = 'Tier 1'\n",
    "for i in tier_1:\n",
    "    purchase_data.loc[purchase_data['City']==i,'City Tier'] = 'Tier 1'\n",
    "    \n",
    "for i in tier_2:\n",
    "    purchase_data.loc[purchase_data['City']==i,'City Tier'] = 'Tier 2'"
   ]
  },
  {
   "cell_type": "code",
   "execution_count": 44,
   "metadata": {
    "colab": {
     "base_uri": "https://localhost:8080/"
    },
    "executionInfo": {
     "elapsed": 12,
     "status": "ok",
     "timestamp": 1647513047724,
     "user": {
      "displayName": "Goh Jia Yi",
      "photoUrl": "https://lh3.googleusercontent.com/a-/AOh14GhFu0U58SdJXrGt1uy0jxtX61Nw2fV0y_9fhi_y4g=s64",
      "userId": "03217675921799541747"
     },
     "user_tz": -480
    },
    "id": "WhXvOwPzUIND",
    "outputId": "459bd542-8634-4674-9d31-6c8e0faefff8"
   },
   "outputs": [
    {
     "data": {
      "text/plain": [
       "Tier 2    1097\n",
       "Tier 3    1067\n",
       "Tier 1     813\n",
       "Name: City Tier, dtype: int64"
      ]
     },
     "execution_count": 44,
     "metadata": {},
     "output_type": "execute_result"
    }
   ],
   "source": [
    "purchase_data['City Tier'].value_counts()"
   ]
  },
  {
   "cell_type": "markdown",
   "metadata": {
    "id": "YvGMwYITiCN7"
   },
   "source": [
    "## Rename GST% column"
   ]
  },
  {
   "cell_type": "code",
   "execution_count": 45,
   "metadata": {
    "id": "DWcDzMj6VIfD"
   },
   "outputs": [],
   "source": [
    "# Rename column\n",
    "purchase_data.rename(columns={\"GST%%\": \"GST%\"}, inplace=True)"
   ]
  },
  {
   "cell_type": "markdown",
   "metadata": {
    "id": "PvL7ctq_jGu8"
   },
   "source": [
    "## Remove 2011 rows"
   ]
  },
  {
   "cell_type": "code",
   "execution_count": 46,
   "metadata": {
    "id": "5FPPiaiSjN8C"
   },
   "outputs": [],
   "source": [
    "purchase_data = purchase_data[purchase_data['Order Date'] >= '2012-01-01']"
   ]
  },
  {
   "cell_type": "markdown",
   "metadata": {
    "id": "1AsaRLdPnvZ3"
   },
   "source": [
    "## Export"
   ]
  },
  {
   "cell_type": "code",
   "execution_count": 47,
   "metadata": {
    "colab": {
     "base_uri": "https://localhost:8080/"
    },
    "executionInfo": {
     "elapsed": 5,
     "status": "ok",
     "timestamp": 1648656166170,
     "user": {
      "displayName": "Goh Jia Yi",
      "userId": "03217675921799541747"
     },
     "user_tz": -480
    },
    "id": "G0BDZ2Msj94g",
    "outputId": "e74fd1a7-d416-4f25-a5f1-b94e5a9e7cdb"
   },
   "outputs": [
    {
     "data": {
      "text/plain": [
       "(2955, 17)"
      ]
     },
     "execution_count": 47,
     "metadata": {},
     "output_type": "execute_result"
    }
   ],
   "source": [
    "purchase_data.shape"
   ]
  },
  {
   "cell_type": "code",
   "execution_count": 48,
   "metadata": {
    "id": "v0pQqIqmnvCt"
   },
   "outputs": [],
   "source": [
    "# # Save to CSV\n",
    "purchase_data.to_csv('Data/purchase_clean.csv', index=False)"
   ]
  },
  {
   "cell_type": "markdown",
   "metadata": {
    "id": "bEE8WH6-np6H"
   },
   "source": [
    "# Exploratory Data Analysis (EDA)"
   ]
  },
  {
   "cell_type": "code",
   "execution_count": 4,
   "metadata": {
    "id": "I78L7B9boSUL"
   },
   "outputs": [],
   "source": [
    "# Load clean CSV file\n",
    "purchase_data = pd.read_csv('data/purchase_clean.csv')\n",
    "purchase_data['Order Date'] = pd.to_datetime(purchase_data['Order Date'])"
   ]
  },
  {
   "cell_type": "code",
   "execution_count": 5,
   "metadata": {},
   "outputs": [
    {
     "data": {
      "text/html": [
       "<div>\n",
       "<style scoped>\n",
       "    .dataframe tbody tr th:only-of-type {\n",
       "        vertical-align: middle;\n",
       "    }\n",
       "\n",
       "    .dataframe tbody tr th {\n",
       "        vertical-align: top;\n",
       "    }\n",
       "\n",
       "    .dataframe thead th {\n",
       "        text-align: right;\n",
       "    }\n",
       "</style>\n",
       "<table border=\"1\" class=\"dataframe\">\n",
       "  <thead>\n",
       "    <tr style=\"text-align: right;\">\n",
       "      <th></th>\n",
       "      <th>Invoice ID</th>\n",
       "      <th>Name</th>\n",
       "      <th>Order Date</th>\n",
       "      <th>State</th>\n",
       "      <th>City</th>\n",
       "      <th>Categories</th>\n",
       "      <th>Subcategories</th>\n",
       "      <th>Ratings</th>\n",
       "      <th>Quantity</th>\n",
       "      <th>MRP</th>\n",
       "      <th>Final Price</th>\n",
       "      <th>GST%</th>\n",
       "      <th>Discount%</th>\n",
       "      <th>Delivery Fee%</th>\n",
       "      <th>Brand</th>\n",
       "      <th>Covid</th>\n",
       "      <th>City Tier</th>\n",
       "    </tr>\n",
       "  </thead>\n",
       "  <tbody>\n",
       "    <tr>\n",
       "      <th>0</th>\n",
       "      <td>OD103719706054443200</td>\n",
       "      <td>G3M1R1</td>\n",
       "      <td>2015-08-23</td>\n",
       "      <td>Delhi</td>\n",
       "      <td>New Delhi</td>\n",
       "      <td>Home &amp; Kitchen</td>\n",
       "      <td>Kitchen Appliances</td>\n",
       "      <td>4.1</td>\n",
       "      <td>1</td>\n",
       "      <td>1370.33</td>\n",
       "      <td>1545.0</td>\n",
       "      <td>18%</td>\n",
       "      <td>0</td>\n",
       "      <td>13</td>\n",
       "      <td>Nova</td>\n",
       "      <td>No</td>\n",
       "      <td>Tier 1</td>\n",
       "    </tr>\n",
       "    <tr>\n",
       "      <th>1</th>\n",
       "      <td>OD106420064045076000</td>\n",
       "      <td>G3M1R1</td>\n",
       "      <td>2016-07-01</td>\n",
       "      <td>Delhi</td>\n",
       "      <td>New Delhi</td>\n",
       "      <td>Health &amp; Personal Care Appliances</td>\n",
       "      <td>Health Care</td>\n",
       "      <td>4.3</td>\n",
       "      <td>1</td>\n",
       "      <td>1164.76</td>\n",
       "      <td>1260.0</td>\n",
       "      <td>5%</td>\n",
       "      <td>0</td>\n",
       "      <td>9</td>\n",
       "      <td>Omron</td>\n",
       "      <td>No</td>\n",
       "      <td>Tier 1</td>\n",
       "    </tr>\n",
       "    <tr>\n",
       "      <th>2</th>\n",
       "      <td>OD106420064045076001</td>\n",
       "      <td>G3M1R1</td>\n",
       "      <td>2016-07-01</td>\n",
       "      <td>Delhi</td>\n",
       "      <td>New Delhi</td>\n",
       "      <td>Clothing and Accessories</td>\n",
       "      <td>Books</td>\n",
       "      <td>4.5</td>\n",
       "      <td>1</td>\n",
       "      <td>596.67</td>\n",
       "      <td>730.0</td>\n",
       "      <td>5%</td>\n",
       "      <td>0</td>\n",
       "      <td>23</td>\n",
       "      <td>Johnson</td>\n",
       "      <td>No</td>\n",
       "      <td>Tier 1</td>\n",
       "    </tr>\n",
       "    <tr>\n",
       "      <th>3</th>\n",
       "      <td>OD110363877142631000</td>\n",
       "      <td>G3M1R3</td>\n",
       "      <td>2017-09-30</td>\n",
       "      <td>Delhi</td>\n",
       "      <td>New Delhi</td>\n",
       "      <td>Home Decor</td>\n",
       "      <td>Wall Decor Items</td>\n",
       "      <td>3.5</td>\n",
       "      <td>1</td>\n",
       "      <td>209.00</td>\n",
       "      <td>209.0</td>\n",
       "      <td>12%</td>\n",
       "      <td>0</td>\n",
       "      <td>0</td>\n",
       "      <td>Bexton</td>\n",
       "      <td>No</td>\n",
       "      <td>Tier 1</td>\n",
       "    </tr>\n",
       "    <tr>\n",
       "      <th>4</th>\n",
       "      <td>OD110510509516810000</td>\n",
       "      <td>G3M1R3</td>\n",
       "      <td>2017-10-17</td>\n",
       "      <td>Delhi</td>\n",
       "      <td>New Delhi</td>\n",
       "      <td>Exercise &amp; Fitness</td>\n",
       "      <td>Yoga</td>\n",
       "      <td>4.7</td>\n",
       "      <td>1</td>\n",
       "      <td>696.00</td>\n",
       "      <td>626.0</td>\n",
       "      <td>28%</td>\n",
       "      <td>11</td>\n",
       "      <td>0</td>\n",
       "      <td>Proline</td>\n",
       "      <td>No</td>\n",
       "      <td>Tier 1</td>\n",
       "    </tr>\n",
       "  </tbody>\n",
       "</table>\n",
       "</div>"
      ],
      "text/plain": [
       "             Invoice ID    Name Order Date  State       City  \\\n",
       "0  OD103719706054443200  G3M1R1 2015-08-23  Delhi  New Delhi   \n",
       "1  OD106420064045076000  G3M1R1 2016-07-01  Delhi  New Delhi   \n",
       "2  OD106420064045076001  G3M1R1 2016-07-01  Delhi  New Delhi   \n",
       "3  OD110363877142631000  G3M1R3 2017-09-30  Delhi  New Delhi   \n",
       "4  OD110510509516810000  G3M1R3 2017-10-17  Delhi  New Delhi   \n",
       "\n",
       "                          Categories       Subcategories  Ratings  Quantity  \\\n",
       "0                     Home & Kitchen  Kitchen Appliances      4.1         1   \n",
       "1  Health & Personal Care Appliances         Health Care      4.3         1   \n",
       "2           Clothing and Accessories               Books      4.5         1   \n",
       "3                         Home Decor    Wall Decor Items      3.5         1   \n",
       "4                 Exercise & Fitness                Yoga      4.7         1   \n",
       "\n",
       "       MRP  Final Price GST%  Discount%  Delivery Fee%    Brand Covid  \\\n",
       "0  1370.33       1545.0  18%          0             13     Nova    No   \n",
       "1  1164.76       1260.0   5%          0              9    Omron    No   \n",
       "2   596.67        730.0   5%          0             23  Johnson    No   \n",
       "3   209.00        209.0  12%          0              0   Bexton    No   \n",
       "4   696.00        626.0  28%         11              0  Proline    No   \n",
       "\n",
       "  City Tier  \n",
       "0    Tier 1  \n",
       "1    Tier 1  \n",
       "2    Tier 1  \n",
       "3    Tier 1  \n",
       "4    Tier 1  "
      ]
     },
     "execution_count": 5,
     "metadata": {},
     "output_type": "execute_result"
    }
   ],
   "source": [
    "purchase_data.head()"
   ]
  },
  {
   "cell_type": "markdown",
   "metadata": {
    "id": "VaQFv3n4pJg9"
   },
   "source": [
    "## Visualisations"
   ]
  },
  {
   "cell_type": "markdown",
   "metadata": {
    "id": "3ykKSmHspRp1"
   },
   "source": [
    "### Purchase Volume across time\n",
    "Based on the number of Invoices"
   ]
  },
  {
   "cell_type": "code",
   "execution_count": 33,
   "metadata": {
    "colab": {
     "base_uri": "https://localhost:8080/",
     "height": 295
    },
    "executionInfo": {
     "elapsed": 450,
     "status": "ok",
     "timestamp": 1649777200691,
     "user": {
      "displayName": "Goh Jia Yi",
      "userId": "03217675921799541747"
     },
     "user_tz": -480
    },
    "id": "eODFGsm1pKdj",
    "outputId": "02b230e7-c46a-4dbb-e774-e01655f84e83"
   },
   "outputs": [
    {
     "data": {
      "image/png": "[encoded data removed]",
      "text/plain": [
       "<Figure size 720x432 with 1 Axes>"
      ]
     },
     "metadata": {
      "needs_background": "light"
     },
     "output_type": "display_data"
    }
   ],
   "source": [
    "#Purchase volumen per month\n",
    "purchase_data['Order Month'] = purchase_data['Order Date'].dt.to_period('M') \n",
    "s = purchase_data.drop_duplicates(subset=['Invoice ID'])['Order Month'].value_counts().sort_index()\n",
    "plt.figure(figsize=(10,6))\n",
    "s.plot(color='green')\n",
    "plt.title('Purchase Volume Months Wise')\n",
    "plt.xlabel('Year')\n",
    "plt.ylabel('No. of Purchases')\n",
    "plt.show()"
   ]
  },
  {
   "cell_type": "code",
   "execution_count": 34,
   "metadata": {
    "colab": {
     "base_uri": "https://localhost:8080/",
     "height": 311
    },
    "executionInfo": {
     "elapsed": 302,
     "status": "ok",
     "timestamp": 1648656256556,
     "user": {
      "displayName": "Goh Jia Yi",
      "userId": "03217675921799541747"
     },
     "user_tz": -480
    },
    "id": "-JG6fIbwpaSq",
    "outputId": "176a2fe3-a41a-4f97-dca8-1af4f291c788"
   },
   "outputs": [
    {
     "data": {
      "image/png": "[encoded data removed]",
      "text/plain": [
       "<Figure size 720x432 with 1 Axes>"
      ]
     },
     "metadata": {
      "needs_background": "light"
     },
     "output_type": "display_data"
    }
   ],
   "source": [
    "#purchase volume per year\n",
    "purchase_data['Order Year'] = purchase_data['Order Date'].dt.to_period('Y') \n",
    "s = purchase_data.drop_duplicates(subset=['Invoice ID'])['Order Year'].value_counts().sort_index()\n",
    "plt.figure(figsize=(10,6))\n",
    "s.plot.bar(color='darkorange')\n",
    "plt.title('Purchase Volume Year Wise')\n",
    "plt.xlabel('Year')\n",
    "plt.ylabel('No. of Purchases')\n",
    "plt.show()"
   ]
  },
  {
   "cell_type": "raw",
   "metadata": {},
   "source": [
    "From the above plots we can see increase in purchase volume of flipkart in 2020 & 2021.\n",
    "There could be several factors that contributed to the increase in purchase volume on Flipkart in 2020 and 2021. Here are a few possible explanations:\n",
    "\n",
    "COVID-19 pandemic: The COVID-19 pandemic forced many people to stay at home and limit their in-person shopping, leading to a surge in e-commerce sales. This could have contributed to the increase in purchase volume on Flipkart.\n",
    "\n",
    "Increase in online shopping: Even before the pandemic, online shopping was becoming increasingly popular in India. As more people have access to the internet and smartphones, they are more likely to shop online. This trend may have continued to grow in 2020 and 2021, contributing to the increase in purchase volume on Flipkart.\n",
    "\n",
    "Expansion of Flipkart's offerings: Flipkart has expanded its offerings beyond just electronics and gadgets to include a wider range of products, including groceries, fashion, and home goods. This expansion may have attracted new customers and led to increased purchase volume.\n",
    "\n",
    "Promotions and discounts: Flipkart regularly offers promotions and discounts to its customers, which can incentivize people to make purchases. If Flipkart increased the frequency or intensity of these promotions in 2020 and 2021, it could have contributed to the increase in purchase volume."
   ]
  },
  {
   "cell_type": "markdown",
   "metadata": {
    "id": "L8evbQAqqDlB"
   },
   "source": [
    "### No. of Items Purchased in each Invoice"
   ]
  },
  {
   "cell_type": "code",
   "execution_count": 36,
   "metadata": {
    "colab": {
     "base_uri": "https://localhost:8080/",
     "height": 295
    },
    "executionInfo": {
     "elapsed": 659,
     "status": "ok",
     "timestamp": 1648656260222,
     "user": {
      "displayName": "Goh Jia Yi",
      "userId": "03217675921799541747"
     },
     "user_tz": -480
    },
    "id": "75qS9uWmpuHs",
    "outputId": "3a078882-62e5-432e-a15e-5731cf2d6718"
   },
   "outputs": [
    {
     "data": {
      "image/png": "[encoded data removed]",
      "text/plain": [
       "<Figure size 720x432 with 1 Axes>"
      ]
     },
     "metadata": {
      "needs_background": "light"
     },
     "output_type": "display_data"
    }
   ],
   "source": [
    "s = purchase_data.groupby('Invoice ID').sum()['Quantity'].value_counts().sort_index()\n",
    "plt.figure(figsize=(10,6))\n",
    "s.plot.hist(color='darkorange')\n",
    "plt.title('Distribution of No. of Items Purchased in each Invoice')\n",
    "plt.xlabel('No. of Items Purchased')\n",
    "plt.ylabel('Frequency')\n",
    "plt.show()"
   ]
  },
  {
   "cell_type": "code",
   "execution_count": 60,
   "metadata": {},
   "outputs": [
    {
     "data": {
      "text/plain": [
       "FAE03O2100113149        19\n",
       "FABYDW2102125989        16\n",
       "FABYDW2200282886        14\n",
       "FABYDW2200589707        14\n",
       "OD121851878113002000    13\n",
       "                        ..\n",
       "OD121466343614848000     1\n",
       "OD120196451943972000     1\n",
       "FABZZQ2000224829         1\n",
       "FABZDC2101925166         1\n",
       "FACY382100000173         1\n",
       "Name: Invoice ID, Length: 2659, dtype: int64"
      ]
     },
     "execution_count": 60,
     "metadata": {},
     "output_type": "execute_result"
    }
   ],
   "source": [
    "purchase_data['Invoice ID'].value_counts()"
   ]
  },
  {
   "cell_type": "code",
   "execution_count": 10,
   "metadata": {
    "colab": {
     "base_uri": "https://localhost:8080/",
     "height": 281
    },
    "executionInfo": {
     "elapsed": 561,
     "status": "ok",
     "timestamp": 1648656260778,
     "user": {
      "displayName": "Goh Jia Yi",
      "userId": "03217675921799541747"
     },
     "user_tz": -480
    },
    "id": "_0K6GlfTqHBQ",
    "outputId": "03b2e1a6-c60c-47c5-93c8-2788814e8fb1"
   },
   "outputs": [
    {
     "data": {
      "image/png": "[encoded data removed]",
      "text/plain": [
       "<Figure size 720x432 with 1 Axes>"
      ]
     },
     "metadata": {
      "needs_background": "light"
     },
     "output_type": "display_data"
    }
   ],
   "source": [
    "quant_item = purchase_data.groupby('Invoice ID').sum()['Quantity'].value_counts().sort_index()\n",
    "plt.figure(figsize=(10,6))\n",
    "plt.boxplot(quant_item)\n",
    "plt.title('Box Plot of No. of Items Purchased in each Invoice')\n",
    "plt.show()"
   ]
  },
  {
   "cell_type": "raw",
   "metadata": {},
   "source": [
    "Based on above analysis, it appears that customers typically only purchase 1 to 30 items in each invoice. This information can provide insight into customer behavior and preferences, as well as help inform inventory management and order fulfillment strategies.\n",
    "\n",
    "Knowing that customers tend to purchase a relatively small number of items in each order could be useful in several ways. For example, it could help Flipkart optimize its packaging and shipping processes to ensure that smaller orders are still shipped efficiently and cost-effectively. It could also inform the types of products that Flipkart stocks and promotes, as certain products may be more appealing to customers who prefer to make smaller purchases."
   ]
  },
  {
   "cell_type": "markdown",
   "metadata": {
    "id": "dCqNuSmbqVyt"
   },
   "source": [
    "### Distribution of Final Price across Invoices"
   ]
  },
  {
   "cell_type": "code",
   "execution_count": null,
   "metadata": {
    "colab": {
     "base_uri": "https://localhost:8080/",
     "height": 295
    },
    "executionInfo": {
     "elapsed": 350,
     "status": "ok",
     "timestamp": 1648656261122,
     "user": {
      "displayName": "Goh Jia Yi",
      "userId": "03217675921799541747"
     },
     "user_tz": -480
    },
    "id": "nr8Fk_98qRp7",
    "outputId": "d54b0342-e6ee-4911-f06c-832b8303cde6"
   },
   "outputs": [
    {
     "data": {
      "image/png": "[encoded data removed]",
      "text/plain": [
       "<Figure size 432x288 with 1 Axes>"
      ]
     },
     "metadata": {
      "needs_background": "light"
     },
     "output_type": "display_data"
    }
   ],
   "source": [
    "fp_inv = purchase_data.drop_duplicates('Invoice ID')['Final Price']\n",
    "plt.figure(figsize=(10,6))\n",
    "fp_inv.plot.hist(color='darkorange')\n",
    "plt.title('Distribution of Final Price in each Invoice')\n",
    "plt.xlabel('Final Price')\n",
    "plt.ylabel('Frequency')\n",
    "plt.show()"
   ]
  },
  {
   "cell_type": "raw",
   "metadata": {},
   "source": [
    "From the above visualization it has seen that most of the customers purchase upto 25000 rupees. There are several reasons behind it like:\n",
    " - Price sensitivity: Customers may be price-sensitive and prefer to make smaller purchases to stay within their budget.\n",
    "\n",
    " - Product preferences: Flipkart offers a wide range of products, and customers may prefer to purchase smaller items or products with lower price points.\n",
    "\n",
    " - Payment options: Some payment options may have a limit on the transaction amount, which could influence customers to make smaller purchases.\n",
    "\n",
    " - Shipping concerns: Customers may be hesitant to purchase large or expensive items due to concerns about shipping and delivery."
   ]
  },
  {
   "cell_type": "markdown",
   "metadata": {
    "id": "KLNEP5bsquOq"
   },
   "source": [
    "### Top 10 Categories for Items Purchased\n",
    "Based on the sum of all quantities"
   ]
  },
  {
   "cell_type": "code",
   "execution_count": 83,
   "metadata": {
    "colab": {
     "base_uri": "https://localhost:8080/",
     "height": 411
    },
    "executionInfo": {
     "elapsed": 831,
     "status": "ok",
     "timestamp": 1648656263502,
     "user": {
      "displayName": "Goh Jia Yi",
      "userId": "03217675921799541747"
     },
     "user_tz": -480
    },
    "id": "3Ur9cDb0qazG",
    "outputId": "2952257a-dace-4113-f79e-a156440b7b42"
   },
   "outputs": [
    {
     "data": {
      "image/png": "[encoded data removed]",
      "text/plain": [
       "<Figure size 720x432 with 1 Axes>"
      ]
     },
     "metadata": {
      "needs_background": "light"
     },
     "output_type": "display_data"
    }
   ],
   "source": [
    "quant= purchase_data.groupby('Categories').sum()['Quantity']\n",
    "quant = quant.nlargest(10)\n",
    "plt.figure(figsize=(10,6))\n",
    "plt.bar(quant.index, quant.values, color='darkorange')\n",
    "plt.title('Top 10 purchased Categories')\n",
    "plt.xlabel('Category')\n",
    "plt.ylabel('Frequency')\n",
    "plt.xticks(rotation=90)\n",
    "plt.show()"
   ]
  },
  {
   "cell_type": "code",
   "execution_count": 84,
   "metadata": {
    "colab": {
     "base_uri": "https://localhost:8080/",
     "height": 433
    },
    "executionInfo": {
     "elapsed": 548,
     "status": "ok",
     "timestamp": 1648656265046,
     "user": {
      "displayName": "Goh Jia Yi",
      "userId": "03217675921799541747"
     },
     "user_tz": -480
    },
    "id": "Fz549nRxq7p7",
    "outputId": "69310092-3ff1-40da-bac4-d852aee627c6"
   },
   "outputs": [
    {
     "data": {
      "image/png": "[encoded data removed]",
      "text/plain": [
       "<Figure size 720x432 with 1 Axes>"
      ]
     },
     "metadata": {
      "needs_background": "light"
     },
     "output_type": "display_data"
    }
   ],
   "source": [
    "subcat = purchase_data.groupby('Subcategories').sum()['Quantity']\n",
    "subcat = subcat.nlargest(10)\n",
    "plt.figure(figsize=(10,6))\n",
    "subcat.plot.bar(color='darkorange')\n",
    "plt.title('Top 10 purchased Subcategories')\n",
    "plt.xlabel('Subcategory')\n",
    "plt.ylabel('Frequency')\n",
    "plt.xticks(rotation=90)\n",
    "plt.show()"
   ]
  },
  {
   "cell_type": "markdown",
   "metadata": {
    "id": "Lw9KQnkxrMEC"
   },
   "source": [
    "### Top 10 Final Price Subcategories"
   ]
  },
  {
   "cell_type": "code",
   "execution_count": 87,
   "metadata": {
    "colab": {
     "base_uri": "https://localhost:8080/",
     "height": 483
    },
    "executionInfo": {
     "elapsed": 846,
     "status": "ok",
     "timestamp": 1648656267357,
     "user": {
      "displayName": "Goh Jia Yi",
      "userId": "03217675921799541747"
     },
     "user_tz": -480
    },
    "id": "7ruGDzMfqxkf",
    "outputId": "b99f2a3d-42be-4677-92ad-8f6feaa544e8"
   },
   "outputs": [
    {
     "data": {
      "image/png": "[encoded data removed]",
      "text/plain": [
       "<Figure size 720x432 with 1 Axes>"
      ]
     },
     "metadata": {
      "needs_background": "light"
     },
     "output_type": "display_data"
    }
   ],
   "source": [
    "# Category wise\n",
    "cat_fp = purchase_data.groupby('Categories').mean()['Final Price']\n",
    "cat_fp = cat_fp.nlargest(10)\n",
    "plt.figure(figsize=(10,6))\n",
    "cat_fp.plot.bar(color='darkorange')\n",
    "plt.title('Top 10 Average Final Price Categories')\n",
    "plt.xlabel('Category')\n",
    "plt.ylabel('Frequency')\n",
    "plt.show()"
   ]
  },
  {
   "cell_type": "code",
   "execution_count": 88,
   "metadata": {
    "colab": {
     "base_uri": "https://localhost:8080/",
     "height": 400
    },
    "executionInfo": {
     "elapsed": 491,
     "status": "ok",
     "timestamp": 1648656267843,
     "user": {
      "displayName": "Goh Jia Yi",
      "userId": "03217675921799541747"
     },
     "user_tz": -480
    },
    "id": "tddeBTFJr55i",
    "outputId": "65220686-a786-4d0d-c6e1-f87b77b18338",
    "scrolled": false
   },
   "outputs": [
    {
     "data": {
      "image/png": "[encoded data removed]",
      "text/plain": [
       "<Figure size 720x432 with 1 Axes>"
      ]
     },
     "metadata": {
      "needs_background": "light"
     },
     "output_type": "display_data"
    }
   ],
   "source": [
    "# Subcategory wise\n",
    "subcat_fp = purchase_data.groupby('Subcategories').mean()['Final Price']\n",
    "subcat_fp = subcat_fp.nlargest(10)\n",
    "plt.figure(figsize=(10,6))\n",
    "subcat_fp.plot.bar(color='darkorange')\n",
    "plt.title('Top 10 Average Final Price Subcategories')\n",
    "plt.xlabel('Subcategory')\n",
    "plt.ylabel('Frequency')\n",
    "plt.show()"
   ]
  },
  {
   "cell_type": "raw",
   "metadata": {},
   "source": [
    "From the above plots we came to know thaat cameras & Accessories contain products with high price range. So let see top brand in that category on the basis of ratings."
   ]
  },
  {
   "cell_type": "markdown",
   "metadata": {},
   "source": [
    "# Top Brands in a Category based in ratings"
   ]
  },
  {
   "cell_type": "code",
   "execution_count": 28,
   "metadata": {},
   "outputs": [
    {
     "data": {
      "text/html": [
       "<div>\n",
       "<style scoped>\n",
       "    .dataframe tbody tr th:only-of-type {\n",
       "        vertical-align: middle;\n",
       "    }\n",
       "\n",
       "    .dataframe tbody tr th {\n",
       "        vertical-align: top;\n",
       "    }\n",
       "\n",
       "    .dataframe thead th {\n",
       "        text-align: right;\n",
       "    }\n",
       "</style>\n",
       "<table border=\"1\" class=\"dataframe\">\n",
       "  <thead>\n",
       "    <tr style=\"text-align: right;\">\n",
       "      <th></th>\n",
       "      <th>Categories</th>\n",
       "      <th>Brand</th>\n",
       "      <th>Ratings</th>\n",
       "    </tr>\n",
       "  </thead>\n",
       "  <tbody>\n",
       "    <tr>\n",
       "      <th>27</th>\n",
       "      <td>Cameras &amp; Accessories</td>\n",
       "      <td>Nikon</td>\n",
       "      <td>4.5</td>\n",
       "    </tr>\n",
       "    <tr>\n",
       "      <th>28</th>\n",
       "      <td>Cameras &amp; Accessories</td>\n",
       "      <td>SONY</td>\n",
       "      <td>4.5</td>\n",
       "    </tr>\n",
       "    <tr>\n",
       "      <th>29</th>\n",
       "      <td>Cameras &amp; Accessories</td>\n",
       "      <td>OLECTRA</td>\n",
       "      <td>4.2</td>\n",
       "    </tr>\n",
       "  </tbody>\n",
       "</table>\n",
       "</div>"
      ],
      "text/plain": [
       "               Categories    Brand  Ratings\n",
       "27  Cameras & Accessories    Nikon      4.5\n",
       "28  Cameras & Accessories     SONY      4.5\n",
       "29  Cameras & Accessories  OLECTRA      4.2"
      ]
     },
     "execution_count": 28,
     "metadata": {},
     "output_type": "execute_result"
    }
   ],
   "source": [
    "gp_cat_brand = purchase_data.groupby(['Categories', 'Brand']).agg({'Ratings': 'mean'}).reset_index()\n",
    "highest_ratings = (gp_cat_brand.groupby('Categories').apply(lambda x: x.nlargest(3, ['Ratings'])).reset_index(drop=True))\n",
    "highest_ratings.loc[highest_ratings['Categories']=='Cameras & Accessories']"
   ]
  },
  {
   "cell_type": "markdown",
   "metadata": {
    "id": "Z7jBQTjHr-EK"
   },
   "source": [
    "### Combination of Frequently-bought Categories"
   ]
  },
  {
   "cell_type": "code",
   "execution_count": 89,
   "metadata": {
    "id": "XYiOV3X4rzSk"
   },
   "outputs": [],
   "source": [
    "unique_invoice_ids = purchase_data['Invoice ID'].unique()"
   ]
  },
  {
   "cell_type": "code",
   "execution_count": 90,
   "metadata": {
    "id": "NA0QnaGjsD9D"
   },
   "outputs": [],
   "source": [
    "cat_combi = {}\n",
    "\n",
    "for invoice_id in unique_invoice_ids:\n",
    "  rows = purchase_data[purchase_data['Invoice ID'] == invoice_id]\n",
    "  categories = rows['Categories'].unique().tolist()\n",
    "  if len(categories) > 1:\n",
    "    categories.sort()\n",
    "    categories = str(categories)\n",
    "\n",
    "    if categories in cat_combi.keys():\n",
    "      cat_combi[categories] += 1\n",
    "    else:\n",
    "      cat_combi[categories] = 1"
   ]
  },
  {
   "cell_type": "code",
   "execution_count": 93,
   "metadata": {
    "colab": {
     "base_uri": "https://localhost:8080/",
     "height": 875
    },
    "executionInfo": {
     "elapsed": 1667,
     "status": "ok",
     "timestamp": 1648656272034,
     "user": {
      "displayName": "Goh Jia Yi",
      "userId": "03217675921799541747"
     },
     "user_tz": -480
    },
    "id": "XAJocd5usD_V",
    "outputId": "e5b41171-0bbb-4f91-d1a8-db755b9d52bd"
   },
   "outputs": [
    {
     "data": {
      "image/png": "[encoded data removed]",
      "text/plain": [
       "<Figure size 864x576 with 1 Axes>"
      ]
     },
     "metadata": {
      "needs_background": "light"
     },
     "output_type": "display_data"
    }
   ],
   "source": [
    "plt.figure(figsize=(12,8))\n",
    "plt.bar(range(len(cat_combi)), list(cat_combi.values()), align='center')\n",
    "plt.xticks(range(len(cat_combi)), list(cat_combi.keys()), rotation=90)\n",
    "plt.title('Combination of Frequently-bought Categories')\n",
    "plt.xlabel('Category')\n",
    "plt.ylabel('Frequency')\n",
    "plt.show()"
   ]
  },
  {
   "cell_type": "code",
   "execution_count": 95,
   "metadata": {},
   "outputs": [
    {
     "data": {
      "text/plain": [
       "['Food Products', 'Home Cleaning & Bathroom Accessories']                                         3\n",
       "['Beauty and Grooming', 'Food Products', 'Home Cleaning & Bathroom Accessories']                  2\n",
       "['Home & Kitchen', 'Kitchen, Cookware & Serveware']                                               2\n",
       "['Beauty and Grooming', 'Exercise & Fitness']                                                     2\n",
       "['Footwear', 'Home Improvement']                                                                  2\n",
       "['Beauty and Grooming', 'Clothing and Accessories']                                               2\n",
       "['Books', 'Health & Personal Care Appliances']                                                    1\n",
       "['Automotive Accessories', 'Beauty and Grooming', 'Clothing and Accessories', 'Food Products']    1\n",
       "['Food Products', 'Kitchen, Cookware & Serveware']                                                1\n",
       "['Food Products', 'Home Lighting']                                                                1\n",
       "dtype: int64"
      ]
     },
     "execution_count": 95,
     "metadata": {},
     "output_type": "execute_result"
    }
   ],
   "source": [
    "top_10 = pd.Series(cat_combi).nlargest(10)\n",
    "top_10"
   ]
  }
 ],
 "metadata": {
  "colab": {
   "collapsed_sections": [
    "oDOpE24qiOUZ",
    "1jDoQ139dWtQ",
    "6R-__CASWLSg"
   ],
   "name": "Data Cleaning & EDA (Purchase).ipynb",
   "provenance": []
  },
  "kernelspec": {
   "display_name": "Python 3 (ipykernel)",
   "language": "python",
   "name": "python3"
  },
  "language_info": {
   "codemirror_mode": {
    "name": "ipython",
    "version": 3
   },
   "file_extension": ".py",
   "mimetype": "text/x-python",
   "name": "python",
   "nbconvert_exporter": "python",
   "pygments_lexer": "ipython3",
   "version": "3.9.12"
  }
 },
 "nbformat": 4,
 "nbformat_minor": 1
}
