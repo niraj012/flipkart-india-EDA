{
 "cells": [
  {
   "cell_type": "markdown",
   "metadata": {
    "id": "lIga0OAxhTTr"
   },
   "source": [
    "# Data Cleaning & Exploratory Data Analysis (EDA) - Psychometric and Demographic\n",
    "\n",
    "This notebook aims to perform Data Cleaning and EDA on the Flipkart psychometric and demographic data."
   ]
  },
  {
   "cell_type": "code",
   "execution_count": 1,
   "metadata": {
    "id": "I6G1PmaMhakB"
   },
   "outputs": [],
   "source": [
    "import os\n",
    "import numpy as np\n",
    "import pandas as pd\n",
    "import matplotlib.pyplot as plt\n",
    "import seaborn as sns\n",
    "%matplotlib inline"
   ]
  },
  {
   "cell_type": "code",
   "execution_count": 9,
   "metadata": {
    "id": "f9qcIfShhcB0"
   },
   "outputs": [],
   "source": [
    "# Load dataset\n",
    "psycometric_data = pd.read_csv('data/Psychometric and Demographic Data.csv', index_col=0)\n",
    "psycometric_data.reset_index(drop=True, inplace=True) # Reset index due to dirty data"
   ]
  },
  {
   "cell_type": "code",
   "execution_count": 10,
   "metadata": {
    "colab": {
     "base_uri": "https://localhost:8080/"
    },
    "executionInfo": {
     "elapsed": 5,
     "status": "ok",
     "timestamp": 1655920121276,
     "user": {
      "displayName": "Goh Jia Yi",
      "userId": "03217675921799541747"
     },
     "user_tz": -480
    },
    "id": "p0wnyBLahcFo",
    "outputId": "ef61a636-8abb-472d-ce5f-8c633f65326c"
   },
   "outputs": [
    {
     "data": {
      "text/plain": [
       "(304, 59)"
      ]
     },
     "execution_count": 10,
     "metadata": {},
     "output_type": "execute_result"
    }
   ],
   "source": [
    "psycometric_data.shape"
   ]
  },
  {
   "cell_type": "code",
   "execution_count": 11,
   "metadata": {
    "colab": {
     "base_uri": "https://localhost:8080/",
     "height": 647
    },
    "executionInfo": {
     "elapsed": 427,
     "status": "ok",
     "timestamp": 1655920133665,
     "user": {
      "displayName": "Goh Jia Yi",
      "userId": "03217675921799541747"
     },
     "user_tz": -480
    },
    "id": "FS9VUwT8hfjm",
    "outputId": "94d44136-86ef-44f8-de83-5c43cba06583"
   },
   "outputs": [
    {
     "data": {
      "text/html": [
       "<div>\n",
       "<style scoped>\n",
       "    .dataframe tbody tr th:only-of-type {\n",
       "        vertical-align: middle;\n",
       "    }\n",
       "\n",
       "    .dataframe tbody tr th {\n",
       "        vertical-align: top;\n",
       "    }\n",
       "\n",
       "    .dataframe thead th {\n",
       "        text-align: right;\n",
       "    }\n",
       "</style>\n",
       "<table border=\"1\" class=\"dataframe\">\n",
       "  <thead>\n",
       "    <tr style=\"text-align: right;\">\n",
       "      <th></th>\n",
       "      <th>Name</th>\n",
       "      <th>Gender</th>\n",
       "      <th>Current Job Title</th>\n",
       "      <th>Marital Status</th>\n",
       "      <th>Do you have to care for anyone with chronic illness?</th>\n",
       "      <th>Income (per month)</th>\n",
       "      <th>Preferred Mode of Payment</th>\n",
       "      <th>Do you practise meditation? Yes/No</th>\n",
       "      <th>If yes</th>\n",
       "      <th>Do you do any form of exercise?</th>\n",
       "      <th>...</th>\n",
       "      <th>I believe success in life does not mean becoming rich</th>\n",
       "      <th>I segregate waste before its disposal</th>\n",
       "      <th>I try to conserve water</th>\n",
       "      <th>I try to educate people I know about climate change</th>\n",
       "      <th>I sign petitions related to environmental issues</th>\n",
       "      <th>I try to conserve electricity</th>\n",
       "      <th>I walk/cycle/use public transport to save fuel</th>\n",
       "      <th>Age</th>\n",
       "      <th>has_child</th>\n",
       "      <th>Lives_in_city_tier</th>\n",
       "    </tr>\n",
       "  </thead>\n",
       "  <tbody>\n",
       "    <tr>\n",
       "      <th>0</th>\n",
       "      <td>G6M1R6</td>\n",
       "      <td>Male</td>\n",
       "      <td>Service Engineer</td>\n",
       "      <td>Not Married</td>\n",
       "      <td>No</td>\n",
       "      <td>Prefer Not to Say</td>\n",
       "      <td>UPI</td>\n",
       "      <td>No</td>\n",
       "      <td>No</td>\n",
       "      <td>No</td>\n",
       "      <td>...</td>\n",
       "      <td>5</td>\n",
       "      <td>4</td>\n",
       "      <td>5</td>\n",
       "      <td>4</td>\n",
       "      <td>3</td>\n",
       "      <td>4</td>\n",
       "      <td>4</td>\n",
       "      <td>24</td>\n",
       "      <td>No</td>\n",
       "      <td>Tier_2</td>\n",
       "    </tr>\n",
       "    <tr>\n",
       "      <th>1</th>\n",
       "      <td>G6M1R1</td>\n",
       "      <td>Male</td>\n",
       "      <td>Production Engineer</td>\n",
       "      <td>Not Married</td>\n",
       "      <td>No</td>\n",
       "      <td>Rs. 25,000 – 50,000</td>\n",
       "      <td>UPI</td>\n",
       "      <td>No</td>\n",
       "      <td>I have never tried.</td>\n",
       "      <td>Yes</td>\n",
       "      <td>...</td>\n",
       "      <td>6</td>\n",
       "      <td>2</td>\n",
       "      <td>6</td>\n",
       "      <td>6</td>\n",
       "      <td>5</td>\n",
       "      <td>2</td>\n",
       "      <td>3</td>\n",
       "      <td>25</td>\n",
       "      <td>No</td>\n",
       "      <td>Tier_2</td>\n",
       "    </tr>\n",
       "    <tr>\n",
       "      <th>2</th>\n",
       "      <td>G6M1R8</td>\n",
       "      <td>Female</td>\n",
       "      <td>Lecturer</td>\n",
       "      <td>Married</td>\n",
       "      <td>No</td>\n",
       "      <td>Rs. 50,000 – 75,000</td>\n",
       "      <td>UPI</td>\n",
       "      <td>No</td>\n",
       "      <td>I have never tried.</td>\n",
       "      <td>Yes</td>\n",
       "      <td>...</td>\n",
       "      <td>7</td>\n",
       "      <td>4</td>\n",
       "      <td>7</td>\n",
       "      <td>7</td>\n",
       "      <td>7</td>\n",
       "      <td>6</td>\n",
       "      <td>6</td>\n",
       "      <td>30</td>\n",
       "      <td>No</td>\n",
       "      <td>Tier 3</td>\n",
       "    </tr>\n",
       "    <tr>\n",
       "      <th>3</th>\n",
       "      <td>G6M1R5</td>\n",
       "      <td>Male</td>\n",
       "      <td>Student</td>\n",
       "      <td>Not Married</td>\n",
       "      <td>No</td>\n",
       "      <td>Prefer Not to Say</td>\n",
       "      <td>Debit Card</td>\n",
       "      <td>No</td>\n",
       "      <td>No</td>\n",
       "      <td>Yes</td>\n",
       "      <td>...</td>\n",
       "      <td>6</td>\n",
       "      <td>2</td>\n",
       "      <td>6</td>\n",
       "      <td>6</td>\n",
       "      <td>4</td>\n",
       "      <td>6</td>\n",
       "      <td>6</td>\n",
       "      <td>24</td>\n",
       "      <td>No</td>\n",
       "      <td>Tier_2</td>\n",
       "    </tr>\n",
       "    <tr>\n",
       "      <th>4</th>\n",
       "      <td>G6M1R9</td>\n",
       "      <td>Male</td>\n",
       "      <td>Student</td>\n",
       "      <td>Not Married</td>\n",
       "      <td>No</td>\n",
       "      <td>Prefer Not to Say</td>\n",
       "      <td>Debit Card</td>\n",
       "      <td>No</td>\n",
       "      <td>I have never tried.</td>\n",
       "      <td>No</td>\n",
       "      <td>...</td>\n",
       "      <td>7</td>\n",
       "      <td>7</td>\n",
       "      <td>7</td>\n",
       "      <td>7</td>\n",
       "      <td>7</td>\n",
       "      <td>7</td>\n",
       "      <td>7</td>\n",
       "      <td>23</td>\n",
       "      <td>No</td>\n",
       "      <td>Tier_2</td>\n",
       "    </tr>\n",
       "  </tbody>\n",
       "</table>\n",
       "<p>5 rows × 59 columns</p>\n",
       "</div>"
      ],
      "text/plain": [
       "     Name  Gender    Current Job Title Marital Status  \\\n",
       "0  G6M1R6    Male     Service Engineer    Not Married   \n",
       "1  G6M1R1    Male  Production Engineer    Not Married   \n",
       "2  G6M1R8  Female             Lecturer        Married   \n",
       "3  G6M1R5    Male              Student    Not Married   \n",
       "4  G6M1R9    Male              Student    Not Married   \n",
       "\n",
       "  Do you have to care for anyone with chronic illness?   Income (per month)  \\\n",
       "0                                                 No      Prefer Not to Say   \n",
       "1                                                 No    Rs. 25,000 – 50,000   \n",
       "2                                                 No    Rs. 50,000 – 75,000   \n",
       "3                                                 No      Prefer Not to Say   \n",
       "4                                                 No      Prefer Not to Say   \n",
       "\n",
       "  Preferred Mode of Payment Do you practise meditation? Yes/No  \\\n",
       "0                       UPI                                 No   \n",
       "1                       UPI                                 No   \n",
       "2                       UPI                                 No   \n",
       "3                Debit Card                                 No   \n",
       "4                Debit Card                                 No   \n",
       "\n",
       "                If yes Do you do any form of exercise?  ...  \\\n",
       "0                   No                              No  ...   \n",
       "1  I have never tried.                             Yes  ...   \n",
       "2  I have never tried.                             Yes  ...   \n",
       "3                   No                             Yes  ...   \n",
       "4  I have never tried.                              No  ...   \n",
       "\n",
       "  I believe success in life does not mean becoming rich  \\\n",
       "0                                                  5      \n",
       "1                                                  6      \n",
       "2                                                  7      \n",
       "3                                                  6      \n",
       "4                                                  7      \n",
       "\n",
       "  I segregate waste before its disposal  I try to conserve water  \\\n",
       "0                                     4                        5   \n",
       "1                                     2                        6   \n",
       "2                                     4                        7   \n",
       "3                                     2                        6   \n",
       "4                                     7                        7   \n",
       "\n",
       "  I try to educate people I know about climate change  \\\n",
       "0                                                  4    \n",
       "1                                                  6    \n",
       "2                                                  7    \n",
       "3                                                  6    \n",
       "4                                                  7    \n",
       "\n",
       "   I sign petitions related to environmental issues  \\\n",
       "0                                                 3   \n",
       "1                                                 5   \n",
       "2                                                 7   \n",
       "3                                                 4   \n",
       "4                                                 7   \n",
       "\n",
       "   I try to conserve electricity  \\\n",
       "0                              4   \n",
       "1                              2   \n",
       "2                              6   \n",
       "3                              6   \n",
       "4                              7   \n",
       "\n",
       "   I walk/cycle/use public transport to save fuel  Age  has_child  \\\n",
       "0                                               4   24         No   \n",
       "1                                               3   25         No   \n",
       "2                                               6   30         No   \n",
       "3                                               6   24         No   \n",
       "4                                               7   23         No   \n",
       "\n",
       "   Lives_in_city_tier  \n",
       "0              Tier_2  \n",
       "1              Tier_2  \n",
       "2              Tier 3  \n",
       "3              Tier_2  \n",
       "4              Tier_2  \n",
       "\n",
       "[5 rows x 59 columns]"
      ]
     },
     "execution_count": 11,
     "metadata": {},
     "output_type": "execute_result"
    }
   ],
   "source": [
    "psycometric_data.head()"
   ]
  },
  {
   "cell_type": "code",
   "execution_count": 12,
   "metadata": {
    "colab": {
     "base_uri": "https://localhost:8080/"
    },
    "executionInfo": {
     "elapsed": 548,
     "status": "ok",
     "timestamp": 1655920137270,
     "user": {
      "displayName": "Goh Jia Yi",
      "userId": "03217675921799541747"
     },
     "user_tz": -480
    },
    "id": "kM_h6aazhqfa",
    "outputId": "49a4e505-295e-477a-8429-14be6a5d3576"
   },
   "outputs": [
    {
     "name": "stdout",
     "output_type": "stream",
     "text": [
      "<class 'pandas.core.frame.DataFrame'>\n",
      "RangeIndex: 304 entries, 0 to 303\n",
      "Data columns (total 59 columns):\n",
      " #   Column                                                                               Non-Null Count  Dtype  \n",
      "---  ------                                                                               --------------  -----  \n",
      " 0   Name                                                                                 304 non-null    object \n",
      " 1   Gender                                                                               304 non-null    object \n",
      " 2   Current Job Title                                                                    304 non-null    object \n",
      " 3   Marital Status                                                                       304 non-null    object \n",
      " 4   Do you have to care for anyone with chronic illness?                                 304 non-null    object \n",
      " 5   Income (per month)                                                                   304 non-null    object \n",
      " 6   Preferred Mode of Payment                                                            304 non-null    object \n",
      " 7   Do you practise meditation? Yes/No                                                   304 non-null    object \n",
      " 8   If yes                                                                               304 non-null    object \n",
      " 9   Do you do any form of exercise?                                                      304 non-null    object \n",
      " 10  If yes.1                                                                             304 non-null    object \n",
      " 11   How often do you volunteer for social-service activities?                           304 non-null    object \n",
      " 12  Hobbies_Count                                                                        303 non-null    float64\n",
      " 13  How often do you pursue your hobbies?                                                304 non-null    object \n",
      " 14  In most ways, my life is close to my ideal                                           304 non-null    int64  \n",
      " 15  The Conditions in my life are excellent.                                             304 non-null    int64  \n",
      " 16  So far, I have got the important things I want in my life                            304 non-null    int64  \n",
      " 17  If I could live my life over, I would change almost nothing                          304 non-null    int64  \n",
      " 18  Many people have directly or indirectly contributed to my progress in life           304 non-null    int64  \n",
      " 19  I feel good when I co-operate with others                                            304 non-null    int64  \n",
      " 20  When making a decision, I take other people's needs and feelings into account.       304 non-null    int64  \n",
      " 21  It is my duty to take care of my family, even when I have to sacrifice what I want.  304 non-null    int64  \n",
      " 22  Honesty is important to achieve success                                              304 non-null    int64  \n",
      " 23  Social inequalities bother me                                                        304 non-null    int64  \n",
      " 24  What I am today is solely because of my hard work and talent                         304 non-null    int64  \n",
      " 25  People should keep their troubles to themselves                                      304 non-null    int64  \n",
      " 26  It is important that I do my job better than others                                  304 non-null    int64  \n",
      " 27  Winning is everything                                                                304 non-null    int64  \n",
      " 28  I don’t worry about others as long as I am happy                                     304 non-null    int64  \n",
      " 29  It upsets me when my work is not recognized by others                                304 non-null    int64  \n",
      " 30  Traditional values are important for me                                              304 non-null    int64  \n",
      " 31  I plan for the long-term                                                             304 non-null    int64  \n",
      " 32  I am willing to give up today’s fun for future success                               304 non-null    int64  \n",
      " 33  I believe persistence is key to success                                              304 non-null    int64  \n",
      " 34  Saving money is important to me                                                      304 non-null    int64  \n",
      " 35  It is okay to use shortcuts to get what you want                                     304 non-null    int64  \n",
      " 36  I like to get quick results                                                          304 non-null    int64  \n",
      " 37  I would rather spend money today than save for future                                304 non-null    int64  \n",
      " 38  When my routine is disturbed, it upsets me                                           304 non-null    int64  \n",
      " 39  I admire people who own expensive homes, cars, and clothes                           304 non-null    int64  \n",
      " 40  The things I own say a lot about how well I’m doing in life                          304 non-null    float64\n",
      " 41  I aspire a luxurious and comfortable lifestyle                                       304 non-null    int64  \n",
      " 42  My life would be better if I owned certain things I don’t have                       304 non-null    int64  \n",
      " 43  I’d be happier if I could afford to buy more things                                  304 non-null    int64  \n",
      " 44  I don’t pay much attention to the material objects other people own                  304 non-null    int64  \n",
      " 45  I usually buy only the things I need                                                 304 non-null    int64  \n",
      " 46  I have all the things I really need to enjoy life                                    304 non-null    int64  \n",
      " 47  My happiness does not depend on things I own                                         304 non-null    int64  \n",
      " 48  There is a higher purpose to life than comfort and luxury                            304 non-null    int64  \n",
      " 49  I believe success in life does not mean becoming rich                                304 non-null    int64  \n",
      " 50  I segregate waste before its disposal                                                304 non-null    int64  \n",
      " 51  I try to conserve water                                                              304 non-null    int64  \n",
      " 52  I try to educate people I know about climate change                                  304 non-null    int64  \n",
      " 53  I sign petitions related to environmental issues                                     304 non-null    int64  \n",
      " 54  I try to conserve electricity                                                        304 non-null    int64  \n",
      " 55  I walk/cycle/use public transport to save fuel                                       304 non-null    int64  \n",
      " 56  Age                                                                                  304 non-null    int64  \n",
      " 57  has_child                                                                            304 non-null    object \n",
      " 58  Lives_in_city_tier                                                                   304 non-null    object \n",
      "dtypes: float64(2), int64(42), object(15)\n",
      "memory usage: 140.2+ KB\n"
     ]
    }
   ],
   "source": [
    "psycometric_data.info()"
   ]
  },
  {
   "cell_type": "markdown",
   "metadata": {
    "id": "09pj5Ut4FL-2"
   },
   "source": [
    "# Data Cleaning"
   ]
  },
  {
   "cell_type": "markdown",
   "metadata": {
    "id": "fKVm_g3fglPr"
   },
   "source": [
    "## Rename ambiguous column names"
   ]
  },
  {
   "cell_type": "code",
   "execution_count": 13,
   "metadata": {
    "id": "dkPTXotfgkTO"
   },
   "outputs": [],
   "source": [
    "# Rename column names\n",
    "psycometric_data = psycometric_data.rename(columns={\"If yes\": \"If you do meditate, how often do you practise meditation?\", \n",
    "                                                \"If yes.1\": \"If you exercise, how often do you exercise?\", \n",
    "                                                \" How often do you volunteer for social-service activities?\": \"How often do you volunteer for social-service activities?\", \n",
    "                                                \"Do you practise meditation? Yes/No\" : \"Do you practise meditation?\",\n",
    "                                                \"The Conditions in my life are excellent.\": \"The conditions in my life are excellent\",\n",
    "                                                \"Hobbies_Count\": \"Hobbies Count\",\n",
    "                                                \"has_child\": \"Has Child\",\n",
    "                                                \"Lives_in_city_tier\": \"Lives in City Tier\"})"
   ]
  },
  {
   "cell_type": "markdown",
   "metadata": {
    "id": "lAxebsDwh3JO"
   },
   "source": [
    "## Check for null values"
   ]
  },
  {
   "cell_type": "code",
   "execution_count": 14,
   "metadata": {
    "colab": {
     "base_uri": "https://localhost:8080/"
    },
    "executionInfo": {
     "elapsed": 97,
     "status": "ok",
     "timestamp": 1649619518651,
     "user": {
      "displayName": "Goh Jia Yi",
      "userId": "03217675921799541747"
     },
     "user_tz": -480
    },
    "id": "uDub3f5Zh12U",
    "outputId": "890a6cad-0515-470e-87b6-9d18b1e1461f"
   },
   "outputs": [
    {
     "data": {
      "text/plain": [
       "Name                                                                                   0\n",
       "Gender                                                                                 0\n",
       "Current Job Title                                                                      0\n",
       "Marital Status                                                                         0\n",
       "Do you have to care for anyone with chronic illness?                                   0\n",
       "Income (per month)                                                                     0\n",
       "Preferred Mode of Payment                                                              0\n",
       "Do you practise meditation?                                                            0\n",
       "If you do meditate, how often do you practise meditation?                              0\n",
       "Do you do any form of exercise?                                                        0\n",
       "If you exercise, how often do you exercise?                                            0\n",
       "How often do you volunteer for social-service activities?                              0\n",
       "Hobbies Count                                                                          1\n",
       "How often do you pursue your hobbies?                                                  0\n",
       "In most ways, my life is close to my ideal                                             0\n",
       "The conditions in my life are excellent                                                0\n",
       "So far, I have got the important things I want in my life                              0\n",
       "If I could live my life over, I would change almost nothing                            0\n",
       "Many people have directly or indirectly contributed to my progress in life             0\n",
       "I feel good when I co-operate with others                                              0\n",
       "When making a decision, I take other people's needs and feelings into account.         0\n",
       "It is my duty to take care of my family, even when I have to sacrifice what I want.    0\n",
       "Honesty is important to achieve success                                                0\n",
       "Social inequalities bother me                                                          0\n",
       "What I am today is solely because of my hard work and talent                           0\n",
       "People should keep their troubles to themselves                                        0\n",
       "It is important that I do my job better than others                                    0\n",
       "Winning is everything                                                                  0\n",
       "I don’t worry about others as long as I am happy                                       0\n",
       "It upsets me when my work is not recognized by others                                  0\n",
       "Traditional values are important for me                                                0\n",
       "I plan for the long-term                                                               0\n",
       "I am willing to give up today’s fun for future success                                 0\n",
       "I believe persistence is key to success                                                0\n",
       "Saving money is important to me                                                        0\n",
       "It is okay to use shortcuts to get what you want                                       0\n",
       "I like to get quick results                                                            0\n",
       "I would rather spend money today than save for future                                  0\n",
       "When my routine is disturbed, it upsets me                                             0\n",
       "I admire people who own expensive homes, cars, and clothes                             0\n",
       "The things I own say a lot about how well I’m doing in life                            0\n",
       "I aspire a luxurious and comfortable lifestyle                                         0\n",
       "My life would be better if I owned certain things I don’t have                         0\n",
       "I’d be happier if I could afford to buy more things                                    0\n",
       "I don’t pay much attention to the material objects other people own                    0\n",
       "I usually buy only the things I need                                                   0\n",
       "I have all the things I really need to enjoy life                                      0\n",
       "My happiness does not depend on things I own                                           0\n",
       "There is a higher purpose to life than comfort and luxury                              0\n",
       "I believe success in life does not mean becoming rich                                  0\n",
       "I segregate waste before its disposal                                                  0\n",
       "I try to conserve water                                                                0\n",
       "I try to educate people I know about climate change                                    0\n",
       "I sign petitions related to environmental issues                                       0\n",
       "I try to conserve electricity                                                          0\n",
       "I walk/cycle/use public transport to save fuel                                         0\n",
       "Age                                                                                    0\n",
       "Has Child                                                                              0\n",
       "Lives in City Tier                                                                     0\n",
       "dtype: int64"
      ]
     },
     "execution_count": 14,
     "metadata": {},
     "output_type": "execute_result"
    }
   ],
   "source": [
    "# Check for null values\n",
    "psycometric_data.isna().sum()"
   ]
  },
  {
   "cell_type": "markdown",
   "metadata": {
    "id": "StFAIaJQBEYf"
   },
   "source": [
    "### Replace NA hobbies count with mode"
   ]
  },
  {
   "cell_type": "code",
   "execution_count": 15,
   "metadata": {
    "colab": {
     "base_uri": "https://localhost:8080/"
    },
    "executionInfo": {
     "elapsed": 88,
     "status": "ok",
     "timestamp": 1649619518655,
     "user": {
      "displayName": "Goh Jia Yi",
      "userId": "03217675921799541747"
     },
     "user_tz": -480
    },
    "id": "BdsYXjv41dGt",
    "outputId": "91734967-9c9c-49f4-a837-05c687659f02"
   },
   "outputs": [
    {
     "data": {
      "text/plain": [
       "1.0    153\n",
       "2.0     81\n",
       "3.0     41\n",
       "4.0     18\n",
       "5.0      6\n",
       "0.0      2\n",
       "6.0      2\n",
       "Name: Hobbies Count, dtype: int64"
      ]
     },
     "execution_count": 15,
     "metadata": {},
     "output_type": "execute_result"
    }
   ],
   "source": [
    "psycometric_data['Hobbies Count'].value_counts()"
   ]
  },
  {
   "cell_type": "code",
   "execution_count": 19,
   "metadata": {
    "colab": {
     "base_uri": "https://localhost:8080/",
     "height": 330
    },
    "executionInfo": {
     "elapsed": 73,
     "status": "ok",
     "timestamp": 1649619518657,
     "user": {
      "displayName": "Goh Jia Yi",
      "userId": "03217675921799541747"
     },
     "user_tz": -480
    },
    "id": "D6YCoLGDhyFl",
    "outputId": "bb6cd11e-63e3-4e8f-b97d-44f3e9cc9b25"
   },
   "outputs": [
    {
     "data": {
      "text/html": [
       "<div>\n",
       "<style scoped>\n",
       "    .dataframe tbody tr th:only-of-type {\n",
       "        vertical-align: middle;\n",
       "    }\n",
       "\n",
       "    .dataframe tbody tr th {\n",
       "        vertical-align: top;\n",
       "    }\n",
       "\n",
       "    .dataframe thead th {\n",
       "        text-align: right;\n",
       "    }\n",
       "</style>\n",
       "<table border=\"1\" class=\"dataframe\">\n",
       "  <thead>\n",
       "    <tr style=\"text-align: right;\">\n",
       "      <th></th>\n",
       "      <th>Name</th>\n",
       "      <th>Gender</th>\n",
       "      <th>Current Job Title</th>\n",
       "      <th>Marital Status</th>\n",
       "      <th>Do you have to care for anyone with chronic illness?</th>\n",
       "      <th>Income (per month)</th>\n",
       "      <th>Preferred Mode of Payment</th>\n",
       "      <th>Do you practise meditation?</th>\n",
       "      <th>If you do meditate, how often do you practise meditation?</th>\n",
       "      <th>Do you do any form of exercise?</th>\n",
       "      <th>...</th>\n",
       "      <th>I believe success in life does not mean becoming rich</th>\n",
       "      <th>I segregate waste before its disposal</th>\n",
       "      <th>I try to conserve water</th>\n",
       "      <th>I try to educate people I know about climate change</th>\n",
       "      <th>I sign petitions related to environmental issues</th>\n",
       "      <th>I try to conserve electricity</th>\n",
       "      <th>I walk/cycle/use public transport to save fuel</th>\n",
       "      <th>Age</th>\n",
       "      <th>Has Child</th>\n",
       "      <th>Lives in City Tier</th>\n",
       "    </tr>\n",
       "  </thead>\n",
       "  <tbody>\n",
       "    <tr>\n",
       "      <th>39</th>\n",
       "      <td>G6M3R16</td>\n",
       "      <td>Male</td>\n",
       "      <td>Student</td>\n",
       "      <td>Not Married</td>\n",
       "      <td>No</td>\n",
       "      <td>Prefer Not to Say</td>\n",
       "      <td>UPI</td>\n",
       "      <td>Yes</td>\n",
       "      <td>sometimes but not consistent</td>\n",
       "      <td>Yes</td>\n",
       "      <td>...</td>\n",
       "      <td>7</td>\n",
       "      <td>5</td>\n",
       "      <td>6</td>\n",
       "      <td>7</td>\n",
       "      <td>5</td>\n",
       "      <td>7</td>\n",
       "      <td>7</td>\n",
       "      <td>21</td>\n",
       "      <td>No</td>\n",
       "      <td>Tier 3</td>\n",
       "    </tr>\n",
       "  </tbody>\n",
       "</table>\n",
       "<p>1 rows × 59 columns</p>\n",
       "</div>"
      ],
      "text/plain": [
       "       Name Gender Current Job Title Marital Status  \\\n",
       "39  G6M3R16   Male           Student    Not Married   \n",
       "\n",
       "   Do you have to care for anyone with chronic illness? Income (per month)  \\\n",
       "39                                                 No    Prefer Not to Say   \n",
       "\n",
       "   Preferred Mode of Payment Do you practise meditation?  \\\n",
       "39                       UPI                         Yes   \n",
       "\n",
       "   If you do meditate, how often do you practise meditation?  \\\n",
       "39                       sometimes but not consistent          \n",
       "\n",
       "   Do you do any form of exercise?  ...  \\\n",
       "39                             Yes  ...   \n",
       "\n",
       "   I believe success in life does not mean becoming rich  \\\n",
       "39                                                  7      \n",
       "\n",
       "   I segregate waste before its disposal  I try to conserve water  \\\n",
       "39                                     5                        6   \n",
       "\n",
       "   I try to educate people I know about climate change  \\\n",
       "39                                                  7    \n",
       "\n",
       "    I sign petitions related to environmental issues  \\\n",
       "39                                                 5   \n",
       "\n",
       "    I try to conserve electricity  \\\n",
       "39                              7   \n",
       "\n",
       "    I walk/cycle/use public transport to save fuel  Age  Has Child  \\\n",
       "39                                               7   21         No   \n",
       "\n",
       "    Lives in City Tier  \n",
       "39              Tier 3  \n",
       "\n",
       "[1 rows x 59 columns]"
      ]
     },
     "execution_count": 19,
     "metadata": {},
     "output_type": "execute_result"
    }
   ],
   "source": [
    "null_hobbies_psycometric_data = psycometric_data[psycometric_data['Hobbies Count'].isna()]\n",
    "null_hobbies_psycometric_data.head()"
   ]
  },
  {
   "cell_type": "code",
   "execution_count": 20,
   "metadata": {
    "colab": {
     "base_uri": "https://localhost:8080/"
    },
    "executionInfo": {
     "elapsed": 69,
     "status": "ok",
     "timestamp": 1649619518659,
     "user": {
      "displayName": "Goh Jia Yi",
      "userId": "03217675921799541747"
     },
     "user_tz": -480
    },
    "id": "voOiEe8FTbbP",
    "outputId": "df807902-9fca-4aa4-b791-67e5da9f2271"
   },
   "outputs": [
    {
     "data": {
      "text/plain": [
       "39    Always\n",
       "Name: How often do you pursue your hobbies?, dtype: object"
      ]
     },
     "execution_count": 20,
     "metadata": {},
     "output_type": "execute_result"
    }
   ],
   "source": [
    "# Check hobbies frequency - since labelled as always, replacement is needed\n",
    "null_hobbies_psycometric_data['How often do you pursue your hobbies?']"
   ]
  },
  {
   "cell_type": "code",
   "execution_count": 21,
   "metadata": {
    "colab": {
     "base_uri": "https://localhost:8080/",
     "height": 414
    },
    "executionInfo": {
     "elapsed": 56,
     "status": "ok",
     "timestamp": 1649619518660,
     "user": {
      "displayName": "Goh Jia Yi",
      "userId": "03217675921799541747"
     },
     "user_tz": -480
    },
    "id": "_GyqrgMfS-8e",
    "outputId": "78d58d10-a979-47fa-ed25-2d3ad4443325"
   },
   "outputs": [
    {
     "data": {
      "text/html": [
       "<div>\n",
       "<style scoped>\n",
       "    .dataframe tbody tr th:only-of-type {\n",
       "        vertical-align: middle;\n",
       "    }\n",
       "\n",
       "    .dataframe tbody tr th {\n",
       "        vertical-align: top;\n",
       "    }\n",
       "\n",
       "    .dataframe thead th {\n",
       "        text-align: right;\n",
       "    }\n",
       "</style>\n",
       "<table border=\"1\" class=\"dataframe\">\n",
       "  <thead>\n",
       "    <tr style=\"text-align: right;\">\n",
       "      <th></th>\n",
       "      <th>Name</th>\n",
       "      <th>Gender</th>\n",
       "      <th>Current Job Title</th>\n",
       "      <th>Marital Status</th>\n",
       "      <th>Do you have to care for anyone with chronic illness?</th>\n",
       "      <th>Income (per month)</th>\n",
       "      <th>Preferred Mode of Payment</th>\n",
       "      <th>Do you practise meditation?</th>\n",
       "      <th>If you do meditate, how often do you practise meditation?</th>\n",
       "      <th>Do you do any form of exercise?</th>\n",
       "      <th>...</th>\n",
       "      <th>I believe success in life does not mean becoming rich</th>\n",
       "      <th>I segregate waste before its disposal</th>\n",
       "      <th>I try to conserve water</th>\n",
       "      <th>I try to educate people I know about climate change</th>\n",
       "      <th>I sign petitions related to environmental issues</th>\n",
       "      <th>I try to conserve electricity</th>\n",
       "      <th>I walk/cycle/use public transport to save fuel</th>\n",
       "      <th>Age</th>\n",
       "      <th>Has Child</th>\n",
       "      <th>Lives in City Tier</th>\n",
       "    </tr>\n",
       "  </thead>\n",
       "  <tbody>\n",
       "    <tr>\n",
       "      <th>102</th>\n",
       "      <td>G3M5R6</td>\n",
       "      <td>Male</td>\n",
       "      <td>Engineer</td>\n",
       "      <td>Not Married</td>\n",
       "      <td>No</td>\n",
       "      <td>Rs. 1,00, 000 – 1,50,000</td>\n",
       "      <td>Credit Card</td>\n",
       "      <td>Yes</td>\n",
       "      <td>everyday</td>\n",
       "      <td>Yes</td>\n",
       "      <td>...</td>\n",
       "      <td>7</td>\n",
       "      <td>7</td>\n",
       "      <td>7</td>\n",
       "      <td>1</td>\n",
       "      <td>1</td>\n",
       "      <td>5</td>\n",
       "      <td>7</td>\n",
       "      <td>27</td>\n",
       "      <td>No</td>\n",
       "      <td>Tier 3</td>\n",
       "    </tr>\n",
       "    <tr>\n",
       "      <th>150</th>\n",
       "      <td>G5M1R3</td>\n",
       "      <td>Male</td>\n",
       "      <td>GM</td>\n",
       "      <td>Married</td>\n",
       "      <td>No</td>\n",
       "      <td>Rs. 1,50, 000 – 2,00, 000</td>\n",
       "      <td>Credit Card</td>\n",
       "      <td>Yes</td>\n",
       "      <td>Everyday</td>\n",
       "      <td>Yes</td>\n",
       "      <td>...</td>\n",
       "      <td>5</td>\n",
       "      <td>6</td>\n",
       "      <td>4</td>\n",
       "      <td>5</td>\n",
       "      <td>7</td>\n",
       "      <td>4</td>\n",
       "      <td>5</td>\n",
       "      <td>53</td>\n",
       "      <td>Yes</td>\n",
       "      <td>Tier 3</td>\n",
       "    </tr>\n",
       "  </tbody>\n",
       "</table>\n",
       "<p>2 rows × 59 columns</p>\n",
       "</div>"
      ],
      "text/plain": [
       "       Name Gender Current Job Title Marital Status  \\\n",
       "102  G3M5R6   Male          Engineer    Not Married   \n",
       "150  G5M1R3   Male                GM        Married   \n",
       "\n",
       "    Do you have to care for anyone with chronic illness?  \\\n",
       "102                                                 No     \n",
       "150                                                 No     \n",
       "\n",
       "            Income (per month) Preferred Mode of Payment  \\\n",
       "102   Rs. 1,00, 000 – 1,50,000               Credit Card   \n",
       "150  Rs. 1,50, 000 – 2,00, 000               Credit Card   \n",
       "\n",
       "    Do you practise meditation?  \\\n",
       "102                         Yes   \n",
       "150                         Yes   \n",
       "\n",
       "    If you do meditate, how often do you practise meditation?  \\\n",
       "102                                           everyday          \n",
       "150                                           Everyday          \n",
       "\n",
       "    Do you do any form of exercise?  ...  \\\n",
       "102                             Yes  ...   \n",
       "150                             Yes  ...   \n",
       "\n",
       "    I believe success in life does not mean becoming rich  \\\n",
       "102                                                  7      \n",
       "150                                                  5      \n",
       "\n",
       "    I segregate waste before its disposal  I try to conserve water  \\\n",
       "102                                     7                        7   \n",
       "150                                     6                        4   \n",
       "\n",
       "    I try to educate people I know about climate change  \\\n",
       "102                                                  1    \n",
       "150                                                  5    \n",
       "\n",
       "     I sign petitions related to environmental issues  \\\n",
       "102                                                 1   \n",
       "150                                                 7   \n",
       "\n",
       "     I try to conserve electricity  \\\n",
       "102                              5   \n",
       "150                              4   \n",
       "\n",
       "     I walk/cycle/use public transport to save fuel  Age  Has Child  \\\n",
       "102                                               7   27         No   \n",
       "150                                               5   53        Yes   \n",
       "\n",
       "     Lives in City Tier  \n",
       "102              Tier 3  \n",
       "150              Tier 3  \n",
       "\n",
       "[2 rows x 59 columns]"
      ]
     },
     "execution_count": 21,
     "metadata": {},
     "output_type": "execute_result"
    }
   ],
   "source": [
    "zero_hobbies_psycometric_data = psycometric_data[psycometric_data['Hobbies Count'] == 0]\n",
    "zero_hobbies_psycometric_data.head()"
   ]
  },
  {
   "cell_type": "code",
   "execution_count": 22,
   "metadata": {
    "colab": {
     "base_uri": "https://localhost:8080/"
    },
    "executionInfo": {
     "elapsed": 51,
     "status": "ok",
     "timestamp": 1649619518661,
     "user": {
      "displayName": "Goh Jia Yi",
      "userId": "03217675921799541747"
     },
     "user_tz": -480
    },
    "id": "uuo2G0yxTeoK",
    "outputId": "5d891be5-9e1b-44e9-8b27-65771cfccc67"
   },
   "outputs": [
    {
     "data": {
      "text/plain": [
       "102    Never\n",
       "150    Never\n",
       "Name: How often do you pursue your hobbies?, dtype: object"
      ]
     },
     "execution_count": 22,
     "metadata": {},
     "output_type": "execute_result"
    }
   ],
   "source": [
    "# Check hobbies frequency - since labelled as never, no replacement of mode is needed\n",
    "zero_hobbies_psycometric_data['How often do you pursue your hobbies?']"
   ]
  },
  {
   "cell_type": "code",
   "execution_count": 23,
   "metadata": {
    "colab": {
     "base_uri": "https://localhost:8080/"
    },
    "executionInfo": {
     "elapsed": 39,
     "status": "ok",
     "timestamp": 1649619518662,
     "user": {
      "displayName": "Goh Jia Yi",
      "userId": "03217675921799541747"
     },
     "user_tz": -480
    },
    "id": "Bt0Q96vLAlPw",
    "outputId": "2eed45cc-c51c-4276-b296-470bdce0ff2c"
   },
   "outputs": [
    {
     "data": {
      "text/plain": [
       "[1.0]"
      ]
     },
     "execution_count": 23,
     "metadata": {},
     "output_type": "execute_result"
    }
   ],
   "source": [
    "# Get mode\n",
    "psycometric_data['Hobbies Count'].mode().tolist()"
   ]
  },
  {
   "cell_type": "code",
   "execution_count": 24,
   "metadata": {
    "id": "3j8oQ-Og8BLr"
   },
   "outputs": [],
   "source": [
    "# Impute NA value in Hobbies Count as mode of hobbies like in the original code\n",
    "psycometric_data.loc[39, 'Hobbies Count'] = psycometric_data['Hobbies Count'].mode()[0]"
   ]
  },
  {
   "cell_type": "markdown",
   "metadata": {
    "id": "lp0OHXw5-XdB"
   },
   "source": [
    "## Standardise float to int scale"
   ]
  },
  {
   "cell_type": "markdown",
   "metadata": {
    "id": "Imr9c5Zof5ID"
   },
   "source": [
    "The things I own say a lot about how well I’m doing in life"
   ]
  },
  {
   "cell_type": "code",
   "execution_count": 25,
   "metadata": {
    "colab": {
     "base_uri": "https://localhost:8080/"
    },
    "executionInfo": {
     "elapsed": 5,
     "status": "ok",
     "timestamp": 1649619519874,
     "user": {
      "displayName": "Goh Jia Yi",
      "userId": "03217675921799541747"
     },
     "user_tz": -480
    },
    "id": "piKLq3ANNsx4",
    "outputId": "8fcece29-26b1-4142-ff54-c5ded2e6d369"
   },
   "outputs": [
    {
     "data": {
      "text/plain": [
       "4.0    60\n",
       "5.0    57\n",
       "6.0    55\n",
       "7.0    35\n",
       "3.0    34\n",
       "1.0    27\n",
       "2.0    26\n",
       "4.5    10\n",
       "Name: The things I own say a lot about how well I’m doing in life, dtype: int64"
      ]
     },
     "execution_count": 25,
     "metadata": {},
     "output_type": "execute_result"
    }
   ],
   "source": [
    "# Check 'The things I own say a lot about how well I’m doing in life' values - float64 instead of int64 unlike the other survey columns\n",
    "psycometric_data['The things I own say a lot about how well I’m doing in life'].value_counts()"
   ]
  },
  {
   "cell_type": "code",
   "execution_count": 26,
   "metadata": {
    "id": "EOHSRGafOL7D"
   },
   "outputs": [],
   "source": [
    "# Convert 'The things I own say a lot about how well I’m doing in life' from float to int\n",
    "# 4.5 values should not exist given that the survey only allows int values\n",
    "psycometric_data['The things I own say a lot about how well I’m doing in life'] = psycometric_data['The things I own say a lot about how well I’m doing in life'].astype(int)"
   ]
  },
  {
   "cell_type": "markdown",
   "metadata": {
    "id": "SsjjeXscf50P"
   },
   "source": [
    "Hobbies Count"
   ]
  },
  {
   "cell_type": "code",
   "execution_count": 27,
   "metadata": {
    "colab": {
     "base_uri": "https://localhost:8080/"
    },
    "executionInfo": {
     "elapsed": 777,
     "status": "ok",
     "timestamp": 1649619526663,
     "user": {
      "displayName": "Goh Jia Yi",
      "userId": "03217675921799541747"
     },
     "user_tz": -480
    },
    "id": "ty8ngeDWf4DM",
    "outputId": "88f533e9-dc08-4c06-99ff-eef7a4d6d4bf"
   },
   "outputs": [
    {
     "data": {
      "text/plain": [
       "1.0    154\n",
       "2.0     81\n",
       "3.0     41\n",
       "4.0     18\n",
       "5.0      6\n",
       "0.0      2\n",
       "6.0      2\n",
       "Name: Hobbies Count, dtype: int64"
      ]
     },
     "execution_count": 27,
     "metadata": {},
     "output_type": "execute_result"
    }
   ],
   "source": [
    "psycometric_data['Hobbies Count'].value_counts()"
   ]
  },
  {
   "cell_type": "code",
   "execution_count": 28,
   "metadata": {
    "id": "v3Lqvu5Lfvma"
   },
   "outputs": [],
   "source": [
    "# Convert 'Hobbies Count' column to int\n",
    "psycometric_data['Hobbies Count'] = psycometric_data['Hobbies Count'].astype(int)"
   ]
  },
  {
   "cell_type": "markdown",
   "metadata": {
    "id": "tzDMja5BUKKb"
   },
   "source": [
    "## Standardise values"
   ]
  },
  {
   "cell_type": "markdown",
   "metadata": {
    "id": "TgWRWhvBafTP"
   },
   "source": [
    "Lives in City Tier"
   ]
  },
  {
   "cell_type": "code",
   "execution_count": 29,
   "metadata": {
    "colab": {
     "base_uri": "https://localhost:8080/"
    },
    "executionInfo": {
     "elapsed": 204,
     "status": "ok",
     "timestamp": 1649619526664,
     "user": {
      "displayName": "Goh Jia Yi",
      "userId": "03217675921799541747"
     },
     "user_tz": -480
    },
    "id": "JpxTCnPBcC2m",
    "outputId": "8687d64a-5843-4a98-e3a2-13bf33593ce7"
   },
   "outputs": [
    {
     "data": {
      "text/plain": [
       "Tier 3    130\n",
       "Tier_2    114\n",
       "Tier_1     60\n",
       "Name: Lives in City Tier, dtype: int64"
      ]
     },
     "execution_count": 29,
     "metadata": {},
     "output_type": "execute_result"
    }
   ],
   "source": [
    "psycometric_data[\"Lives in City Tier\"].value_counts()"
   ]
  },
  {
   "cell_type": "code",
   "execution_count": 30,
   "metadata": {
    "id": "h_VzB7nGQIyu"
   },
   "outputs": [],
   "source": [
    "# Standardise City Tier values\n",
    "psycometric_data[\"Lives in City Tier\"].replace({\"Tier_1\": \"Tier 1\", \"Tier_2\": \"Tier 2\"}, inplace=True)"
   ]
  },
  {
   "cell_type": "code",
   "execution_count": 31,
   "metadata": {
    "colab": {
     "base_uri": "https://localhost:8080/"
    },
    "executionInfo": {
     "elapsed": 149,
     "status": "ok",
     "timestamp": 1649619526666,
     "user": {
      "displayName": "Goh Jia Yi",
      "userId": "03217675921799541747"
     },
     "user_tz": -480
    },
    "id": "64Y-NvejcFyF",
    "outputId": "6beb2861-63f4-470b-9804-7f0bbe1f067f"
   },
   "outputs": [
    {
     "data": {
      "text/plain": [
       "Tier 3    130\n",
       "Tier 2    114\n",
       "Tier 1     60\n",
       "Name: Lives in City Tier, dtype: int64"
      ]
     },
     "execution_count": 31,
     "metadata": {},
     "output_type": "execute_result"
    }
   ],
   "source": [
    "psycometric_data[\"Lives in City Tier\"].value_counts()"
   ]
  },
  {
   "cell_type": "markdown",
   "metadata": {
    "id": "7phqx0MZaeSd"
   },
   "source": [
    "How often do you pursue your hobbies?"
   ]
  },
  {
   "cell_type": "code",
   "execution_count": 32,
   "metadata": {
    "colab": {
     "base_uri": "https://localhost:8080/"
    },
    "executionInfo": {
     "elapsed": 143,
     "status": "ok",
     "timestamp": 1649619526667,
     "user": {
      "displayName": "Goh Jia Yi",
      "userId": "03217675921799541747"
     },
     "user_tz": -480
    },
    "id": "5uK5hh9zcIUF",
    "outputId": "cb115f9d-70c7-4d69-b23d-b6a71cedff17"
   },
   "outputs": [
    {
     "data": {
      "text/plain": [
       "sometimes     116\n",
       "very often     96\n",
       "Always         71\n",
       "Rarely         13\n",
       "Never           3\n",
       "Very often      2\n",
       "Daily           2\n",
       "Sometimes       1\n",
       "Name: How often do you pursue your hobbies?, dtype: int64"
      ]
     },
     "execution_count": 32,
     "metadata": {},
     "output_type": "execute_result"
    }
   ],
   "source": [
    "psycometric_data['How often do you pursue your hobbies?'].value_counts()"
   ]
  },
  {
   "cell_type": "code",
   "execution_count": 33,
   "metadata": {
    "id": "I32vhsfbUOJG"
   },
   "outputs": [],
   "source": [
    "# Standardise Hobbies Frequency Values\n",
    "psycometric_data['How often do you pursue your hobbies?'].replace({\"sometimes\": \"Sometimes\", \"very often\": \"Very often\"}, inplace=True)"
   ]
  },
  {
   "cell_type": "code",
   "execution_count": 34,
   "metadata": {
    "colab": {
     "base_uri": "https://localhost:8080/"
    },
    "executionInfo": {
     "elapsed": 136,
     "status": "ok",
     "timestamp": 1649619526669,
     "user": {
      "displayName": "Goh Jia Yi",
      "userId": "03217675921799541747"
     },
     "user_tz": -480
    },
    "id": "u3AcL3vScKAj",
    "outputId": "c0d37bb3-a868-4b87-e022-d6832f8a0bd3"
   },
   "outputs": [
    {
     "data": {
      "text/plain": [
       "Sometimes     117\n",
       "Very often     98\n",
       "Always         71\n",
       "Rarely         13\n",
       "Never           3\n",
       "Daily           2\n",
       "Name: How often do you pursue your hobbies?, dtype: int64"
      ]
     },
     "execution_count": 34,
     "metadata": {},
     "output_type": "execute_result"
    }
   ],
   "source": [
    "psycometric_data['How often do you pursue your hobbies?'].value_counts()"
   ]
  },
  {
   "cell_type": "markdown",
   "metadata": {
    "id": "L2xN8Rn0acnf"
   },
   "source": [
    "Current Job Title"
   ]
  },
  {
   "cell_type": "code",
   "execution_count": 35,
   "metadata": {
    "colab": {
     "base_uri": "https://localhost:8080/"
    },
    "executionInfo": {
     "elapsed": 131,
     "status": "ok",
     "timestamp": 1649619526670,
     "user": {
      "displayName": "Goh Jia Yi",
      "userId": "03217675921799541747"
     },
     "user_tz": -480
    },
    "id": "p0d008j7cLFz",
    "outputId": "a9704f1b-5b22-4297-dd33-f1a05a025b06"
   },
   "outputs": [
    {
     "name": "stdout",
     "output_type": "stream",
     "text": [
      "['Service Engineer', 'Production Engineer', 'Lecturer', 'Student', 'Recruiter', 'Software Engineer', 'Senior Data Scientist', 'Functional expert', 'Gis Engineer', 'Shift manager', 'Assistant Manager', 'R & D manager', 'BIS Scientist', 'Accountant', 'Intern', 'Developer', 'Student ', 'Engineer', 'Research Scholar', 'Self employed', 'Working', 'Category Manager', 'Unemployed', 'Business', 'Pharmacist', 'Lawyer', 'Cabin Crew', 'Banking', 'Research scholar', 'Domain Expert, Ergonomics', 'RESEARCH SCHOLAR', 'Junior Research Fellow', 'Housewife', 'PhD Student', 'Design engineer', 'Consultant', 'Retired', 'Doctor', 'Automobile Engineer', 'Scientist', 'Manager', 'Jobless', 'Team Leader', 'Senior Engineer', 'Officer', 'Senior executive', 'Sales', 'Graphic Designer', 'Analyst ', 'Freelancer', 'Data Analyst', 'Private Teacher', 'Process associate ', 'City lunch manager', 'Software Engineer ', 'Associate Manager', 'GET', 'Production engineer', 'SWO-A', 'Get', 'GM', 'Graduate Engineer Trainee', 'Client relation', 'Technical officer', 'Team Lead', 'Senior operations officer', 'Travel Agent', 'Homemaker ', 'Data Scientist', 'Analytics Manager', 'AC', 'Credit Associate', 'Associate Consultant', 'Assistant Engineer', 'Assistant Manager Direct', 'Vehli Janta', 'Learner', 'SDE', 'Asst production engineer', 'Procurement Engineer', 'Get ', 'Teacher', 'Dancer', 'Junior Software Developer', 'IT Analyst', 'Customer Service Executive', 'Sales Manager', 'Sales Profile ', 'Associate Designer ', 'Design manager', 'Bank Manager ', '3D designer', 'Unemployed ', 'UX Designer', 'SAP Consultant', 'Urban Planner', 'Relationship Manager', 'general manager', 'farmer', 'Secretary', 'Patwari', 'Service engineer', 'Patent Associate', 'Production Manager', 'Marketing ', 'Head of Engineering ', 'Python Developer', 'Engine Cadet', 'Nursing', 'Video editor ', 'Statistical Assistant', 'Admn. Officer', 'Chatered Accountant CPA', 'Software Developer', 'Trainee Software Engineer', 'Architect', 'VLSI design Engineer', 'Army']\n"
     ]
    }
   ],
   "source": [
    "print(list(psycometric_data['Current Job Title'].unique()))"
   ]
  },
  {
   "cell_type": "code",
   "execution_count": 36,
   "metadata": {
    "id": "fVTuLf6mVDVW"
   },
   "outputs": [],
   "source": [
    "# Standardise Job Titles\n",
    "# Remove leading and trailing white spaces, capitalise first letter of each word\n",
    "psycometric_data['Current Job Title'] = psycometric_data['Current Job Title'].apply(lambda x: x.strip().title()) \n",
    "\n",
    "psycometric_data['Current Job Title'].replace({\"Jobless\": \"Unemployed\"}, inplace=True)"
   ]
  },
  {
   "cell_type": "code",
   "execution_count": 37,
   "metadata": {
    "colab": {
     "base_uri": "https://localhost:8080/"
    },
    "executionInfo": {
     "elapsed": 125,
     "status": "ok",
     "timestamp": 1649619526671,
     "user": {
      "displayName": "Goh Jia Yi",
      "userId": "03217675921799541747"
     },
     "user_tz": -480
    },
    "id": "dCc0hrbXcNGq",
    "outputId": "f7f21e6d-cd9f-4710-d3f9-0ec8b5fd7c65"
   },
   "outputs": [
    {
     "name": "stdout",
     "output_type": "stream",
     "text": [
      "['Service Engineer', 'Production Engineer', 'Lecturer', 'Student', 'Recruiter', 'Software Engineer', 'Senior Data Scientist', 'Functional Expert', 'Gis Engineer', 'Shift Manager', 'Assistant Manager', 'R & D Manager', 'Bis Scientist', 'Accountant', 'Intern', 'Developer', 'Engineer', 'Research Scholar', 'Self Employed', 'Working', 'Category Manager', 'Unemployed', 'Business', 'Pharmacist', 'Lawyer', 'Cabin Crew', 'Banking', 'Domain Expert, Ergonomics', 'Junior Research Fellow', 'Housewife', 'Phd Student', 'Design Engineer', 'Consultant', 'Retired', 'Doctor', 'Automobile Engineer', 'Scientist', 'Manager', 'Team Leader', 'Senior Engineer', 'Officer', 'Senior Executive', 'Sales', 'Graphic Designer', 'Analyst', 'Freelancer', 'Data Analyst', 'Private Teacher', 'Process Associate', 'City Lunch Manager', 'Associate Manager', 'Get', 'Swo-A', 'Gm', 'Graduate Engineer Trainee', 'Client Relation', 'Technical Officer', 'Team Lead', 'Senior Operations Officer', 'Travel Agent', 'Homemaker', 'Data Scientist', 'Analytics Manager', 'Ac', 'Credit Associate', 'Associate Consultant', 'Assistant Engineer', 'Assistant Manager Direct', 'Vehli Janta', 'Learner', 'Sde', 'Asst Production Engineer', 'Procurement Engineer', 'Teacher', 'Dancer', 'Junior Software Developer', 'It Analyst', 'Customer Service Executive', 'Sales Manager', 'Sales Profile', 'Associate Designer', 'Design Manager', 'Bank Manager', '3D Designer', 'Ux Designer', 'Sap Consultant', 'Urban Planner', 'Relationship Manager', 'General Manager', 'Farmer', 'Secretary', 'Patwari', 'Patent Associate', 'Production Manager', 'Marketing', 'Head Of Engineering', 'Python Developer', 'Engine Cadet', 'Nursing', 'Video Editor', 'Statistical Assistant', 'Admn. Officer', 'Chatered Accountant Cpa', 'Software Developer', 'Trainee Software Engineer', 'Architect', 'Vlsi Design Engineer', 'Army']\n"
     ]
    }
   ],
   "source": [
    "print(list(psycometric_data['Current Job Title'].unique()))"
   ]
  },
  {
   "cell_type": "markdown",
   "metadata": {
    "id": "h_1WLSoyabeN"
   },
   "source": [
    "Income (per month)"
   ]
  },
  {
   "cell_type": "code",
   "execution_count": 38,
   "metadata": {
    "colab": {
     "base_uri": "https://localhost:8080/"
    },
    "executionInfo": {
     "elapsed": 114,
     "status": "ok",
     "timestamp": 1649619526672,
     "user": {
      "displayName": "Goh Jia Yi",
      "userId": "03217675921799541747"
     },
     "user_tz": -480
    },
    "id": "2kDOTPJAcd9X",
    "outputId": "ddafe2e9-b97c-45e0-abd0-c30b44aad2ec"
   },
   "outputs": [
    {
     "data": {
      "text/plain": [
       "Prefer Not to Say            139\n",
       "Rs. 25,000 – 50,000           47\n",
       "Rs. 10,000 – 25,000           43\n",
       "Rs. 50,000 – 75,000           34\n",
       "Rs. 75,000 – 1,00,000         13\n",
       "Rs. 2,00,000 and above         8\n",
       "Rs. 1,00, 000 – 1,50,000       8\n",
       "Prefer not to say              7\n",
       "Rs. 1,50, 000 – 2,00, 000      5\n",
       "Name: Income (per month), dtype: int64"
      ]
     },
     "execution_count": 38,
     "metadata": {},
     "output_type": "execute_result"
    }
   ],
   "source": [
    "psycometric_data['Income (per month)'].value_counts()"
   ]
  },
  {
   "cell_type": "code",
   "execution_count": 39,
   "metadata": {
    "id": "m6KGtjJMVMFl"
   },
   "outputs": [],
   "source": [
    "# Standardise Income\n",
    "psycometric_data['Income (per month)'].replace({\"Prefer not to say\": \"Prefer Not to Say\", \n",
    "                                              \"Rs. 75,000 – 1,00,000\" : \"Rs. 75,000 – 100,000\", \n",
    "                                              \"Rs. 1,00, 000 – 1,50,000\" : \"Rs. 100,000 – 150,000\", \n",
    "                                              \"Rs. 2,00,000 and above\" : \"Rs. 200,000 and above\", \n",
    "                                              \"Rs. 1,50, 000 – 2,00, 000\" : \"Rs. 150,000 – 200,000\"}, inplace=True)"
   ]
  },
  {
   "cell_type": "code",
   "execution_count": 40,
   "metadata": {
    "colab": {
     "base_uri": "https://localhost:8080/"
    },
    "executionInfo": {
     "elapsed": 105,
     "status": "ok",
     "timestamp": 1649619526673,
     "user": {
      "displayName": "Goh Jia Yi",
      "userId": "03217675921799541747"
     },
     "user_tz": -480
    },
    "id": "E38ldKOecgtp",
    "outputId": "7cc4e71d-a07f-4171-c65e-27bce4f5d232"
   },
   "outputs": [
    {
     "data": {
      "text/plain": [
       "Prefer Not to Say        146\n",
       "Rs. 25,000 – 50,000       47\n",
       "Rs. 10,000 – 25,000       43\n",
       "Rs. 50,000 – 75,000       34\n",
       "Rs. 75,000 – 100,000      13\n",
       "Rs. 100,000 – 150,000      8\n",
       "Rs. 200,000 and above      8\n",
       "Rs. 150,000 – 200,000      5\n",
       "Name: Income (per month), dtype: int64"
      ]
     },
     "execution_count": 40,
     "metadata": {},
     "output_type": "execute_result"
    }
   ],
   "source": [
    "psycometric_data['Income (per month)'].value_counts()"
   ]
  },
  {
   "cell_type": "markdown",
   "metadata": {
    "id": "7LSk-wvtaaIZ"
   },
   "source": [
    "Preferred Mode of Payment"
   ]
  },
  {
   "cell_type": "code",
   "execution_count": 41,
   "metadata": {
    "colab": {
     "base_uri": "https://localhost:8080/"
    },
    "executionInfo": {
     "elapsed": 100,
     "status": "ok",
     "timestamp": 1649619526674,
     "user": {
      "displayName": "Goh Jia Yi",
      "userId": "03217675921799541747"
     },
     "user_tz": -480
    },
    "id": "ZlLFvkA5cjA2",
    "outputId": "30d5c155-0801-4d46-b83b-95740bd5f36d"
   },
   "outputs": [
    {
     "data": {
      "text/plain": [
       "UPI                 198\n",
       "Cash on Delivery     39\n",
       "Debit Card           22\n",
       "Credit Card          22\n",
       "Net Banking           8\n",
       "Online Wallets        7\n",
       "Any Other             5\n",
       "Cash On Delivery      3\n",
       "Name: Preferred Mode of Payment, dtype: int64"
      ]
     },
     "execution_count": 41,
     "metadata": {},
     "output_type": "execute_result"
    }
   ],
   "source": [
    "psycometric_data['Preferred Mode of Payment'].value_counts()"
   ]
  },
  {
   "cell_type": "code",
   "execution_count": 42,
   "metadata": {
    "id": "TpW3sJMtWEw4"
   },
   "outputs": [],
   "source": [
    "# Standardise Preferred Mode of Payment\n",
    "psycometric_data['Preferred Mode of Payment'].replace({\"Cash on Delivery\": \"Cash On Delivery\"}, inplace=True)"
   ]
  },
  {
   "cell_type": "code",
   "execution_count": 43,
   "metadata": {
    "colab": {
     "base_uri": "https://localhost:8080/"
    },
    "executionInfo": {
     "elapsed": 97,
     "status": "ok",
     "timestamp": 1649619526676,
     "user": {
      "displayName": "Goh Jia Yi",
      "userId": "03217675921799541747"
     },
     "user_tz": -480
    },
    "id": "emF8TvY1clqJ",
    "outputId": "5921aa86-31a9-40a5-d523-da3ea1222c9c"
   },
   "outputs": [
    {
     "data": {
      "text/plain": [
       "UPI                 198\n",
       "Cash On Delivery     42\n",
       "Debit Card           22\n",
       "Credit Card          22\n",
       "Net Banking           8\n",
       "Online Wallets        7\n",
       "Any Other             5\n",
       "Name: Preferred Mode of Payment, dtype: int64"
      ]
     },
     "execution_count": 43,
     "metadata": {},
     "output_type": "execute_result"
    }
   ],
   "source": [
    "psycometric_data['Preferred Mode of Payment'].value_counts()"
   ]
  },
  {
   "cell_type": "markdown",
   "metadata": {
    "id": "74U0zp-CaY4q"
   },
   "source": [
    "If you do meditate, how often do you practise mediation?"
   ]
  },
  {
   "cell_type": "code",
   "execution_count": 44,
   "metadata": {
    "colab": {
     "base_uri": "https://localhost:8080/"
    },
    "executionInfo": {
     "elapsed": 90,
     "status": "ok",
     "timestamp": 1649619526677,
     "user": {
      "displayName": "Goh Jia Yi",
      "userId": "03217675921799541747"
     },
     "user_tz": -480
    },
    "id": "LGvi-WaTcoyd",
    "outputId": "48fbe23e-fe0d-496d-a503-116dd37dcdfd"
   },
   "outputs": [
    {
     "data": {
      "text/plain": [
       "I have never tried.             87\n",
       "sometimes but not consistent    80\n",
       "No                              58\n",
       "everyday                        34\n",
       "once or twice a week            33\n",
       "Everyday                         8\n",
       "1/2 times a week                 4\n",
       "Name: If you do meditate, how often do you practise meditation?, dtype: int64"
      ]
     },
     "execution_count": 44,
     "metadata": {},
     "output_type": "execute_result"
    }
   ],
   "source": [
    "psycometric_data['If you do meditate, how often do you practise meditation?'].value_counts()"
   ]
  },
  {
   "cell_type": "code",
   "execution_count": 45,
   "metadata": {
    "id": "zv4H2u18ZrpJ"
   },
   "outputs": [],
   "source": [
    "# Standardise Meditation Frequency\n",
    "psycometric_data['If you do meditate, how often do you practise meditation?'].replace({\"I have never tried.\": \"No\", \n",
    "                                                                                    \"everyday\": \"Everyday\", \n",
    "                                                                                    \"1/2 times a week\": \"Once or Twice a week\", \n",
    "                                                                                    \"once or twice a week\": \"Once or Twice a week\", \n",
    "                                                                                    \"sometimes but not consistent\": \"Sometimes but Not Consistent\"}, inplace=True)"
   ]
  },
  {
   "cell_type": "code",
   "execution_count": 46,
   "metadata": {
    "colab": {
     "base_uri": "https://localhost:8080/"
    },
    "executionInfo": {
     "elapsed": 86,
     "status": "ok",
     "timestamp": 1649619526678,
     "user": {
      "displayName": "Goh Jia Yi",
      "userId": "03217675921799541747"
     },
     "user_tz": -480
    },
    "id": "LqIL5F8Mct2q",
    "outputId": "d418b5b2-64e4-44a3-b47d-a9c0842717c4"
   },
   "outputs": [
    {
     "data": {
      "text/plain": [
       "No                              145\n",
       "Sometimes but Not Consistent     80\n",
       "Everyday                         42\n",
       "Once or Twice a week             37\n",
       "Name: If you do meditate, how often do you practise meditation?, dtype: int64"
      ]
     },
     "execution_count": 46,
     "metadata": {},
     "output_type": "execute_result"
    }
   ],
   "source": [
    "psycometric_data['If you do meditate, how often do you practise meditation?'].value_counts()"
   ]
  },
  {
   "cell_type": "markdown",
   "metadata": {
    "id": "76DVlFj7aTyP"
   },
   "source": [
    "Do you do any form of exercise?"
   ]
  },
  {
   "cell_type": "code",
   "execution_count": 47,
   "metadata": {
    "colab": {
     "base_uri": "https://localhost:8080/"
    },
    "executionInfo": {
     "elapsed": 82,
     "status": "ok",
     "timestamp": 1649619526679,
     "user": {
      "displayName": "Goh Jia Yi",
      "userId": "03217675921799541747"
     },
     "user_tz": -480
    },
    "id": "pDZfUyc1aQ0Q",
    "outputId": "bbb61a3c-6b60-4ef3-e793-8f2cbff4d9f8"
   },
   "outputs": [
    {
     "data": {
      "text/plain": [
       "Yes                             220\n",
       "No                               83\n",
       "sometimes but not consistent      1\n",
       "Name: Do you do any form of exercise?, dtype: int64"
      ]
     },
     "execution_count": 47,
     "metadata": {},
     "output_type": "execute_result"
    }
   ],
   "source": [
    "psycometric_data['Do you do any form of exercise?'].value_counts()"
   ]
  },
  {
   "cell_type": "code",
   "execution_count": 48,
   "metadata": {
    "id": "4us_bduPaM7Z"
   },
   "outputs": [],
   "source": [
    "# Standardise Exercise Frequency\n",
    "psycometric_data['Do you do any form of exercise?'].replace({\"sometimes but not consistent\": \"Yes\"}, inplace=True)"
   ]
  },
  {
   "cell_type": "code",
   "execution_count": 49,
   "metadata": {
    "colab": {
     "base_uri": "https://localhost:8080/"
    },
    "executionInfo": {
     "elapsed": 77,
     "status": "ok",
     "timestamp": 1649619526680,
     "user": {
      "displayName": "Goh Jia Yi",
      "userId": "03217675921799541747"
     },
     "user_tz": -480
    },
    "id": "zdwpyvW8a6Dh",
    "outputId": "d2951666-3445-492c-d09c-431fe325e693"
   },
   "outputs": [
    {
     "data": {
      "text/plain": [
       "Yes    221\n",
       "No      83\n",
       "Name: Do you do any form of exercise?, dtype: int64"
      ]
     },
     "execution_count": 49,
     "metadata": {},
     "output_type": "execute_result"
    }
   ],
   "source": [
    "psycometric_data['Do you do any form of exercise?'].value_counts()"
   ]
  },
  {
   "cell_type": "markdown",
   "metadata": {
    "id": "LqjfsaOOa8Jp"
   },
   "source": [
    "If you exercise, how often do you exercise?"
   ]
  },
  {
   "cell_type": "code",
   "execution_count": 50,
   "metadata": {
    "colab": {
     "base_uri": "https://localhost:8080/"
    },
    "executionInfo": {
     "elapsed": 74,
     "status": "ok",
     "timestamp": 1649619526681,
     "user": {
      "displayName": "Goh Jia Yi",
      "userId": "03217675921799541747"
     },
     "user_tz": -480
    },
    "id": "GrSRTg6Xc7Zr",
    "outputId": "b047a2ff-e88e-4233-b45e-fdfa7230c97e"
   },
   "outputs": [
    {
     "data": {
      "text/plain": [
       "sometimes but not consistent    107\n",
       "everyday                         81\n",
       "once or twice a week             57\n",
       "No                               46\n",
       "Everyday                          9\n",
       "1/2 times a week                  3\n",
       "Very Often                        1\n",
       "Name: If you exercise, how often do you exercise?, dtype: int64"
      ]
     },
     "execution_count": 50,
     "metadata": {},
     "output_type": "execute_result"
    }
   ],
   "source": [
    "psycometric_data['If you exercise, how often do you exercise?'].value_counts()"
   ]
  },
  {
   "cell_type": "code",
   "execution_count": 51,
   "metadata": {
    "id": "c0amkzXPa6K1"
   },
   "outputs": [],
   "source": [
    "# I interpret \"1/2 times a week\" as equivalent to once or twice a week, Everyday = everyday\n",
    "psycometric_data['If you exercise, how often do you exercise?'].replace({\"everyday\" : \"Everyday\",\n",
    "                                                                       \"1/2 times a week\" : \"Once or Twice a week\",\n",
    "                                                                       \"once or twice a week\" : \"Once or Twice a week\", \n",
    "                                                                       \"sometimes but not consistent\": \"Sometimes but Not Consistent\", \n",
    "                                                                       \"Very Often\" : \"Once or Twice a week\"}, inplace=True)"
   ]
  },
  {
   "cell_type": "code",
   "execution_count": 52,
   "metadata": {
    "colab": {
     "base_uri": "https://localhost:8080/"
    },
    "executionInfo": {
     "elapsed": 70,
     "status": "ok",
     "timestamp": 1649619526682,
     "user": {
      "displayName": "Goh Jia Yi",
      "userId": "03217675921799541747"
     },
     "user_tz": -480
    },
    "id": "IfcRYjSRbWIR",
    "outputId": "0e369d79-1f58-45ea-96a0-5f8cdb8e92f7"
   },
   "outputs": [
    {
     "data": {
      "text/plain": [
       "Sometimes but Not Consistent    107\n",
       "Everyday                         90\n",
       "Once or Twice a week             61\n",
       "No                               46\n",
       "Name: If you exercise, how often do you exercise?, dtype: int64"
      ]
     },
     "execution_count": 52,
     "metadata": {},
     "output_type": "execute_result"
    }
   ],
   "source": [
    "psycometric_data['If you exercise, how often do you exercise?'].value_counts()"
   ]
  },
  {
   "cell_type": "markdown",
   "metadata": {
    "id": "DRMpbzk-bYAm"
   },
   "source": [
    "How often do you pursue your hobbies?"
   ]
  },
  {
   "cell_type": "code",
   "execution_count": 53,
   "metadata": {
    "colab": {
     "base_uri": "https://localhost:8080/"
    },
    "executionInfo": {
     "elapsed": 66,
     "status": "ok",
     "timestamp": 1649619526683,
     "user": {
      "displayName": "Goh Jia Yi",
      "userId": "03217675921799541747"
     },
     "user_tz": -480
    },
    "id": "A5gz7-TD-ACC",
    "outputId": "39ed09e9-fb6c-4df5-b1fd-2674a39d2847"
   },
   "outputs": [
    {
     "data": {
      "text/plain": [
       "Sometimes     117\n",
       "Very often     98\n",
       "Always         71\n",
       "Rarely         13\n",
       "Never           3\n",
       "Daily           2\n",
       "Name: How often do you pursue your hobbies?, dtype: int64"
      ]
     },
     "execution_count": 53,
     "metadata": {},
     "output_type": "execute_result"
    }
   ],
   "source": [
    "psycometric_data['How often do you pursue your hobbies?'].value_counts()"
   ]
  },
  {
   "cell_type": "code",
   "execution_count": 54,
   "metadata": {
    "id": "NPwCs9a8uYA6"
   },
   "outputs": [],
   "source": [
    "psycometric_data['How often do you pursue your hobbies?'].replace({\"sometimes\": \"Sometimes\",\n",
    "                                                                 \"very often\": \"Very Often\", \n",
    "                                                                 \"Very often\": \"Very Often\", \n",
    "                                                                 \"Daily\": \"Very Often\"}, inplace=True)"
   ]
  },
  {
   "cell_type": "code",
   "execution_count": 55,
   "metadata": {
    "colab": {
     "base_uri": "https://localhost:8080/"
    },
    "executionInfo": {
     "elapsed": 62,
     "status": "ok",
     "timestamp": 1649619526684,
     "user": {
      "displayName": "Goh Jia Yi",
      "userId": "03217675921799541747"
     },
     "user_tz": -480
    },
    "id": "mKkvVKYzu2iA",
    "outputId": "1e6b5ad8-9da4-491a-ae96-41f7389bf4e9"
   },
   "outputs": [
    {
     "data": {
      "text/plain": [
       "Sometimes     117\n",
       "Very Often    100\n",
       "Always         71\n",
       "Rarely         13\n",
       "Never           3\n",
       "Name: How often do you pursue your hobbies?, dtype: int64"
      ]
     },
     "execution_count": 55,
     "metadata": {},
     "output_type": "execute_result"
    }
   ],
   "source": [
    "psycometric_data['How often do you pursue your hobbies?'].value_counts()"
   ]
  },
  {
   "cell_type": "markdown",
   "metadata": {
    "id": "AjgWyeZMbjHu"
   },
   "source": [
    "Do you have to care for anyone with chronic illness?"
   ]
  },
  {
   "cell_type": "code",
   "execution_count": 56,
   "metadata": {
    "colab": {
     "base_uri": "https://localhost:8080/"
    },
    "executionInfo": {
     "elapsed": 59,
     "status": "ok",
     "timestamp": 1649619526685,
     "user": {
      "displayName": "Goh Jia Yi",
      "userId": "03217675921799541747"
     },
     "user_tz": -480
    },
    "id": "IQoYUZubdCgB",
    "outputId": "b531584d-9011-4310-d466-ee0647d94861"
   },
   "outputs": [
    {
     "data": {
      "text/plain": [
       "No     261\n",
       "Yes     41\n",
       "NO       1\n",
       "no       1\n",
       "Name: Do you have to care for anyone with chronic illness?, dtype: int64"
      ]
     },
     "execution_count": 56,
     "metadata": {},
     "output_type": "execute_result"
    }
   ],
   "source": [
    "psycometric_data['Do you have to care for anyone with chronic illness?'].value_counts()"
   ]
  },
  {
   "cell_type": "code",
   "execution_count": 57,
   "metadata": {
    "id": "b4-h-G-la6S_"
   },
   "outputs": [],
   "source": [
    "psycometric_data['Do you have to care for anyone with chronic illness?'].replace({\"no\": \"No\",\n",
    "                                                                                \"NO\": \"No\"}, inplace=True)"
   ]
  },
  {
   "cell_type": "code",
   "execution_count": 58,
   "metadata": {
    "colab": {
     "base_uri": "https://localhost:8080/"
    },
    "executionInfo": {
     "elapsed": 55,
     "status": "ok",
     "timestamp": 1649619526686,
     "user": {
      "displayName": "Goh Jia Yi",
      "userId": "03217675921799541747"
     },
     "user_tz": -480
    },
    "id": "1yNOYo6KdG83",
    "outputId": "f54b4218-ef4a-4aed-f52c-5eb4bc8e05af"
   },
   "outputs": [
    {
     "data": {
      "text/plain": [
       "No     263\n",
       "Yes     41\n",
       "Name: Do you have to care for anyone with chronic illness?, dtype: int64"
      ]
     },
     "execution_count": 58,
     "metadata": {},
     "output_type": "execute_result"
    }
   ],
   "source": [
    "psycometric_data['Do you have to care for anyone with chronic illness?'].value_counts()"
   ]
  },
  {
   "cell_type": "markdown",
   "metadata": {
    "id": "yVKue1kgdMh_"
   },
   "source": [
    "## Change Age 0 values to Mean"
   ]
  },
  {
   "cell_type": "code",
   "execution_count": 59,
   "metadata": {
    "colab": {
     "base_uri": "https://localhost:8080/",
     "height": 431
    },
    "executionInfo": {
     "elapsed": 52,
     "status": "ok",
     "timestamp": 1649619526687,
     "user": {
      "displayName": "Goh Jia Yi",
      "userId": "03217675921799541747"
     },
     "user_tz": -480
    },
    "id": "5gzXTFCA9p1c",
    "outputId": "5987bb58-5e3f-43b2-af99-030b891e1796"
   },
   "outputs": [
    {
     "data": {
      "text/html": [
       "<div>\n",
       "<style scoped>\n",
       "    .dataframe tbody tr th:only-of-type {\n",
       "        vertical-align: middle;\n",
       "    }\n",
       "\n",
       "    .dataframe tbody tr th {\n",
       "        vertical-align: top;\n",
       "    }\n",
       "\n",
       "    .dataframe thead th {\n",
       "        text-align: right;\n",
       "    }\n",
       "</style>\n",
       "<table border=\"1\" class=\"dataframe\">\n",
       "  <thead>\n",
       "    <tr style=\"text-align: right;\">\n",
       "      <th></th>\n",
       "      <th>Name</th>\n",
       "      <th>Gender</th>\n",
       "      <th>Current Job Title</th>\n",
       "      <th>Marital Status</th>\n",
       "      <th>Do you have to care for anyone with chronic illness?</th>\n",
       "      <th>Income (per month)</th>\n",
       "      <th>Preferred Mode of Payment</th>\n",
       "      <th>Do you practise meditation?</th>\n",
       "      <th>If you do meditate, how often do you practise meditation?</th>\n",
       "      <th>Do you do any form of exercise?</th>\n",
       "      <th>...</th>\n",
       "      <th>I believe success in life does not mean becoming rich</th>\n",
       "      <th>I segregate waste before its disposal</th>\n",
       "      <th>I try to conserve water</th>\n",
       "      <th>I try to educate people I know about climate change</th>\n",
       "      <th>I sign petitions related to environmental issues</th>\n",
       "      <th>I try to conserve electricity</th>\n",
       "      <th>I walk/cycle/use public transport to save fuel</th>\n",
       "      <th>Age</th>\n",
       "      <th>Has Child</th>\n",
       "      <th>Lives in City Tier</th>\n",
       "    </tr>\n",
       "  </thead>\n",
       "  <tbody>\n",
       "    <tr>\n",
       "      <th>50</th>\n",
       "      <td>G5M3R6</td>\n",
       "      <td>Male</td>\n",
       "      <td>Category Manager</td>\n",
       "      <td>Not Married</td>\n",
       "      <td>No</td>\n",
       "      <td>Rs. 75,000 – 100,000</td>\n",
       "      <td>UPI</td>\n",
       "      <td>No</td>\n",
       "      <td>No</td>\n",
       "      <td>No</td>\n",
       "      <td>...</td>\n",
       "      <td>4</td>\n",
       "      <td>4</td>\n",
       "      <td>4</td>\n",
       "      <td>4</td>\n",
       "      <td>4</td>\n",
       "      <td>4</td>\n",
       "      <td>4</td>\n",
       "      <td>0</td>\n",
       "      <td>No</td>\n",
       "      <td>Tier 1</td>\n",
       "    </tr>\n",
       "    <tr>\n",
       "      <th>173</th>\n",
       "      <td>G6M4R8</td>\n",
       "      <td>Male</td>\n",
       "      <td>Student</td>\n",
       "      <td>Not Married</td>\n",
       "      <td>No</td>\n",
       "      <td>Rs. 10,000 – 25,000</td>\n",
       "      <td>UPI</td>\n",
       "      <td>Yes</td>\n",
       "      <td>Sometimes but Not Consistent</td>\n",
       "      <td>Yes</td>\n",
       "      <td>...</td>\n",
       "      <td>4</td>\n",
       "      <td>4</td>\n",
       "      <td>7</td>\n",
       "      <td>7</td>\n",
       "      <td>4</td>\n",
       "      <td>7</td>\n",
       "      <td>4</td>\n",
       "      <td>0</td>\n",
       "      <td>No</td>\n",
       "      <td>Tier 3</td>\n",
       "    </tr>\n",
       "  </tbody>\n",
       "</table>\n",
       "<p>2 rows × 59 columns</p>\n",
       "</div>"
      ],
      "text/plain": [
       "       Name Gender Current Job Title Marital Status  \\\n",
       "50   G5M3R6   Male  Category Manager    Not Married   \n",
       "173  G6M4R8   Male           Student    Not Married   \n",
       "\n",
       "    Do you have to care for anyone with chronic illness?  \\\n",
       "50                                                  No     \n",
       "173                                                 No     \n",
       "\n",
       "       Income (per month) Preferred Mode of Payment  \\\n",
       "50   Rs. 75,000 – 100,000                       UPI   \n",
       "173   Rs. 10,000 – 25,000                       UPI   \n",
       "\n",
       "    Do you practise meditation?  \\\n",
       "50                           No   \n",
       "173                         Yes   \n",
       "\n",
       "    If you do meditate, how often do you practise meditation?  \\\n",
       "50                                                  No          \n",
       "173                       Sometimes but Not Consistent          \n",
       "\n",
       "    Do you do any form of exercise?  ...  \\\n",
       "50                               No  ...   \n",
       "173                             Yes  ...   \n",
       "\n",
       "    I believe success in life does not mean becoming rich  \\\n",
       "50                                                   4      \n",
       "173                                                  4      \n",
       "\n",
       "    I segregate waste before its disposal  I try to conserve water  \\\n",
       "50                                      4                        4   \n",
       "173                                     4                        7   \n",
       "\n",
       "    I try to educate people I know about climate change  \\\n",
       "50                                                   4    \n",
       "173                                                  7    \n",
       "\n",
       "     I sign petitions related to environmental issues  \\\n",
       "50                                                  4   \n",
       "173                                                 4   \n",
       "\n",
       "     I try to conserve electricity  \\\n",
       "50                               4   \n",
       "173                              7   \n",
       "\n",
       "     I walk/cycle/use public transport to save fuel  Age  Has Child  \\\n",
       "50                                                4    0         No   \n",
       "173                                               4    0         No   \n",
       "\n",
       "     Lives in City Tier  \n",
       "50               Tier 1  \n",
       "173              Tier 3  \n",
       "\n",
       "[2 rows x 59 columns]"
      ]
     },
     "execution_count": 59,
     "metadata": {},
     "output_type": "execute_result"
    }
   ],
   "source": [
    "psycometric_data[psycometric_data['Age'] == 0]"
   ]
  },
  {
   "cell_type": "code",
   "execution_count": 60,
   "metadata": {
    "id": "DSrpKdMedc-_"
   },
   "outputs": [],
   "source": [
    "# Replace 0 values with mean\n",
    "mean_age = round(np.mean(psycometric_data['Age']))\n",
    "psycometric_data['Age'] = np.where(psycometric_data['Age'] == 0, mean_age, psycometric_data['Age'])"
   ]
  },
  {
   "cell_type": "markdown",
   "metadata": {
    "id": "pAa0Po0QiNHH"
   },
   "source": [
    "## Check for duplicated rows"
   ]
  },
  {
   "cell_type": "code",
   "execution_count": 61,
   "metadata": {
    "colab": {
     "base_uri": "https://localhost:8080/"
    },
    "executionInfo": {
     "elapsed": 50,
     "status": "ok",
     "timestamp": 1649619526688,
     "user": {
      "displayName": "Goh Jia Yi",
      "userId": "03217675921799541747"
     },
     "user_tz": -480
    },
    "id": "TVlg2QeBiHBP",
    "outputId": "7dcfe022-54fb-42d1-e723-93d0436674d3"
   },
   "outputs": [
    {
     "data": {
      "text/plain": [
       "0"
      ]
     },
     "execution_count": 61,
     "metadata": {},
     "output_type": "execute_result"
    }
   ],
   "source": [
    "psycometric_data.duplicated().sum()"
   ]
  },
  {
   "cell_type": "markdown",
   "metadata": {
    "id": "03h03uyAgKXO"
   },
   "source": [
    "### Remove Duplicated Rows with Same Name"
   ]
  },
  {
   "cell_type": "code",
   "execution_count": 62,
   "metadata": {
    "colab": {
     "base_uri": "https://localhost:8080/"
    },
    "executionInfo": {
     "elapsed": 1052,
     "status": "ok",
     "timestamp": 1649619527695,
     "user": {
      "displayName": "Goh Jia Yi",
      "userId": "03217675921799541747"
     },
     "user_tz": -480
    },
    "id": "2K_6keWuihjO",
    "outputId": "c8b403d3-1e0b-485e-b997-b4e7a411f8d2"
   },
   "outputs": [
    {
     "data": {
      "text/plain": [
       "1"
      ]
     },
     "execution_count": 62,
     "metadata": {},
     "output_type": "execute_result"
    }
   ],
   "source": [
    "psycometric_data['Name'].duplicated().sum()"
   ]
  },
  {
   "cell_type": "code",
   "execution_count": 63,
   "metadata": {
    "colab": {
     "base_uri": "https://localhost:8080/",
     "height": 396
    },
    "executionInfo": {
     "elapsed": 61,
     "status": "ok",
     "timestamp": 1649619527697,
     "user": {
      "displayName": "Goh Jia Yi",
      "userId": "03217675921799541747"
     },
     "user_tz": -480
    },
    "id": "N6y3e8tVgeQZ",
    "outputId": "47d136ea-892f-460f-adf1-76c571fec263"
   },
   "outputs": [
    {
     "data": {
      "text/html": [
       "<div>\n",
       "<style scoped>\n",
       "    .dataframe tbody tr th:only-of-type {\n",
       "        vertical-align: middle;\n",
       "    }\n",
       "\n",
       "    .dataframe tbody tr th {\n",
       "        vertical-align: top;\n",
       "    }\n",
       "\n",
       "    .dataframe thead th {\n",
       "        text-align: right;\n",
       "    }\n",
       "</style>\n",
       "<table border=\"1\" class=\"dataframe\">\n",
       "  <thead>\n",
       "    <tr style=\"text-align: right;\">\n",
       "      <th></th>\n",
       "      <th>Name</th>\n",
       "      <th>Gender</th>\n",
       "      <th>Current Job Title</th>\n",
       "      <th>Marital Status</th>\n",
       "      <th>Do you have to care for anyone with chronic illness?</th>\n",
       "      <th>Income (per month)</th>\n",
       "      <th>Preferred Mode of Payment</th>\n",
       "      <th>Do you practise meditation?</th>\n",
       "      <th>If you do meditate, how often do you practise meditation?</th>\n",
       "      <th>Do you do any form of exercise?</th>\n",
       "      <th>...</th>\n",
       "      <th>I believe success in life does not mean becoming rich</th>\n",
       "      <th>I segregate waste before its disposal</th>\n",
       "      <th>I try to conserve water</th>\n",
       "      <th>I try to educate people I know about climate change</th>\n",
       "      <th>I sign petitions related to environmental issues</th>\n",
       "      <th>I try to conserve electricity</th>\n",
       "      <th>I walk/cycle/use public transport to save fuel</th>\n",
       "      <th>Age</th>\n",
       "      <th>Has Child</th>\n",
       "      <th>Lives in City Tier</th>\n",
       "    </tr>\n",
       "  </thead>\n",
       "  <tbody>\n",
       "    <tr>\n",
       "      <th>76</th>\n",
       "      <td>G3M2R2</td>\n",
       "      <td>Male</td>\n",
       "      <td>Student</td>\n",
       "      <td>Not Married</td>\n",
       "      <td>Yes</td>\n",
       "      <td>Prefer Not to Say</td>\n",
       "      <td>UPI</td>\n",
       "      <td>No</td>\n",
       "      <td>Sometimes but Not Consistent</td>\n",
       "      <td>Yes</td>\n",
       "      <td>...</td>\n",
       "      <td>2</td>\n",
       "      <td>3</td>\n",
       "      <td>5</td>\n",
       "      <td>1</td>\n",
       "      <td>6</td>\n",
       "      <td>4</td>\n",
       "      <td>6</td>\n",
       "      <td>19</td>\n",
       "      <td>No</td>\n",
       "      <td>Tier 2</td>\n",
       "    </tr>\n",
       "    <tr>\n",
       "      <th>77</th>\n",
       "      <td>G3M2R2</td>\n",
       "      <td>Male</td>\n",
       "      <td>Student</td>\n",
       "      <td>Not Married</td>\n",
       "      <td>No</td>\n",
       "      <td>Prefer Not to Say</td>\n",
       "      <td>Cash On Delivery</td>\n",
       "      <td>No</td>\n",
       "      <td>No</td>\n",
       "      <td>No</td>\n",
       "      <td>...</td>\n",
       "      <td>6</td>\n",
       "      <td>4</td>\n",
       "      <td>6</td>\n",
       "      <td>5</td>\n",
       "      <td>1</td>\n",
       "      <td>5</td>\n",
       "      <td>6</td>\n",
       "      <td>24</td>\n",
       "      <td>No</td>\n",
       "      <td>Tier 2</td>\n",
       "    </tr>\n",
       "  </tbody>\n",
       "</table>\n",
       "<p>2 rows × 59 columns</p>\n",
       "</div>"
      ],
      "text/plain": [
       "      Name Gender Current Job Title Marital Status  \\\n",
       "76  G3M2R2   Male           Student    Not Married   \n",
       "77  G3M2R2   Male           Student    Not Married   \n",
       "\n",
       "   Do you have to care for anyone with chronic illness? Income (per month)  \\\n",
       "76                                                Yes    Prefer Not to Say   \n",
       "77                                                 No    Prefer Not to Say   \n",
       "\n",
       "   Preferred Mode of Payment Do you practise meditation?  \\\n",
       "76                       UPI                          No   \n",
       "77          Cash On Delivery                          No   \n",
       "\n",
       "   If you do meditate, how often do you practise meditation?  \\\n",
       "76                       Sometimes but Not Consistent          \n",
       "77                                                 No          \n",
       "\n",
       "   Do you do any form of exercise?  ...  \\\n",
       "76                             Yes  ...   \n",
       "77                              No  ...   \n",
       "\n",
       "   I believe success in life does not mean becoming rich  \\\n",
       "76                                                  2      \n",
       "77                                                  6      \n",
       "\n",
       "   I segregate waste before its disposal  I try to conserve water  \\\n",
       "76                                     3                        5   \n",
       "77                                     4                        6   \n",
       "\n",
       "   I try to educate people I know about climate change  \\\n",
       "76                                                  1    \n",
       "77                                                  5    \n",
       "\n",
       "    I sign petitions related to environmental issues  \\\n",
       "76                                                 6   \n",
       "77                                                 1   \n",
       "\n",
       "    I try to conserve electricity  \\\n",
       "76                              4   \n",
       "77                              5   \n",
       "\n",
       "    I walk/cycle/use public transport to save fuel  Age  Has Child  \\\n",
       "76                                               6   19         No   \n",
       "77                                               6   24         No   \n",
       "\n",
       "    Lives in City Tier  \n",
       "76              Tier 2  \n",
       "77              Tier 2  \n",
       "\n",
       "[2 rows x 59 columns]"
      ]
     },
     "execution_count": 63,
     "metadata": {},
     "output_type": "execute_result"
    }
   ],
   "source": [
    "psycometric_data[psycometric_data['Name'].duplicated(keep=False)]"
   ]
  },
  {
   "cell_type": "code",
   "execution_count": 64,
   "metadata": {
    "id": "Rs86dZzCyggw"
   },
   "outputs": [],
   "source": [
    "# Remove the second duplicated name row\n",
    "psycometric_data.drop_duplicates(subset=['Name'], inplace=True)"
   ]
  },
  {
   "cell_type": "markdown",
   "metadata": {
    "id": "MIZ1Pt35SeOh"
   },
   "source": [
    "## Export"
   ]
  },
  {
   "cell_type": "code",
   "execution_count": 65,
   "metadata": {
    "colab": {
     "base_uri": "https://localhost:8080/"
    },
    "executionInfo": {
     "elapsed": 146,
     "status": "ok",
     "timestamp": 1649619536381,
     "user": {
      "displayName": "Goh Jia Yi",
      "userId": "03217675921799541747"
     },
     "user_tz": -480
    },
    "id": "9LNBwePP-WkG",
    "outputId": "1f07477f-2c9d-425c-d2bd-a9686bd3d2b4"
   },
   "outputs": [
    {
     "data": {
      "text/plain": [
       "(303, 59)"
      ]
     },
     "execution_count": 65,
     "metadata": {},
     "output_type": "execute_result"
    }
   ],
   "source": [
    "psycometric_data.shape"
   ]
  },
  {
   "cell_type": "code",
   "execution_count": 66,
   "metadata": {
    "colab": {
     "base_uri": "https://localhost:8080/",
     "height": 629
    },
    "executionInfo": {
     "elapsed": 135,
     "status": "ok",
     "timestamp": 1649619536384,
     "user": {
      "displayName": "Goh Jia Yi",
      "userId": "03217675921799541747"
     },
     "user_tz": -480
    },
    "id": "qv5zoWF2pXwW",
    "outputId": "39db49de-b2b4-4cd2-bdcb-82ab92401821"
   },
   "outputs": [
    {
     "data": {
      "text/html": [
       "<div>\n",
       "<style scoped>\n",
       "    .dataframe tbody tr th:only-of-type {\n",
       "        vertical-align: middle;\n",
       "    }\n",
       "\n",
       "    .dataframe tbody tr th {\n",
       "        vertical-align: top;\n",
       "    }\n",
       "\n",
       "    .dataframe thead th {\n",
       "        text-align: right;\n",
       "    }\n",
       "</style>\n",
       "<table border=\"1\" class=\"dataframe\">\n",
       "  <thead>\n",
       "    <tr style=\"text-align: right;\">\n",
       "      <th></th>\n",
       "      <th>Name</th>\n",
       "      <th>Gender</th>\n",
       "      <th>Current Job Title</th>\n",
       "      <th>Marital Status</th>\n",
       "      <th>Do you have to care for anyone with chronic illness?</th>\n",
       "      <th>Income (per month)</th>\n",
       "      <th>Preferred Mode of Payment</th>\n",
       "      <th>Do you practise meditation?</th>\n",
       "      <th>If you do meditate, how often do you practise meditation?</th>\n",
       "      <th>Do you do any form of exercise?</th>\n",
       "      <th>...</th>\n",
       "      <th>I believe success in life does not mean becoming rich</th>\n",
       "      <th>I segregate waste before its disposal</th>\n",
       "      <th>I try to conserve water</th>\n",
       "      <th>I try to educate people I know about climate change</th>\n",
       "      <th>I sign petitions related to environmental issues</th>\n",
       "      <th>I try to conserve electricity</th>\n",
       "      <th>I walk/cycle/use public transport to save fuel</th>\n",
       "      <th>Age</th>\n",
       "      <th>Has Child</th>\n",
       "      <th>Lives in City Tier</th>\n",
       "    </tr>\n",
       "  </thead>\n",
       "  <tbody>\n",
       "    <tr>\n",
       "      <th>0</th>\n",
       "      <td>G6M1R6</td>\n",
       "      <td>Male</td>\n",
       "      <td>Service Engineer</td>\n",
       "      <td>Not Married</td>\n",
       "      <td>No</td>\n",
       "      <td>Prefer Not to Say</td>\n",
       "      <td>UPI</td>\n",
       "      <td>No</td>\n",
       "      <td>No</td>\n",
       "      <td>No</td>\n",
       "      <td>...</td>\n",
       "      <td>5</td>\n",
       "      <td>4</td>\n",
       "      <td>5</td>\n",
       "      <td>4</td>\n",
       "      <td>3</td>\n",
       "      <td>4</td>\n",
       "      <td>4</td>\n",
       "      <td>24</td>\n",
       "      <td>No</td>\n",
       "      <td>Tier 2</td>\n",
       "    </tr>\n",
       "    <tr>\n",
       "      <th>1</th>\n",
       "      <td>G6M1R1</td>\n",
       "      <td>Male</td>\n",
       "      <td>Production Engineer</td>\n",
       "      <td>Not Married</td>\n",
       "      <td>No</td>\n",
       "      <td>Rs. 25,000 – 50,000</td>\n",
       "      <td>UPI</td>\n",
       "      <td>No</td>\n",
       "      <td>No</td>\n",
       "      <td>Yes</td>\n",
       "      <td>...</td>\n",
       "      <td>6</td>\n",
       "      <td>2</td>\n",
       "      <td>6</td>\n",
       "      <td>6</td>\n",
       "      <td>5</td>\n",
       "      <td>2</td>\n",
       "      <td>3</td>\n",
       "      <td>25</td>\n",
       "      <td>No</td>\n",
       "      <td>Tier 2</td>\n",
       "    </tr>\n",
       "    <tr>\n",
       "      <th>2</th>\n",
       "      <td>G6M1R8</td>\n",
       "      <td>Female</td>\n",
       "      <td>Lecturer</td>\n",
       "      <td>Married</td>\n",
       "      <td>No</td>\n",
       "      <td>Rs. 50,000 – 75,000</td>\n",
       "      <td>UPI</td>\n",
       "      <td>No</td>\n",
       "      <td>No</td>\n",
       "      <td>Yes</td>\n",
       "      <td>...</td>\n",
       "      <td>7</td>\n",
       "      <td>4</td>\n",
       "      <td>7</td>\n",
       "      <td>7</td>\n",
       "      <td>7</td>\n",
       "      <td>6</td>\n",
       "      <td>6</td>\n",
       "      <td>30</td>\n",
       "      <td>No</td>\n",
       "      <td>Tier 3</td>\n",
       "    </tr>\n",
       "    <tr>\n",
       "      <th>3</th>\n",
       "      <td>G6M1R5</td>\n",
       "      <td>Male</td>\n",
       "      <td>Student</td>\n",
       "      <td>Not Married</td>\n",
       "      <td>No</td>\n",
       "      <td>Prefer Not to Say</td>\n",
       "      <td>Debit Card</td>\n",
       "      <td>No</td>\n",
       "      <td>No</td>\n",
       "      <td>Yes</td>\n",
       "      <td>...</td>\n",
       "      <td>6</td>\n",
       "      <td>2</td>\n",
       "      <td>6</td>\n",
       "      <td>6</td>\n",
       "      <td>4</td>\n",
       "      <td>6</td>\n",
       "      <td>6</td>\n",
       "      <td>24</td>\n",
       "      <td>No</td>\n",
       "      <td>Tier 2</td>\n",
       "    </tr>\n",
       "    <tr>\n",
       "      <th>4</th>\n",
       "      <td>G6M1R9</td>\n",
       "      <td>Male</td>\n",
       "      <td>Student</td>\n",
       "      <td>Not Married</td>\n",
       "      <td>No</td>\n",
       "      <td>Prefer Not to Say</td>\n",
       "      <td>Debit Card</td>\n",
       "      <td>No</td>\n",
       "      <td>No</td>\n",
       "      <td>No</td>\n",
       "      <td>...</td>\n",
       "      <td>7</td>\n",
       "      <td>7</td>\n",
       "      <td>7</td>\n",
       "      <td>7</td>\n",
       "      <td>7</td>\n",
       "      <td>7</td>\n",
       "      <td>7</td>\n",
       "      <td>23</td>\n",
       "      <td>No</td>\n",
       "      <td>Tier 2</td>\n",
       "    </tr>\n",
       "  </tbody>\n",
       "</table>\n",
       "<p>5 rows × 59 columns</p>\n",
       "</div>"
      ],
      "text/plain": [
       "     Name  Gender    Current Job Title Marital Status  \\\n",
       "0  G6M1R6    Male     Service Engineer    Not Married   \n",
       "1  G6M1R1    Male  Production Engineer    Not Married   \n",
       "2  G6M1R8  Female             Lecturer        Married   \n",
       "3  G6M1R5    Male              Student    Not Married   \n",
       "4  G6M1R9    Male              Student    Not Married   \n",
       "\n",
       "  Do you have to care for anyone with chronic illness?   Income (per month)  \\\n",
       "0                                                 No      Prefer Not to Say   \n",
       "1                                                 No    Rs. 25,000 – 50,000   \n",
       "2                                                 No    Rs. 50,000 – 75,000   \n",
       "3                                                 No      Prefer Not to Say   \n",
       "4                                                 No      Prefer Not to Say   \n",
       "\n",
       "  Preferred Mode of Payment Do you practise meditation?  \\\n",
       "0                       UPI                          No   \n",
       "1                       UPI                          No   \n",
       "2                       UPI                          No   \n",
       "3                Debit Card                          No   \n",
       "4                Debit Card                          No   \n",
       "\n",
       "  If you do meditate, how often do you practise meditation?  \\\n",
       "0                                                 No          \n",
       "1                                                 No          \n",
       "2                                                 No          \n",
       "3                                                 No          \n",
       "4                                                 No          \n",
       "\n",
       "  Do you do any form of exercise?  ...  \\\n",
       "0                              No  ...   \n",
       "1                             Yes  ...   \n",
       "2                             Yes  ...   \n",
       "3                             Yes  ...   \n",
       "4                              No  ...   \n",
       "\n",
       "  I believe success in life does not mean becoming rich  \\\n",
       "0                                                  5      \n",
       "1                                                  6      \n",
       "2                                                  7      \n",
       "3                                                  6      \n",
       "4                                                  7      \n",
       "\n",
       "  I segregate waste before its disposal  I try to conserve water  \\\n",
       "0                                     4                        5   \n",
       "1                                     2                        6   \n",
       "2                                     4                        7   \n",
       "3                                     2                        6   \n",
       "4                                     7                        7   \n",
       "\n",
       "  I try to educate people I know about climate change  \\\n",
       "0                                                  4    \n",
       "1                                                  6    \n",
       "2                                                  7    \n",
       "3                                                  6    \n",
       "4                                                  7    \n",
       "\n",
       "   I sign petitions related to environmental issues  \\\n",
       "0                                                 3   \n",
       "1                                                 5   \n",
       "2                                                 7   \n",
       "3                                                 4   \n",
       "4                                                 7   \n",
       "\n",
       "   I try to conserve electricity  \\\n",
       "0                              4   \n",
       "1                              2   \n",
       "2                              6   \n",
       "3                              6   \n",
       "4                              7   \n",
       "\n",
       "   I walk/cycle/use public transport to save fuel  Age  Has Child  \\\n",
       "0                                               4   24         No   \n",
       "1                                               3   25         No   \n",
       "2                                               6   30         No   \n",
       "3                                               6   24         No   \n",
       "4                                               7   23         No   \n",
       "\n",
       "   Lives in City Tier  \n",
       "0              Tier 2  \n",
       "1              Tier 2  \n",
       "2              Tier 3  \n",
       "3              Tier 2  \n",
       "4              Tier 2  \n",
       "\n",
       "[5 rows x 59 columns]"
      ]
     },
     "execution_count": 66,
     "metadata": {},
     "output_type": "execute_result"
    }
   ],
   "source": [
    "psycometric_data.head()"
   ]
  },
  {
   "cell_type": "code",
   "execution_count": 68,
   "metadata": {
    "id": "lD2Gnav_SCjt"
   },
   "outputs": [],
   "source": [
    "# Save to CSV\n",
    "# Cleaned demographic + cleaned psychometric columns\n",
    "psycometric_data.to_csv('data/psychometric_demo_clean.csv', index=False)"
   ]
  },
  {
   "cell_type": "markdown",
   "metadata": {
    "id": "iOqzSGE2Freh"
   },
   "source": [
    "# Exploratory Data Analysis (EDA)"
   ]
  },
  {
   "cell_type": "code",
   "execution_count": 2,
   "metadata": {
    "id": "w-V8mKh-SS00"
   },
   "outputs": [],
   "source": [
    "# Load clean CSV file\n",
    "psycometric_data = pd.read_csv('data/psychometric_demo_clean.csv')"
   ]
  },
  {
   "cell_type": "markdown",
   "metadata": {
    "id": "ODAdY3vpiX0V"
   },
   "source": [
    "## Numerical Variables"
   ]
  },
  {
   "cell_type": "code",
   "execution_count": 3,
   "metadata": {
    "colab": {
     "base_uri": "https://localhost:8080/",
     "height": 550
    },
    "executionInfo": {
     "elapsed": 7,
     "status": "ok",
     "timestamp": 1649935040634,
     "user": {
      "displayName": "Goh Jia Yi",
      "userId": "03217675921799541747"
     },
     "user_tz": -480
    },
    "id": "RfP06X-5iZZM",
    "outputId": "31709430-4599-4079-9a48-55caec058d29"
   },
   "outputs": [
    {
     "data": {
      "text/html": [
       "<div>\n",
       "<style scoped>\n",
       "    .dataframe tbody tr th:only-of-type {\n",
       "        vertical-align: middle;\n",
       "    }\n",
       "\n",
       "    .dataframe tbody tr th {\n",
       "        vertical-align: top;\n",
       "    }\n",
       "\n",
       "    .dataframe thead th {\n",
       "        text-align: right;\n",
       "    }\n",
       "</style>\n",
       "<table border=\"1\" class=\"dataframe\">\n",
       "  <thead>\n",
       "    <tr style=\"text-align: right;\">\n",
       "      <th></th>\n",
       "      <th>Hobbies Count</th>\n",
       "      <th>In most ways, my life is close to my ideal</th>\n",
       "      <th>The conditions in my life are excellent</th>\n",
       "      <th>So far, I have got the important things I want in my life</th>\n",
       "      <th>If I could live my life over, I would change almost nothing</th>\n",
       "      <th>Many people have directly or indirectly contributed to my progress in life</th>\n",
       "      <th>I feel good when I co-operate with others</th>\n",
       "      <th>When making a decision, I take other people's needs and feelings into account.</th>\n",
       "      <th>It is my duty to take care of my family, even when I have to sacrifice what I want.</th>\n",
       "      <th>Honesty is important to achieve success</th>\n",
       "      <th>...</th>\n",
       "      <th>My happiness does not depend on things I own</th>\n",
       "      <th>There is a higher purpose to life than comfort and luxury</th>\n",
       "      <th>I believe success in life does not mean becoming rich</th>\n",
       "      <th>I segregate waste before its disposal</th>\n",
       "      <th>I try to conserve water</th>\n",
       "      <th>I try to educate people I know about climate change</th>\n",
       "      <th>I sign petitions related to environmental issues</th>\n",
       "      <th>I try to conserve electricity</th>\n",
       "      <th>I walk/cycle/use public transport to save fuel</th>\n",
       "      <th>Age</th>\n",
       "    </tr>\n",
       "  </thead>\n",
       "  <tbody>\n",
       "    <tr>\n",
       "      <th>count</th>\n",
       "      <td>303.000000</td>\n",
       "      <td>303.000000</td>\n",
       "      <td>303.000000</td>\n",
       "      <td>303.000000</td>\n",
       "      <td>303.000000</td>\n",
       "      <td>303.000000</td>\n",
       "      <td>303.000000</td>\n",
       "      <td>303.000000</td>\n",
       "      <td>303.000000</td>\n",
       "      <td>303.000000</td>\n",
       "      <td>...</td>\n",
       "      <td>303.000000</td>\n",
       "      <td>303.000000</td>\n",
       "      <td>303.000000</td>\n",
       "      <td>303.000000</td>\n",
       "      <td>303.000000</td>\n",
       "      <td>303.00000</td>\n",
       "      <td>303.000000</td>\n",
       "      <td>303.000000</td>\n",
       "      <td>303.000000</td>\n",
       "      <td>303.000000</td>\n",
       "    </tr>\n",
       "    <tr>\n",
       "      <th>mean</th>\n",
       "      <td>1.821782</td>\n",
       "      <td>5.046205</td>\n",
       "      <td>5.003300</td>\n",
       "      <td>4.940594</td>\n",
       "      <td>4.211221</td>\n",
       "      <td>5.607261</td>\n",
       "      <td>6.016502</td>\n",
       "      <td>5.617162</td>\n",
       "      <td>5.957096</td>\n",
       "      <td>5.825083</td>\n",
       "      <td>...</td>\n",
       "      <td>4.983498</td>\n",
       "      <td>5.673267</td>\n",
       "      <td>5.557756</td>\n",
       "      <td>5.191419</td>\n",
       "      <td>5.924092</td>\n",
       "      <td>5.39934</td>\n",
       "      <td>4.762376</td>\n",
       "      <td>5.864686</td>\n",
       "      <td>5.000000</td>\n",
       "      <td>26.323432</td>\n",
       "    </tr>\n",
       "    <tr>\n",
       "      <th>std</th>\n",
       "      <td>1.077119</td>\n",
       "      <td>1.267726</td>\n",
       "      <td>1.318484</td>\n",
       "      <td>1.486062</td>\n",
       "      <td>1.834621</td>\n",
       "      <td>1.335040</td>\n",
       "      <td>0.991550</td>\n",
       "      <td>1.222838</td>\n",
       "      <td>1.134122</td>\n",
       "      <td>1.371094</td>\n",
       "      <td>...</td>\n",
       "      <td>1.510359</td>\n",
       "      <td>1.318053</td>\n",
       "      <td>1.474664</td>\n",
       "      <td>1.634578</td>\n",
       "      <td>1.172610</td>\n",
       "      <td>1.53834</td>\n",
       "      <td>1.879562</td>\n",
       "      <td>1.252087</td>\n",
       "      <td>1.705076</td>\n",
       "      <td>7.343579</td>\n",
       "    </tr>\n",
       "    <tr>\n",
       "      <th>min</th>\n",
       "      <td>0.000000</td>\n",
       "      <td>1.000000</td>\n",
       "      <td>1.000000</td>\n",
       "      <td>1.000000</td>\n",
       "      <td>1.000000</td>\n",
       "      <td>1.000000</td>\n",
       "      <td>1.000000</td>\n",
       "      <td>1.000000</td>\n",
       "      <td>1.000000</td>\n",
       "      <td>1.000000</td>\n",
       "      <td>...</td>\n",
       "      <td>1.000000</td>\n",
       "      <td>1.000000</td>\n",
       "      <td>1.000000</td>\n",
       "      <td>1.000000</td>\n",
       "      <td>1.000000</td>\n",
       "      <td>1.00000</td>\n",
       "      <td>1.000000</td>\n",
       "      <td>1.000000</td>\n",
       "      <td>1.000000</td>\n",
       "      <td>15.000000</td>\n",
       "    </tr>\n",
       "    <tr>\n",
       "      <th>25%</th>\n",
       "      <td>1.000000</td>\n",
       "      <td>4.000000</td>\n",
       "      <td>4.000000</td>\n",
       "      <td>4.000000</td>\n",
       "      <td>3.000000</td>\n",
       "      <td>5.000000</td>\n",
       "      <td>5.000000</td>\n",
       "      <td>5.000000</td>\n",
       "      <td>5.000000</td>\n",
       "      <td>5.000000</td>\n",
       "      <td>...</td>\n",
       "      <td>4.000000</td>\n",
       "      <td>5.000000</td>\n",
       "      <td>5.000000</td>\n",
       "      <td>4.000000</td>\n",
       "      <td>5.000000</td>\n",
       "      <td>4.00000</td>\n",
       "      <td>4.000000</td>\n",
       "      <td>5.000000</td>\n",
       "      <td>4.000000</td>\n",
       "      <td>23.000000</td>\n",
       "    </tr>\n",
       "    <tr>\n",
       "      <th>50%</th>\n",
       "      <td>1.000000</td>\n",
       "      <td>5.000000</td>\n",
       "      <td>5.000000</td>\n",
       "      <td>5.000000</td>\n",
       "      <td>4.000000</td>\n",
       "      <td>6.000000</td>\n",
       "      <td>6.000000</td>\n",
       "      <td>6.000000</td>\n",
       "      <td>6.000000</td>\n",
       "      <td>6.000000</td>\n",
       "      <td>...</td>\n",
       "      <td>5.000000</td>\n",
       "      <td>6.000000</td>\n",
       "      <td>6.000000</td>\n",
       "      <td>5.000000</td>\n",
       "      <td>6.000000</td>\n",
       "      <td>6.00000</td>\n",
       "      <td>5.000000</td>\n",
       "      <td>6.000000</td>\n",
       "      <td>5.000000</td>\n",
       "      <td>24.000000</td>\n",
       "    </tr>\n",
       "    <tr>\n",
       "      <th>75%</th>\n",
       "      <td>2.000000</td>\n",
       "      <td>6.000000</td>\n",
       "      <td>6.000000</td>\n",
       "      <td>6.000000</td>\n",
       "      <td>6.000000</td>\n",
       "      <td>7.000000</td>\n",
       "      <td>7.000000</td>\n",
       "      <td>7.000000</td>\n",
       "      <td>7.000000</td>\n",
       "      <td>7.000000</td>\n",
       "      <td>...</td>\n",
       "      <td>6.000000</td>\n",
       "      <td>7.000000</td>\n",
       "      <td>7.000000</td>\n",
       "      <td>7.000000</td>\n",
       "      <td>7.000000</td>\n",
       "      <td>7.00000</td>\n",
       "      <td>6.000000</td>\n",
       "      <td>7.000000</td>\n",
       "      <td>7.000000</td>\n",
       "      <td>26.000000</td>\n",
       "    </tr>\n",
       "    <tr>\n",
       "      <th>max</th>\n",
       "      <td>6.000000</td>\n",
       "      <td>7.000000</td>\n",
       "      <td>7.000000</td>\n",
       "      <td>7.000000</td>\n",
       "      <td>7.000000</td>\n",
       "      <td>7.000000</td>\n",
       "      <td>7.000000</td>\n",
       "      <td>7.000000</td>\n",
       "      <td>7.000000</td>\n",
       "      <td>7.000000</td>\n",
       "      <td>...</td>\n",
       "      <td>7.000000</td>\n",
       "      <td>7.000000</td>\n",
       "      <td>7.000000</td>\n",
       "      <td>7.000000</td>\n",
       "      <td>7.000000</td>\n",
       "      <td>7.00000</td>\n",
       "      <td>7.000000</td>\n",
       "      <td>7.000000</td>\n",
       "      <td>7.000000</td>\n",
       "      <td>65.000000</td>\n",
       "    </tr>\n",
       "  </tbody>\n",
       "</table>\n",
       "<p>8 rows × 44 columns</p>\n",
       "</div>"
      ],
      "text/plain": [
       "       Hobbies Count  In most ways, my life is close to my ideal  \\\n",
       "count     303.000000                                  303.000000   \n",
       "mean        1.821782                                    5.046205   \n",
       "std         1.077119                                    1.267726   \n",
       "min         0.000000                                    1.000000   \n",
       "25%         1.000000                                    4.000000   \n",
       "50%         1.000000                                    5.000000   \n",
       "75%         2.000000                                    6.000000   \n",
       "max         6.000000                                    7.000000   \n",
       "\n",
       "       The conditions in my life are excellent  \\\n",
       "count                               303.000000   \n",
       "mean                                  5.003300   \n",
       "std                                   1.318484   \n",
       "min                                   1.000000   \n",
       "25%                                   4.000000   \n",
       "50%                                   5.000000   \n",
       "75%                                   6.000000   \n",
       "max                                   7.000000   \n",
       "\n",
       "       So far, I have got the important things I want in my life  \\\n",
       "count                                         303.000000           \n",
       "mean                                            4.940594           \n",
       "std                                             1.486062           \n",
       "min                                             1.000000           \n",
       "25%                                             4.000000           \n",
       "50%                                             5.000000           \n",
       "75%                                             6.000000           \n",
       "max                                             7.000000           \n",
       "\n",
       "       If I could live my life over, I would change almost nothing  \\\n",
       "count                                         303.000000             \n",
       "mean                                            4.211221             \n",
       "std                                             1.834621             \n",
       "min                                             1.000000             \n",
       "25%                                             3.000000             \n",
       "50%                                             4.000000             \n",
       "75%                                             6.000000             \n",
       "max                                             7.000000             \n",
       "\n",
       "       Many people have directly or indirectly contributed to my progress in life  \\\n",
       "count                                         303.000000                            \n",
       "mean                                            5.607261                            \n",
       "std                                             1.335040                            \n",
       "min                                             1.000000                            \n",
       "25%                                             5.000000                            \n",
       "50%                                             6.000000                            \n",
       "75%                                             7.000000                            \n",
       "max                                             7.000000                            \n",
       "\n",
       "       I feel good when I co-operate with others  \\\n",
       "count                                 303.000000   \n",
       "mean                                    6.016502   \n",
       "std                                     0.991550   \n",
       "min                                     1.000000   \n",
       "25%                                     5.000000   \n",
       "50%                                     6.000000   \n",
       "75%                                     7.000000   \n",
       "max                                     7.000000   \n",
       "\n",
       "       When making a decision, I take other people's needs and feelings into account.  \\\n",
       "count                                         303.000000                                \n",
       "mean                                            5.617162                                \n",
       "std                                             1.222838                                \n",
       "min                                             1.000000                                \n",
       "25%                                             5.000000                                \n",
       "50%                                             6.000000                                \n",
       "75%                                             7.000000                                \n",
       "max                                             7.000000                                \n",
       "\n",
       "       It is my duty to take care of my family, even when I have to sacrifice what I want.  \\\n",
       "count                                         303.000000                                     \n",
       "mean                                            5.957096                                     \n",
       "std                                             1.134122                                     \n",
       "min                                             1.000000                                     \n",
       "25%                                             5.000000                                     \n",
       "50%                                             6.000000                                     \n",
       "75%                                             7.000000                                     \n",
       "max                                             7.000000                                     \n",
       "\n",
       "       Honesty is important to achieve success  ...  \\\n",
       "count                               303.000000  ...   \n",
       "mean                                  5.825083  ...   \n",
       "std                                   1.371094  ...   \n",
       "min                                   1.000000  ...   \n",
       "25%                                   5.000000  ...   \n",
       "50%                                   6.000000  ...   \n",
       "75%                                   7.000000  ...   \n",
       "max                                   7.000000  ...   \n",
       "\n",
       "       My happiness does not depend on things I own  \\\n",
       "count                                    303.000000   \n",
       "mean                                       4.983498   \n",
       "std                                        1.510359   \n",
       "min                                        1.000000   \n",
       "25%                                        4.000000   \n",
       "50%                                        5.000000   \n",
       "75%                                        6.000000   \n",
       "max                                        7.000000   \n",
       "\n",
       "       There is a higher purpose to life than comfort and luxury  \\\n",
       "count                                         303.000000           \n",
       "mean                                            5.673267           \n",
       "std                                             1.318053           \n",
       "min                                             1.000000           \n",
       "25%                                             5.000000           \n",
       "50%                                             6.000000           \n",
       "75%                                             7.000000           \n",
       "max                                             7.000000           \n",
       "\n",
       "       I believe success in life does not mean becoming rich  \\\n",
       "count                                         303.000000       \n",
       "mean                                            5.557756       \n",
       "std                                             1.474664       \n",
       "min                                             1.000000       \n",
       "25%                                             5.000000       \n",
       "50%                                             6.000000       \n",
       "75%                                             7.000000       \n",
       "max                                             7.000000       \n",
       "\n",
       "       I segregate waste before its disposal  I try to conserve water  \\\n",
       "count                             303.000000               303.000000   \n",
       "mean                                5.191419                 5.924092   \n",
       "std                                 1.634578                 1.172610   \n",
       "min                                 1.000000                 1.000000   \n",
       "25%                                 4.000000                 5.000000   \n",
       "50%                                 5.000000                 6.000000   \n",
       "75%                                 7.000000                 7.000000   \n",
       "max                                 7.000000                 7.000000   \n",
       "\n",
       "       I try to educate people I know about climate change  \\\n",
       "count                                          303.00000     \n",
       "mean                                             5.39934     \n",
       "std                                              1.53834     \n",
       "min                                              1.00000     \n",
       "25%                                              4.00000     \n",
       "50%                                              6.00000     \n",
       "75%                                              7.00000     \n",
       "max                                              7.00000     \n",
       "\n",
       "       I sign petitions related to environmental issues  \\\n",
       "count                                        303.000000   \n",
       "mean                                           4.762376   \n",
       "std                                            1.879562   \n",
       "min                                            1.000000   \n",
       "25%                                            4.000000   \n",
       "50%                                            5.000000   \n",
       "75%                                            6.000000   \n",
       "max                                            7.000000   \n",
       "\n",
       "       I try to conserve electricity  \\\n",
       "count                     303.000000   \n",
       "mean                        5.864686   \n",
       "std                         1.252087   \n",
       "min                         1.000000   \n",
       "25%                         5.000000   \n",
       "50%                         6.000000   \n",
       "75%                         7.000000   \n",
       "max                         7.000000   \n",
       "\n",
       "       I walk/cycle/use public transport to save fuel         Age  \n",
       "count                                      303.000000  303.000000  \n",
       "mean                                         5.000000   26.323432  \n",
       "std                                          1.705076    7.343579  \n",
       "min                                          1.000000   15.000000  \n",
       "25%                                          4.000000   23.000000  \n",
       "50%                                          5.000000   24.000000  \n",
       "75%                                          7.000000   26.000000  \n",
       "max                                          7.000000   65.000000  \n",
       "\n",
       "[8 rows x 44 columns]"
      ]
     },
     "execution_count": 3,
     "metadata": {},
     "output_type": "execute_result"
    }
   ],
   "source": [
    "psycometric_data.describe()"
   ]
  },
  {
   "cell_type": "markdown",
   "metadata": {
    "id": "uNGb0hT3UxG1"
   },
   "source": [
    "### Age"
   ]
  },
  {
   "cell_type": "code",
   "execution_count": 5,
   "metadata": {
    "colab": {
     "base_uri": "https://localhost:8080/",
     "height": 404
    },
    "executionInfo": {
     "elapsed": 371,
     "status": "ok",
     "timestamp": 1649935044128,
     "user": {
      "displayName": "Goh Jia Yi",
      "userId": "03217675921799541747"
     },
     "user_tz": -480
    },
    "id": "MsiVwEA5dPSD",
    "outputId": "ab7101ad-2456-48a9-b053-d937e043aeec"
   },
   "outputs": [
    {
     "data": {
      "image/png": "[encoded data removed]",
      "text/plain": [
       "<Figure size 864x432 with 1 Axes>"
      ]
     },
     "metadata": {
      "needs_background": "light"
     },
     "output_type": "display_data"
    }
   ],
   "source": [
    "plt.figure(figsize=(12,6))\n",
    "sns.histplot(psycometric_data['Age'], color='darkorange')\n",
    "plt.title(\"Distribution of Age\")\n",
    "plt.show()"
   ]
  },
  {
   "cell_type": "raw",
   "metadata": {},
   "source": [
    "From the above graph we can to know that our most of the customers lies int the age range of 20 to 30."
   ]
  },
  {
   "cell_type": "code",
   "execution_count": 6,
   "metadata": {
    "colab": {
     "base_uri": "https://localhost:8080/",
     "height": 325
    },
    "executionInfo": {
     "elapsed": 15,
     "status": "ok",
     "timestamp": 1649911888903,
     "user": {
      "displayName": "Goh Jia Yi",
      "userId": "03217675921799541747"
     },
     "user_tz": -480
    },
    "id": "DnWEXKjhZEjP",
    "outputId": "c1eefbe4-276f-4086-98e1-0a7dddaa3eda"
   },
   "outputs": [
    {
     "data": {
      "image/png": "[encoded data removed]",
      "text/plain": [
       "<Figure size 432x288 with 1 Axes>"
      ]
     },
     "metadata": {
      "needs_background": "light"
     },
     "output_type": "display_data"
    }
   ],
   "source": [
    "bins = [0, 10, 20, 30, 40, max(psycometric_data['Age'])]\n",
    "age_ct = psycometric_data.groupby(pd.cut(psycometric_data['Age'], bins=bins)).Age.count()\n",
    "age_ct.plot(kind='bar', color='darkorange')\n",
    "plt.title(\"Distribution of Age\")\n",
    "plt.ylabel(\"Count\")\n",
    "plt.show()"
   ]
  },
  {
   "cell_type": "markdown",
   "metadata": {
    "id": "6HovUuugigc_"
   },
   "source": [
    "## Categorical Variables"
   ]
  },
  {
   "cell_type": "markdown",
   "metadata": {
    "id": "VNaDNzbxgN-6"
   },
   "source": [
    "### Gender"
   ]
  },
  {
   "cell_type": "code",
   "execution_count": 16,
   "metadata": {
    "colab": {
     "base_uri": "https://localhost:8080/"
    },
    "executionInfo": {
     "elapsed": 96,
     "status": "ok",
     "timestamp": 1649675205314,
     "user": {
      "displayName": "Goh Jia Yi",
      "userId": "03217675921799541747"
     },
     "user_tz": -480
    },
    "id": "F2Vr9_ZBiigp",
    "outputId": "ba72beb1-6d24-4a9c-8608-7d96a1ab6a76"
   },
   "outputs": [
    {
     "data": {
      "text/plain": [
       "Male      226\n",
       "Female     77\n",
       "Name: Gender, dtype: int64"
      ]
     },
     "execution_count": 16,
     "metadata": {},
     "output_type": "execute_result"
    }
   ],
   "source": [
    "psycometric_data['Gender'].value_counts()"
   ]
  },
  {
   "cell_type": "code",
   "execution_count": 22,
   "metadata": {},
   "outputs": [
    {
     "data": {
      "image/png": "[encoded data removed]",
      "text/plain": [
       "<Figure size 720x432 with 1 Axes>"
      ]
     },
     "metadata": {},
     "output_type": "display_data"
    }
   ],
   "source": [
    "sns.set_style(\"whitegrid\")\n",
    "plt.figure(figsize=(10,6))\n",
    "labels=['Male','Female']\n",
    "plt.pie(psycometric_data['Gender'].value_counts(), labels=labels, autopct='%1.1f%%', startangle=90, textprops={'fontsize': 12})\n",
    "plt.title(\"Pie Chart of Gender\", fontsize=14)\n",
    "plt.show()"
   ]
  },
  {
   "cell_type": "raw",
   "metadata": {},
   "source": [
    "Majority of customers are male but females are also 25-26% so flipkart has to focus on this and do the respected changes so that they can draw female customers.Try to create new categories for womens also launch some campaings related to womens, and  onboard the brands related to women shopping."
   ]
  },
  {
   "cell_type": "markdown",
   "metadata": {
    "id": "mwzalpZqiOrD"
   },
   "source": [
    "### Income (per month)"
   ]
  },
  {
   "cell_type": "code",
   "execution_count": 8,
   "metadata": {
    "colab": {
     "base_uri": "https://localhost:8080/"
    },
    "executionInfo": {
     "elapsed": 8,
     "status": "ok",
     "timestamp": 1649675208918,
     "user": {
      "displayName": "Goh Jia Yi",
      "userId": "03217675921799541747"
     },
     "user_tz": -480
    },
    "id": "CccY1t06iirs",
    "outputId": "5f7a9b2f-08b4-4208-e4d0-5955671554b7"
   },
   "outputs": [
    {
     "data": {
      "text/plain": [
       "Prefer Not to Say        145\n",
       "Rs. 25,000 – 50,000       47\n",
       "Rs. 10,000 – 25,000       43\n",
       "Rs. 50,000 – 75,000       34\n",
       "Rs. 75,000 – 100,000      13\n",
       "Rs. 100,000 – 150,000      8\n",
       "Rs. 200,000 and above      8\n",
       "Rs. 150,000 – 200,000      5\n",
       "Name: Income (per month), dtype: int64"
      ]
     },
     "execution_count": 8,
     "metadata": {},
     "output_type": "execute_result"
    }
   ],
   "source": [
    "psycometric_data['Income (per month)'].value_counts()"
   ]
  },
  {
   "cell_type": "code",
   "execution_count": 9,
   "metadata": {
    "colab": {
     "base_uri": "https://localhost:8080/",
     "height": 482
    },
    "executionInfo": {
     "elapsed": 7,
     "status": "ok",
     "timestamp": 1649675208919,
     "user": {
      "displayName": "Goh Jia Yi",
      "userId": "03217675921799541747"
     },
     "user_tz": -480
    },
    "id": "5WC_ckxz7Afl",
    "outputId": "d6ff7b69-cb2c-4246-e968-f7f8a3cd2bb9"
   },
   "outputs": [
    {
     "data": {
      "image/png": "[encoded data removed]",
      "text/plain": [
       "<Figure size 864x432 with 1 Axes>"
      ]
     },
     "metadata": {
      "needs_background": "light"
     },
     "output_type": "display_data"
    }
   ],
   "source": [
    "plt.figure(figsize=(12,6))\n",
    "sns.histplot(psycometric_data['Income (per month)'])\n",
    "plt.title(\"Bar Plot of Income (per month)\")\n",
    "plt.xticks(rotation=45)\n",
    "plt.show()"
   ]
  },
  {
   "cell_type": "raw",
   "metadata": {},
   "source": [
    "Will neglect perfer not to say and clearly see the customers with monthly income 25,000 - 50,000 purchase on flipkart. The reason behind it is Affordable Prices as flipkart often offers discounts and deals on a wide range of products, making them more affordable for people with lower incomes. This could make Flipkart an attractive option for people who want to stretch their budget further."
   ]
  },
  {
   "cell_type": "markdown",
   "metadata": {
    "id": "Qjd4f8sniXVO"
   },
   "source": [
    "### Preferred Mode of Payment"
   ]
  },
  {
   "cell_type": "code",
   "execution_count": 10,
   "metadata": {
    "colab": {
     "base_uri": "https://localhost:8080/"
    },
    "executionInfo": {
     "elapsed": 6,
     "status": "ok",
     "timestamp": 1649675209224,
     "user": {
      "displayName": "Goh Jia Yi",
      "userId": "03217675921799541747"
     },
     "user_tz": -480
    },
    "id": "_0GIWdcoiity",
    "outputId": "5bc7778c-54f2-488f-d9f5-73c0e81b915b"
   },
   "outputs": [
    {
     "data": {
      "text/plain": [
       "UPI                 198\n",
       "Cash On Delivery     41\n",
       "Credit Card          22\n",
       "Debit Card           22\n",
       "Net Banking           8\n",
       "Online Wallets        7\n",
       "Any Other             5\n",
       "Name: Preferred Mode of Payment, dtype: int64"
      ]
     },
     "execution_count": 10,
     "metadata": {},
     "output_type": "execute_result"
    }
   ],
   "source": [
    "psycometric_data['Preferred Mode of Payment'].value_counts()"
   ]
  },
  {
   "cell_type": "code",
   "execution_count": 11,
   "metadata": {
    "colab": {
     "base_uri": "https://localhost:8080/",
     "height": 462
    },
    "executionInfo": {
     "elapsed": 765,
     "status": "ok",
     "timestamp": 1649675209985,
     "user": {
      "displayName": "Goh Jia Yi",
      "userId": "03217675921799541747"
     },
     "user_tz": -480
    },
    "id": "62Ok9VIiAs02",
    "outputId": "193c5f1c-00b2-474d-b845-bce1ac527f9f"
   },
   "outputs": [
    {
     "data": {
      "image/png": "[encoded data removed]",
      "text/plain": [
       "<Figure size 864x432 with 1 Axes>"
      ]
     },
     "metadata": {
      "needs_background": "light"
     },
     "output_type": "display_data"
    }
   ],
   "source": [
    "plt.figure(figsize=(12,6))\n",
    "sns.histplot(psycometric_data['Preferred Mode of Payment'])\n",
    "plt.title(\"Bar Plot of Preferred Mode of Payment\")\n",
    "plt.xticks(rotation=45)\n",
    "plt.show()"
   ]
  },
  {
   "cell_type": "raw",
   "metadata": {},
   "source": [
    "From the above plot we can draw some conclusion like:\n",
    "- UPI is a popular payment method: The fact that UPI is the most commonly used payment method could indicate that it is a preferred payment method among customers. This could be due to its ease of use and widespread adoption in India.\n",
    "\n",
    "- Cash On Delivery is still relevant: Despite the rise of digital payment methods, Cash On Delivery remains a popular payment method. This could be due to a variety of factors, such as a lack of trust in digital payments, or simply a preference for paying with cash.\n",
    "\n",
    "- Debit and Credit Cards are still widely used: While UPI is the most commonly used payment method, it is interesting to note that Debit and Credit Cards are still being used by a significant number of customers. This suggests that digital payments are becoming more widely accepted and adopted, but are not yet the sole payment method of choice for all customers."
   ]
  },
  {
   "cell_type": "markdown",
   "metadata": {
    "id": "iq_oJ0C2ixTO"
   },
   "source": [
    "### Lives in City Tier"
   ]
  },
  {
   "cell_type": "code",
   "execution_count": 12,
   "metadata": {
    "colab": {
     "base_uri": "https://localhost:8080/"
    },
    "executionInfo": {
     "elapsed": 15,
     "status": "ok",
     "timestamp": 1649675211367,
     "user": {
      "displayName": "Goh Jia Yi",
      "userId": "03217675921799541747"
     },
     "user_tz": -480
    },
    "id": "s9kXHywfivGQ",
    "outputId": "5fed9ea5-5dd1-4b5b-9504-be2c1f939cc4"
   },
   "outputs": [
    {
     "data": {
      "text/plain": [
       "Tier 3    130\n",
       "Tier 2    113\n",
       "Tier 1     60\n",
       "Name: Lives in City Tier, dtype: int64"
      ]
     },
     "execution_count": 12,
     "metadata": {},
     "output_type": "execute_result"
    }
   ],
   "source": [
    "psycometric_data['Lives in City Tier'].value_counts()"
   ]
  },
  {
   "cell_type": "code",
   "execution_count": 13,
   "metadata": {
    "colab": {
     "base_uri": "https://localhost:8080/",
     "height": 350
    },
    "executionInfo": {
     "elapsed": 10,
     "status": "ok",
     "timestamp": 1649675211368,
     "user": {
      "displayName": "Goh Jia Yi",
      "userId": "03217675921799541747"
     },
     "user_tz": -480
    },
    "id": "Ljo6Hqpd5Mzz",
    "outputId": "07e3a025-b896-49b7-a34b-c9847670b091"
   },
   "outputs": [
    {
     "name": "stderr",
     "output_type": "stream",
     "text": [
      "C:\\Users\\ASUS\\Anaconda3\\lib\\site-packages\\seaborn\\_decorators.py:43: FutureWarning: Pass the following variable as a keyword arg: x. From version 0.12, the only valid positional argument will be `data`, and passing other arguments without an explicit keyword will result in an error or misinterpretation.\n",
      "  FutureWarning\n"
     ]
    },
    {
     "data": {
      "image/png": "[encoded data removed]",
      "text/plain": [
       "<Figure size 432x288 with 1 Axes>"
      ]
     },
     "metadata": {
      "needs_background": "light"
     },
     "output_type": "display_data"
    }
   ],
   "source": [
    "sns.countplot(psycometric_data['Lives in City Tier'])\n",
    "plt.title(\"Bar Plot of Lives in City Tier\")\n",
    "plt.show()"
   ]
  },
  {
   "cell_type": "raw",
   "metadata": {},
   "source": [
    "From the above plot, it is interesting to note that the number of customers from Tier 3 cities is more than those from Tier 2 and Tier 1 cities on Flipkart. This could be due to a variety of factors, such as:\n",
    "\n",
    " - Increasing Internet penetration: With the rise of affordable smartphones and mobile data plans, more people in Tier 3 cities are gaining access to the internet. This could lead to an increase in the number of people using online marketplaces like Flipkart.\n",
    "\n",
    " - Limited access to physical stores: Tier 3 cities may not have as many physical stores or as many options for shopping as Tier 1 and Tier 2 cities. Online marketplaces like Flipkart can offer a wider variety of products at competitive prices, which could be attractive to customers in these cities.\n",
    "\n",
    " - Trust in online shopping: As more people in India become familiar with online shopping, they may be more likely to trust online marketplaces like Flipkart. This could lead to an increase in the number of people in Tier 3 cities using these platforms.\n",
    "\n",
    " - Tailored marketing: Flipkart may have tailored its marketing efforts to target customers in Tier 3 cities. By offering targeted promotions and advertising, Flipkart may be able to attract more customers from these areas.\n",
    "\n",
    "Overall, the higher number of customers from Tier 3 cities on Flipkart could be indicative of changing consumer behaviors in India, as well as the platform's ability to reach and serve customers in a variety of locations."
   ]
  }
 ],
 "metadata": {
  "colab": {
   "collapsed_sections": [],
   "name": "Data Cleaning & EDA (Psychometric and Demographic).ipnyb",
   "provenance": [],
   "toc_visible": true
  },
  "kernelspec": {
   "display_name": "Python 3 (ipykernel)",
   "language": "python",
   "name": "python3"
  },
  "language_info": {
   "codemirror_mode": {
    "name": "ipython",
    "version": 3
   },
   "file_extension": ".py",
   "mimetype": "text/x-python",
   "name": "python",
   "nbconvert_exporter": "python",
   "pygments_lexer": "ipython3",
   "version": "3.9.12"
  }
 },
 "nbformat": 4,
 "nbformat_minor": 1
}
